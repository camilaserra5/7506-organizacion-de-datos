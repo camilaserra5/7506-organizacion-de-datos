{
 "cells": [
  {
   "cell_type": "code",
   "execution_count": 42,
   "metadata": {},
   "outputs": [],
   "source": [
    "import pandas as pd\n",
    "import matplotlib.pyplot as plt\n",
    "import math"
   ]
  },
  {
   "cell_type": "code",
   "execution_count": 2,
   "metadata": {},
   "outputs": [],
   "source": [
    "df = pd.read_csv(\"ResultadosXGB_rob.csv\")"
   ]
  },
  {
   "cell_type": "code",
   "execution_count": 3,
   "metadata": {},
   "outputs": [
    {
     "name": "stdout",
     "output_type": "stream",
     "text": [
      "<class 'pandas.core.frame.DataFrame'>\n",
      "RangeIndex: 60000 entries, 0 to 59999\n",
      "Data columns (total 2 columns):\n",
      "id        60000 non-null int64\n",
      "target    60000 non-null float64\n",
      "dtypes: float64(1), int64(1)\n",
      "memory usage: 937.6 KB\n"
     ]
    }
   ],
   "source": [
    "df.info()"
   ]
  },
  {
   "cell_type": "code",
   "execution_count": 4,
   "metadata": {},
   "outputs": [
    {
     "data": {
      "text/plain": [
       "-405602.62"
      ]
     },
     "execution_count": 4,
     "metadata": {},
     "output_type": "execute_result"
    }
   ],
   "source": [
    "df.target.min()"
   ]
  },
  {
   "cell_type": "code",
   "execution_count": 12,
   "metadata": {},
   "outputs": [
    {
     "data": {
      "text/plain": [
       "(array([2.000e+00, 0.000e+00, 0.000e+00, 0.000e+00, 0.000e+00, 0.000e+00,\n",
       "        1.000e+00, 0.000e+00, 2.000e+00, 0.000e+00, 1.100e+01, 2.500e+01,\n",
       "        9.500e+01, 2.320e+02, 4.160e+02, 6.820e+02, 9.380e+02, 1.071e+03,\n",
       "        1.165e+03, 1.172e+03, 1.112e+03, 1.068e+03, 1.062e+03, 1.036e+03,\n",
       "        9.850e+02, 9.840e+02, 9.990e+02, 9.470e+02, 8.980e+02, 8.870e+02,\n",
       "        9.120e+02, 8.660e+02, 9.390e+02, 8.940e+02, 8.940e+02, 9.730e+02,\n",
       "        8.580e+02, 8.800e+02, 8.680e+02, 8.340e+02, 8.200e+02, 8.660e+02,\n",
       "        8.110e+02, 7.680e+02, 7.590e+02, 7.220e+02, 7.530e+02, 7.160e+02,\n",
       "        6.840e+02, 6.530e+02, 7.000e+02, 6.640e+02, 6.340e+02, 6.100e+02,\n",
       "        6.030e+02, 5.910e+02, 5.920e+02, 5.470e+02, 5.650e+02, 5.290e+02,\n",
       "        5.290e+02, 5.390e+02, 4.650e+02, 4.950e+02, 4.900e+02, 4.750e+02,\n",
       "        4.560e+02, 4.550e+02, 3.770e+02, 4.320e+02, 4.530e+02, 3.670e+02,\n",
       "        4.030e+02, 3.750e+02, 3.510e+02, 3.730e+02, 3.620e+02, 3.500e+02,\n",
       "        3.290e+02, 3.660e+02, 3.430e+02, 3.370e+02, 3.520e+02, 2.890e+02,\n",
       "        2.960e+02, 3.050e+02, 3.050e+02, 2.720e+02, 3.080e+02, 2.570e+02,\n",
       "        2.520e+02, 2.630e+02, 2.240e+02, 2.490e+02, 2.510e+02, 2.210e+02,\n",
       "        2.470e+02, 2.080e+02, 2.230e+02, 2.150e+02, 2.050e+02, 2.070e+02,\n",
       "        2.020e+02, 1.950e+02, 1.830e+02, 1.850e+02, 1.690e+02, 1.770e+02,\n",
       "        1.530e+02, 1.750e+02, 1.550e+02, 1.520e+02, 1.540e+02, 1.340e+02,\n",
       "        1.190e+02, 1.430e+02, 1.480e+02, 1.370e+02, 1.370e+02, 1.280e+02,\n",
       "        1.240e+02, 1.250e+02, 1.220e+02, 1.130e+02, 1.010e+02, 1.100e+02,\n",
       "        1.180e+02, 1.050e+02, 1.040e+02, 1.010e+02, 1.060e+02, 9.400e+01,\n",
       "        1.030e+02, 8.000e+01, 9.900e+01, 8.900e+01, 9.700e+01, 9.200e+01,\n",
       "        8.700e+01, 8.600e+01, 6.900e+01, 8.000e+01, 7.100e+01, 7.000e+01,\n",
       "        7.800e+01, 6.200e+01, 7.500e+01, 6.400e+01, 7.300e+01, 5.400e+01,\n",
       "        7.200e+01, 6.200e+01, 4.900e+01, 6.300e+01, 5.200e+01, 5.900e+01,\n",
       "        6.600e+01, 4.200e+01, 4.500e+01, 4.900e+01, 4.600e+01, 4.400e+01,\n",
       "        3.900e+01, 3.400e+01, 4.300e+01, 4.600e+01, 4.700e+01, 3.600e+01,\n",
       "        3.400e+01, 4.600e+01, 3.500e+01, 4.200e+01, 3.500e+01, 3.100e+01,\n",
       "        2.600e+01, 2.900e+01, 3.700e+01, 2.700e+01, 1.900e+01, 2.600e+01,\n",
       "        2.900e+01, 2.200e+01, 2.700e+01, 2.700e+01, 3.100e+01, 1.200e+01,\n",
       "        1.400e+01, 1.800e+01, 2.400e+01, 2.400e+01, 2.400e+01, 2.500e+01,\n",
       "        2.700e+01, 1.800e+01, 1.200e+01, 1.100e+01, 1.100e+01, 1.500e+01,\n",
       "        5.000e+00, 1.800e+01, 7.000e+00, 8.000e+00, 1.000e+01, 1.500e+01,\n",
       "        1.000e+01, 8.000e+00, 1.200e+01, 5.000e+00, 6.000e+00, 1.200e+01,\n",
       "        5.000e+00, 5.000e+00, 1.000e+00, 3.000e+00, 5.000e+00, 4.000e+00,\n",
       "        3.000e+00, 5.000e+00, 3.000e+00, 2.000e+00, 4.000e+00, 0.000e+00,\n",
       "        2.000e+00, 6.000e+00, 2.000e+00, 2.000e+00, 3.000e+00, 3.000e+00,\n",
       "        2.000e+00, 2.000e+00, 1.000e+00, 1.000e+00, 0.000e+00, 0.000e+00,\n",
       "        0.000e+00, 0.000e+00, 0.000e+00, 1.000e+00, 0.000e+00, 2.000e+00,\n",
       "        0.000e+00, 0.000e+00, 0.000e+00, 0.000e+00, 0.000e+00, 0.000e+00,\n",
       "        0.000e+00, 0.000e+00, 0.000e+00, 1.000e+00]),\n",
       " array([-4.05602620e+05, -3.54384474e+05, -3.03166327e+05, -2.51948181e+05,\n",
       "        -2.00730034e+05, -1.49511888e+05, -9.82937411e+04, -4.70755946e+04,\n",
       "         4.14255184e+03,  5.53606983e+04,  1.06578845e+05,  1.57796991e+05,\n",
       "         2.09015138e+05,  2.60233284e+05,  3.11451431e+05,  3.62669577e+05,\n",
       "         4.13887724e+05,  4.65105870e+05,  5.16324017e+05,  5.67542163e+05,\n",
       "         6.18760310e+05,  6.69978456e+05,  7.21196603e+05,  7.72414749e+05,\n",
       "         8.23632896e+05,  8.74851042e+05,  9.26069188e+05,  9.77287335e+05,\n",
       "         1.02850548e+06,  1.07972363e+06,  1.13094177e+06,  1.18215992e+06,\n",
       "         1.23337807e+06,  1.28459621e+06,  1.33581436e+06,  1.38703251e+06,\n",
       "         1.43825065e+06,  1.48946880e+06,  1.54068695e+06,  1.59190509e+06,\n",
       "         1.64312324e+06,  1.69434139e+06,  1.74555953e+06,  1.79677768e+06,\n",
       "         1.84799583e+06,  1.89921397e+06,  1.95043212e+06,  2.00165026e+06,\n",
       "         2.05286841e+06,  2.10408656e+06,  2.15530470e+06,  2.20652285e+06,\n",
       "         2.25774100e+06,  2.30895914e+06,  2.36017729e+06,  2.41139544e+06,\n",
       "         2.46261358e+06,  2.51383173e+06,  2.56504988e+06,  2.61626802e+06,\n",
       "         2.66748617e+06,  2.71870432e+06,  2.76992246e+06,  2.82114061e+06,\n",
       "         2.87235875e+06,  2.92357690e+06,  2.97479505e+06,  3.02601319e+06,\n",
       "         3.07723134e+06,  3.12844949e+06,  3.17966763e+06,  3.23088578e+06,\n",
       "         3.28210393e+06,  3.33332207e+06,  3.38454022e+06,  3.43575837e+06,\n",
       "         3.48697651e+06,  3.53819466e+06,  3.58941281e+06,  3.64063095e+06,\n",
       "         3.69184910e+06,  3.74306724e+06,  3.79428539e+06,  3.84550354e+06,\n",
       "         3.89672168e+06,  3.94793983e+06,  3.99915798e+06,  4.05037612e+06,\n",
       "         4.10159427e+06,  4.15281242e+06,  4.20403056e+06,  4.25524871e+06,\n",
       "         4.30646686e+06,  4.35768500e+06,  4.40890315e+06,  4.46012130e+06,\n",
       "         4.51133944e+06,  4.56255759e+06,  4.61377574e+06,  4.66499388e+06,\n",
       "         4.71621203e+06,  4.76743017e+06,  4.81864832e+06,  4.86986647e+06,\n",
       "         4.92108461e+06,  4.97230276e+06,  5.02352091e+06,  5.07473905e+06,\n",
       "         5.12595720e+06,  5.17717535e+06,  5.22839349e+06,  5.27961164e+06,\n",
       "         5.33082979e+06,  5.38204793e+06,  5.43326608e+06,  5.48448423e+06,\n",
       "         5.53570237e+06,  5.58692052e+06,  5.63813866e+06,  5.68935681e+06,\n",
       "         5.74057496e+06,  5.79179310e+06,  5.84301125e+06,  5.89422940e+06,\n",
       "         5.94544754e+06,  5.99666569e+06,  6.04788384e+06,  6.09910198e+06,\n",
       "         6.15032013e+06,  6.20153828e+06,  6.25275642e+06,  6.30397457e+06,\n",
       "         6.35519272e+06,  6.40641086e+06,  6.45762901e+06,  6.50884715e+06,\n",
       "         6.56006530e+06,  6.61128345e+06,  6.66250159e+06,  6.71371974e+06,\n",
       "         6.76493789e+06,  6.81615603e+06,  6.86737418e+06,  6.91859233e+06,\n",
       "         6.96981047e+06,  7.02102862e+06,  7.07224677e+06,  7.12346491e+06,\n",
       "         7.17468306e+06,  7.22590121e+06,  7.27711935e+06,  7.32833750e+06,\n",
       "         7.37955564e+06,  7.43077379e+06,  7.48199194e+06,  7.53321008e+06,\n",
       "         7.58442823e+06,  7.63564638e+06,  7.68686452e+06,  7.73808267e+06,\n",
       "         7.78930082e+06,  7.84051896e+06,  7.89173711e+06,  7.94295526e+06,\n",
       "         7.99417340e+06,  8.04539155e+06,  8.09660970e+06,  8.14782784e+06,\n",
       "         8.19904599e+06,  8.25026414e+06,  8.30148228e+06,  8.35270043e+06,\n",
       "         8.40391857e+06,  8.45513672e+06,  8.50635487e+06,  8.55757301e+06,\n",
       "         8.60879116e+06,  8.66000931e+06,  8.71122745e+06,  8.76244560e+06,\n",
       "         8.81366375e+06,  8.86488189e+06,  8.91610004e+06,  8.96731819e+06,\n",
       "         9.01853633e+06,  9.06975448e+06,  9.12097263e+06,  9.17219077e+06,\n",
       "         9.22340892e+06,  9.27462706e+06,  9.32584521e+06,  9.37706336e+06,\n",
       "         9.42828150e+06,  9.47949965e+06,  9.53071780e+06,  9.58193594e+06,\n",
       "         9.63315409e+06,  9.68437224e+06,  9.73559038e+06,  9.78680853e+06,\n",
       "         9.83802668e+06,  9.88924482e+06,  9.94046297e+06,  9.99168112e+06,\n",
       "         1.00428993e+07,  1.00941174e+07,  1.01453356e+07,  1.01965537e+07,\n",
       "         1.02477718e+07,  1.02989900e+07,  1.03502081e+07,  1.04014263e+07,\n",
       "         1.04526444e+07,  1.05038626e+07,  1.05550807e+07,  1.06062989e+07,\n",
       "         1.06575170e+07,  1.07087352e+07,  1.07599533e+07,  1.08111715e+07,\n",
       "         1.08623896e+07,  1.09136078e+07,  1.09648259e+07,  1.10160440e+07,\n",
       "         1.10672622e+07,  1.11184803e+07,  1.11696985e+07,  1.12209166e+07,\n",
       "         1.12721348e+07,  1.13233529e+07,  1.13745711e+07,  1.14257892e+07,\n",
       "         1.14770074e+07,  1.15282255e+07,  1.15794437e+07,  1.16306618e+07,\n",
       "         1.16818799e+07,  1.17330981e+07,  1.17843162e+07,  1.18355344e+07,\n",
       "         1.18867525e+07,  1.19379707e+07,  1.19891888e+07,  1.20404070e+07,\n",
       "         1.20916251e+07,  1.21428433e+07,  1.21940614e+07,  1.22452796e+07,\n",
       "         1.22964977e+07,  1.23477159e+07,  1.23989340e+07]),\n",
       " <a list of 250 Patch objects>)"
      ]
     },
     "execution_count": 12,
     "metadata": {},
     "output_type": "execute_result"
    },
    {
     "data": {
      "image/png": "[encoded data removed]",
      "text/plain": [
       "<Figure size 432x288 with 1 Axes>"
      ]
     },
     "metadata": {
      "needs_background": "light"
     },
     "output_type": "display_data"
    }
   ],
   "source": [
    "plt.hist(df.target, bins=250)"
   ]
  },
  {
   "cell_type": "code",
   "execution_count": 34,
   "metadata": {},
   "outputs": [
    {
     "name": "stdout",
     "output_type": "stream",
     "text": [
      "2764293.4429999995\n"
     ]
    }
   ],
   "source": [
    "res  = 0\n",
    "for elem in list(df[df['target']<200000]['target']):\n",
    "    res += 200000 - elem\n",
    "print(res)"
   ]
  },
  {
   "cell_type": "code",
   "execution_count": 23,
   "metadata": {},
   "outputs": [
    {
     "data": {
      "text/plain": [
       "id        33\n",
       "target    33\n",
       "dtype: int64"
      ]
     },
     "execution_count": 23,
     "metadata": {},
     "output_type": "execute_result"
    }
   ],
   "source": [
    "df[df['target']<200000].count()"
   ]
  },
  {
   "cell_type": "code",
   "execution_count": 38,
   "metadata": {},
   "outputs": [],
   "source": [
    "df_train = pd.read_csv(\"train.csv\")"
   ]
  },
  {
   "cell_type": "code",
   "execution_count": 40,
   "metadata": {},
   "outputs": [
    {
     "data": {
      "text/plain": [
       "(array([11327., 12708., 11126., 11178., 10797.,  8050.,  7880.,  8612.,\n",
       "        10365.,  7786.,  8545.,  6364.,  7229.,  7744.,  3547.,  6085.,\n",
       "         5003.,  7144.,  3833.,  4816.,  4045.,  4531.,  3960.,  3409.,\n",
       "         3673.,  2367.,  5156.,  2188.,  3008.,  2480.,  2202.,  2503.,\n",
       "         1732.,  1602.,  2622.,  1833.,  1526.,  1781.,  1568.,   631.,\n",
       "         1638.,   730.,  1930.,   806.,  1404.,   855.,  1571.,   385.,\n",
       "          695.,   848.,  1538.,   475.,   438.,   992.,  1162.,   237.,\n",
       "          415.,   360.,  1135.,   217.,   292.,   490.,  1073.,   126.,\n",
       "          297.,   262.,   231.,   778.,   146.,   245.,   324.,   507.,\n",
       "          142.,   151.,   117.,   395.,   142.,   172.,   165.,   422.,\n",
       "          101.,    76.,    49.,   341.,    63.,   180.,   128.,   392.,\n",
       "           33.,   108.,    56.,   230.,    35.,    56.,   151.,   346.,\n",
       "           18.,    45.,    77.,   251.]),\n",
       " array([  310000.,   432150.,   554300.,   676450.,   798600.,   920750.,\n",
       "         1042900.,  1165050.,  1287200.,  1409350.,  1531500.,  1653650.,\n",
       "         1775800.,  1897950.,  2020100.,  2142250.,  2264400.,  2386550.,\n",
       "         2508700.,  2630850.,  2753000.,  2875150.,  2997300.,  3119450.,\n",
       "         3241600.,  3363750.,  3485900.,  3608050.,  3730200.,  3852350.,\n",
       "         3974500.,  4096650.,  4218800.,  4340950.,  4463100.,  4585250.,\n",
       "         4707400.,  4829550.,  4951700.,  5073850.,  5196000.,  5318150.,\n",
       "         5440300.,  5562450.,  5684600.,  5806750.,  5928900.,  6051050.,\n",
       "         6173200.,  6295350.,  6417500.,  6539650.,  6661800.,  6783950.,\n",
       "         6906100.,  7028250.,  7150400.,  7272550.,  7394700.,  7516850.,\n",
       "         7639000.,  7761150.,  7883300.,  8005450.,  8127600.,  8249750.,\n",
       "         8371900.,  8494050.,  8616200.,  8738350.,  8860500.,  8982650.,\n",
       "         9104800.,  9226950.,  9349100.,  9471250.,  9593400.,  9715550.,\n",
       "         9837700.,  9959850., 10082000., 10204150., 10326300., 10448450.,\n",
       "        10570600., 10692750., 10814900., 10937050., 11059200., 11181350.,\n",
       "        11303500., 11425650., 11547800., 11669950., 11792100., 11914250.,\n",
       "        12036400., 12158550., 12280700., 12402850., 12525000.]),\n",
       " <a list of 100 Patch objects>)"
      ]
     },
     "execution_count": 40,
     "metadata": {},
     "output_type": "execute_result"
    },
    {
     "data": {
      "image/png": "[encoded data removed]",
      "text/plain": [
       "<Figure size 432x288 with 1 Axes>"
      ]
     },
     "metadata": {
      "needs_background": "light"
     },
     "output_type": "display_data"
    }
   ],
   "source": [
    "plt.hist(df_train.precio, bins=100)"
   ]
  },
  {
   "cell_type": "code",
   "execution_count": 48,
   "metadata": {},
   "outputs": [],
   "source": [
    "def asdlog(x):\n",
    "    return math.log(x)\n",
    "\n",
    "df_train['log_prec'] = df_train.apply(lambda x: asdlog(x['precio']), axis=1)"
   ]
  },
  {
   "cell_type": "code",
   "execution_count": 49,
   "metadata": {},
   "outputs": [
    {
     "data": {
      "text/plain": [
       "(array([1126.,  873.,  822., 1405., 1312., 1287., 1980.,  742., 1781.,\n",
       "         932., 2521., 1715., 2537., 1255., 1265., 3122., 1806., 2694.,\n",
       "        1200., 1407., 3180., 2404., 2436., 3368., 1836., 3152., 1521.,\n",
       "        3374., 3491., 1362., 3022., 3726., 1827., 1074., 3201., 2494.,\n",
       "        4271., 3245., 4313., 3166., 3877., 2487., 4980., 2672., 4030.,\n",
       "        3685., 4526., 3973., 3500., 4120., 3828., 3148., 4517., 2109.,\n",
       "        4363., 3521., 4987., 2879., 3616., 4917., 3587., 3514., 2593.,\n",
       "        5221., 2353., 4407., 2730., 3491., 3119., 2875., 2388., 2459.,\n",
       "        3679., 1597., 2788., 2081., 1776., 2601., 1501., 1965., 2040.,\n",
       "        1087., 2012., 1434., 1401.,  941., 1395., 1642.,  622., 1084.,\n",
       "         680.,  794.,  609.,  806.,  233.,  588.,  609.,  368.,  559.,\n",
       "         391.]),\n",
       " array([12.64432758, 12.68131667, 12.71830577, 12.75529487, 12.79228396,\n",
       "        12.82927306, 12.86626215, 12.90325125, 12.94024035, 12.97722944,\n",
       "        13.01421854, 13.05120764, 13.08819673, 13.12518583, 13.16217492,\n",
       "        13.19916402, 13.23615312, 13.27314221, 13.31013131, 13.34712041,\n",
       "        13.3841095 , 13.4210986 , 13.45808769, 13.49507679, 13.53206589,\n",
       "        13.56905498, 13.60604408, 13.64303318, 13.68002227, 13.71701137,\n",
       "        13.75400047, 13.79098956, 13.82797866, 13.86496775, 13.90195685,\n",
       "        13.93894595, 13.97593504, 14.01292414, 14.04991324, 14.08690233,\n",
       "        14.12389143, 14.16088052, 14.19786962, 14.23485872, 14.27184781,\n",
       "        14.30883691, 14.34582601, 14.3828151 , 14.4198042 , 14.45679329,\n",
       "        14.49378239, 14.53077149, 14.56776058, 14.60474968, 14.64173878,\n",
       "        14.67872787, 14.71571697, 14.75270606, 14.78969516, 14.82668426,\n",
       "        14.86367335, 14.90066245, 14.93765155, 14.97464064, 15.01162974,\n",
       "        15.04861883, 15.08560793, 15.12259703, 15.15958612, 15.19657522,\n",
       "        15.23356432, 15.27055341, 15.30754251, 15.34453161, 15.3815207 ,\n",
       "        15.4185098 , 15.45549889, 15.49248799, 15.52947709, 15.56646618,\n",
       "        15.60345528, 15.64044438, 15.67743347, 15.71442257, 15.75141166,\n",
       "        15.78840076, 15.82538986, 15.86237895, 15.89936805, 15.93635715,\n",
       "        15.97334624, 16.01033534, 16.04732443, 16.08431353, 16.12130263,\n",
       "        16.15829172, 16.19528082, 16.23226992, 16.26925901, 16.30624811,\n",
       "        16.3432372 ]),\n",
       " <a list of 100 Patch objects>)"
      ]
     },
     "execution_count": 49,
     "metadata": {},
     "output_type": "execute_result"
    },
    {
     "data": {
      "image/png": "[encoded data removed]",
      "text/plain": [
       "<Figure size 432x288 with 1 Axes>"
      ]
     },
     "metadata": {
      "needs_background": "light"
     },
     "output_type": "display_data"
    }
   ],
   "source": [
    "plt.hist(df_train['log_prec'], bins=100)"
   ]
  },
  {
   "cell_type": "code",
   "execution_count": 51,
   "metadata": {},
   "outputs": [
    {
     "data": {
      "text/plain": [
       "count    240000.000000\n",
       "mean         14.410487\n",
       "std           0.837643\n",
       "min          12.644328\n",
       "25%          13.767131\n",
       "50%          14.430696\n",
       "75%          15.036340\n",
       "max          16.343237\n",
       "Name: log_prec, dtype: float64"
      ]
     },
     "execution_count": 51,
     "metadata": {},
     "output_type": "execute_result"
    }
   ],
   "source": [
    "df_train.log_prec.describe()"
   ]
  },
  {
   "cell_type": "code",
   "execution_count": 60,
   "metadata": {},
   "outputs": [
    {
     "data": {
      "text/plain": [
       "16.05226728"
      ]
     },
     "execution_count": 60,
     "metadata": {},
     "output_type": "execute_result"
    }
   ],
   "source": [
    "14.410487+(1.96*0.837643)"
   ]
  },
  {
   "cell_type": "code",
   "execution_count": 61,
   "metadata": {},
   "outputs": [
    {
     "data": {
      "text/plain": [
       "12.768706719999999"
      ]
     },
     "execution_count": 61,
     "metadata": {},
     "output_type": "execute_result"
    }
   ],
   "source": [
    "14.410487-(1.96*0.837643)"
   ]
  },
  {
   "cell_type": "code",
   "execution_count": 68,
   "metadata": {},
   "outputs": [
    {
     "data": {
      "text/plain": [
       "179871.8622537509"
      ]
     },
     "execution_count": 68,
     "metadata": {},
     "output_type": "execute_result"
    }
   ],
   "source": [
    "math.e**12.1"
   ]
  },
  {
   "cell_type": "code",
   "execution_count": 69,
   "metadata": {},
   "outputs": [
    {
     "data": {
      "text/plain": [
       "9362915.45323114"
      ]
     },
     "execution_count": 69,
     "metadata": {},
     "output_type": "execute_result"
    }
   ],
   "source": [
    "math.e**16.05226728"
   ]
  },
  {
   "cell_type": "code",
   "execution_count": 72,
   "metadata": {},
   "outputs": [
    {
     "data": {
      "text/plain": [
       "12398934.0"
      ]
     },
     "execution_count": 72,
     "metadata": {},
     "output_type": "execute_result"
    }
   ],
   "source": [
    "df.target.max()"
   ]
  },
  {
   "cell_type": "code",
   "execution_count": 73,
   "metadata": {},
   "outputs": [
    {
     "data": {
      "text/plain": [
       "12525000.0"
      ]
     },
     "execution_count": 73,
     "metadata": {},
     "output_type": "execute_result"
    }
   ],
   "source": []
  },
  {
   "cell_type": "code",
   "execution_count": 74,
   "metadata": {},
   "outputs": [],
   "source": [
    "df = pd.read_csv(\"ResultadosXGB.csv\")"
   ]
  },
  {
   "cell_type": "code",
   "execution_count": 85,
   "metadata": {},
   "outputs": [
    {
     "data": {
      "text/plain": [
       "631086.0"
      ]
     },
     "execution_count": 85,
     "metadata": {},
     "output_type": "execute_result"
    }
   ],
   "source": [
    "df_train.precio.max() - df.target.max()"
   ]
  },
  {
   "cell_type": "code",
   "execution_count": 76,
   "metadata": {},
   "outputs": [
    {
     "data": {
      "text/plain": [
       "(array([1.000e+00, 1.000e+00, 2.000e+00, 3.000e+00, 4.000e+00, 3.800e+01,\n",
       "        1.760e+02, 3.690e+02, 6.960e+02, 9.940e+02, 1.184e+03, 1.206e+03,\n",
       "        1.208e+03, 1.103e+03, 1.037e+03, 1.015e+03, 9.910e+02, 9.170e+02,\n",
       "        9.180e+02, 9.030e+02, 8.680e+02, 8.610e+02, 8.550e+02, 8.250e+02,\n",
       "        8.580e+02, 8.260e+02, 8.710e+02, 7.680e+02, 8.430e+02, 8.100e+02,\n",
       "        8.310e+02, 8.460e+02, 8.170e+02, 7.660e+02, 7.790e+02, 7.450e+02,\n",
       "        7.910e+02, 7.350e+02, 7.110e+02, 7.570e+02, 6.900e+02, 6.740e+02,\n",
       "        6.570e+02, 6.440e+02, 5.840e+02, 6.510e+02, 6.360e+02, 5.720e+02,\n",
       "        6.010e+02, 5.580e+02, 5.550e+02, 5.270e+02, 5.480e+02, 5.250e+02,\n",
       "        5.100e+02, 4.820e+02, 5.110e+02, 4.550e+02, 4.740e+02, 4.350e+02,\n",
       "        4.370e+02, 4.380e+02, 4.600e+02, 4.220e+02, 4.040e+02, 3.640e+02,\n",
       "        4.030e+02, 3.560e+02, 3.760e+02, 3.530e+02, 3.620e+02, 3.430e+02,\n",
       "        3.300e+02, 3.570e+02, 3.340e+02, 3.270e+02, 3.340e+02, 3.120e+02,\n",
       "        3.080e+02, 2.970e+02, 3.020e+02, 2.990e+02, 2.880e+02, 2.500e+02,\n",
       "        2.730e+02, 2.710e+02, 2.340e+02, 2.340e+02, 2.640e+02, 2.170e+02,\n",
       "        2.370e+02, 2.390e+02, 2.160e+02, 2.290e+02, 2.160e+02, 1.890e+02,\n",
       "        2.010e+02, 2.000e+02, 2.460e+02, 2.110e+02, 2.000e+02, 1.680e+02,\n",
       "        1.700e+02, 1.870e+02, 1.720e+02, 1.620e+02, 1.720e+02, 1.450e+02,\n",
       "        1.420e+02, 1.600e+02, 1.510e+02, 1.420e+02, 1.260e+02, 1.400e+02,\n",
       "        1.370e+02, 1.360e+02, 1.150e+02, 1.270e+02, 1.120e+02, 1.190e+02,\n",
       "        1.180e+02, 1.100e+02, 1.110e+02, 1.180e+02, 1.080e+02, 1.220e+02,\n",
       "        1.090e+02, 9.300e+01, 8.800e+01, 1.020e+02, 1.040e+02, 8.900e+01,\n",
       "        7.500e+01, 9.600e+01, 8.700e+01, 8.500e+01, 8.100e+01, 8.100e+01,\n",
       "        8.300e+01, 7.900e+01, 7.500e+01, 6.800e+01, 8.500e+01, 7.100e+01,\n",
       "        7.300e+01, 5.500e+01, 6.000e+01, 7.600e+01, 5.200e+01, 7.000e+01,\n",
       "        5.100e+01, 5.400e+01, 7.000e+01, 5.400e+01, 6.500e+01, 5.200e+01,\n",
       "        4.900e+01, 6.100e+01, 5.100e+01, 4.700e+01, 4.000e+01, 4.800e+01,\n",
       "        4.400e+01, 4.400e+01, 3.900e+01, 4.900e+01, 3.500e+01, 4.300e+01,\n",
       "        5.100e+01, 2.800e+01, 4.000e+01, 3.000e+01, 2.400e+01, 3.700e+01,\n",
       "        2.300e+01, 3.300e+01, 3.700e+01, 2.700e+01, 3.300e+01, 2.700e+01,\n",
       "        2.600e+01, 2.800e+01, 3.000e+01, 2.600e+01, 2.100e+01, 2.900e+01,\n",
       "        2.600e+01, 1.700e+01, 3.400e+01, 1.700e+01, 2.000e+01, 2.200e+01,\n",
       "        2.900e+01, 2.800e+01, 2.000e+01, 1.900e+01, 1.600e+01, 2.000e+01,\n",
       "        1.700e+01, 2.000e+01, 1.300e+01, 1.500e+01, 2.400e+01, 1.500e+01,\n",
       "        6.000e+00, 1.000e+01, 1.400e+01, 9.000e+00, 9.000e+00, 7.000e+00,\n",
       "        1.100e+01, 6.000e+00, 1.000e+01, 1.000e+01, 5.000e+00, 1.200e+01,\n",
       "        4.000e+00, 5.000e+00, 8.000e+00, 5.000e+00, 8.000e+00, 1.000e+01,\n",
       "        7.000e+00, 2.000e+00, 4.000e+00, 8.000e+00, 3.000e+00, 5.000e+00,\n",
       "        6.000e+00, 2.000e+00, 4.000e+00, 4.000e+00, 2.000e+00, 1.000e+00,\n",
       "        2.000e+00, 3.000e+00, 4.000e+00, 3.000e+00, 1.000e+00, 3.000e+00,\n",
       "        2.000e+00, 1.000e+00, 1.000e+00, 1.000e+00, 3.000e+00, 0.000e+00,\n",
       "        0.000e+00, 1.000e+00, 0.000e+00, 2.000e+00]),\n",
       " array([2.75217430e+03, 5.03168216e+04, 9.78814689e+04, 1.45446116e+05,\n",
       "        1.93010764e+05, 2.40575411e+05, 2.88140058e+05, 3.35704705e+05,\n",
       "        3.83269353e+05, 4.30834000e+05, 4.78398647e+05, 5.25963295e+05,\n",
       "        5.73527942e+05, 6.21092589e+05, 6.68657237e+05, 7.16221884e+05,\n",
       "        7.63786531e+05, 8.11351178e+05, 8.58915826e+05, 9.06480473e+05,\n",
       "        9.54045120e+05, 1.00160977e+06, 1.04917441e+06, 1.09673906e+06,\n",
       "        1.14430371e+06, 1.19186836e+06, 1.23943300e+06, 1.28699765e+06,\n",
       "        1.33456230e+06, 1.38212695e+06, 1.42969159e+06, 1.47725624e+06,\n",
       "        1.52482089e+06, 1.57238554e+06, 1.61995018e+06, 1.66751483e+06,\n",
       "        1.71507948e+06, 1.76264412e+06, 1.81020877e+06, 1.85777342e+06,\n",
       "        1.90533807e+06, 1.95290271e+06, 2.00046736e+06, 2.04803201e+06,\n",
       "        2.09559666e+06, 2.14316130e+06, 2.19072595e+06, 2.23829060e+06,\n",
       "        2.28585524e+06, 2.33341989e+06, 2.38098454e+06, 2.42854919e+06,\n",
       "        2.47611383e+06, 2.52367848e+06, 2.57124313e+06, 2.61880778e+06,\n",
       "        2.66637242e+06, 2.71393707e+06, 2.76150172e+06, 2.80906637e+06,\n",
       "        2.85663101e+06, 2.90419566e+06, 2.95176031e+06, 2.99932495e+06,\n",
       "        3.04688960e+06, 3.09445425e+06, 3.14201890e+06, 3.18958354e+06,\n",
       "        3.23714819e+06, 3.28471284e+06, 3.33227749e+06, 3.37984213e+06,\n",
       "        3.42740678e+06, 3.47497143e+06, 3.52253607e+06, 3.57010072e+06,\n",
       "        3.61766537e+06, 3.66523002e+06, 3.71279466e+06, 3.76035931e+06,\n",
       "        3.80792396e+06, 3.85548861e+06, 3.90305325e+06, 3.95061790e+06,\n",
       "        3.99818255e+06, 4.04574720e+06, 4.09331184e+06, 4.14087649e+06,\n",
       "        4.18844114e+06, 4.23600578e+06, 4.28357043e+06, 4.33113508e+06,\n",
       "        4.37869973e+06, 4.42626437e+06, 4.47382902e+06, 4.52139367e+06,\n",
       "        4.56895832e+06, 4.61652296e+06, 4.66408761e+06, 4.71165226e+06,\n",
       "        4.75921690e+06, 4.80678155e+06, 4.85434620e+06, 4.90191085e+06,\n",
       "        4.94947549e+06, 4.99704014e+06, 5.04460479e+06, 5.09216944e+06,\n",
       "        5.13973408e+06, 5.18729873e+06, 5.23486338e+06, 5.28242802e+06,\n",
       "        5.32999267e+06, 5.37755732e+06, 5.42512197e+06, 5.47268661e+06,\n",
       "        5.52025126e+06, 5.56781591e+06, 5.61538056e+06, 5.66294520e+06,\n",
       "        5.71050985e+06, 5.75807450e+06, 5.80563915e+06, 5.85320379e+06,\n",
       "        5.90076844e+06, 5.94833309e+06, 5.99589773e+06, 6.04346238e+06,\n",
       "        6.09102703e+06, 6.13859168e+06, 6.18615632e+06, 6.23372097e+06,\n",
       "        6.28128562e+06, 6.32885027e+06, 6.37641491e+06, 6.42397956e+06,\n",
       "        6.47154421e+06, 6.51910885e+06, 6.56667350e+06, 6.61423815e+06,\n",
       "        6.66180280e+06, 6.70936744e+06, 6.75693209e+06, 6.80449674e+06,\n",
       "        6.85206139e+06, 6.89962603e+06, 6.94719068e+06, 6.99475533e+06,\n",
       "        7.04231998e+06, 7.08988462e+06, 7.13744927e+06, 7.18501392e+06,\n",
       "        7.23257856e+06, 7.28014321e+06, 7.32770786e+06, 7.37527251e+06,\n",
       "        7.42283715e+06, 7.47040180e+06, 7.51796645e+06, 7.56553110e+06,\n",
       "        7.61309574e+06, 7.66066039e+06, 7.70822504e+06, 7.75578968e+06,\n",
       "        7.80335433e+06, 7.85091898e+06, 7.89848363e+06, 7.94604827e+06,\n",
       "        7.99361292e+06, 8.04117757e+06, 8.08874222e+06, 8.13630686e+06,\n",
       "        8.18387151e+06, 8.23143616e+06, 8.27900080e+06, 8.32656545e+06,\n",
       "        8.37413010e+06, 8.42169475e+06, 8.46925939e+06, 8.51682404e+06,\n",
       "        8.56438869e+06, 8.61195334e+06, 8.65951798e+06, 8.70708263e+06,\n",
       "        8.75464728e+06, 8.80221193e+06, 8.84977657e+06, 8.89734122e+06,\n",
       "        8.94490587e+06, 8.99247051e+06, 9.04003516e+06, 9.08759981e+06,\n",
       "        9.13516446e+06, 9.18272910e+06, 9.23029375e+06, 9.27785840e+06,\n",
       "        9.32542305e+06, 9.37298769e+06, 9.42055234e+06, 9.46811699e+06,\n",
       "        9.51568163e+06, 9.56324628e+06, 9.61081093e+06, 9.65837558e+06,\n",
       "        9.70594022e+06, 9.75350487e+06, 9.80106952e+06, 9.84863417e+06,\n",
       "        9.89619881e+06, 9.94376346e+06, 9.99132811e+06, 1.00388928e+07,\n",
       "        1.00864574e+07, 1.01340220e+07, 1.01815867e+07, 1.02291513e+07,\n",
       "        1.02767160e+07, 1.03242806e+07, 1.03718453e+07, 1.04194099e+07,\n",
       "        1.04669746e+07, 1.05145392e+07, 1.05621039e+07, 1.06096685e+07,\n",
       "        1.06572332e+07, 1.07047978e+07, 1.07523625e+07, 1.07999271e+07,\n",
       "        1.08474918e+07, 1.08950564e+07, 1.09426211e+07, 1.09901857e+07,\n",
       "        1.10377503e+07, 1.10853150e+07, 1.11328796e+07, 1.11804443e+07,\n",
       "        1.12280089e+07, 1.12755736e+07, 1.13231382e+07, 1.13707029e+07,\n",
       "        1.14182675e+07, 1.14658322e+07, 1.15133968e+07, 1.15609615e+07,\n",
       "        1.16085261e+07, 1.16560908e+07, 1.17036554e+07, 1.17512201e+07,\n",
       "        1.17987847e+07, 1.18463494e+07, 1.18939140e+07]),\n",
       " <a list of 250 Patch objects>)"
      ]
     },
     "execution_count": 76,
     "metadata": {},
     "output_type": "execute_result"
    },
    {
     "data": {
      "image/png": "[encoded data removed]",
      "text/plain": [
       "<Figure size 432x288 with 1 Axes>"
      ]
     },
     "metadata": {
      "needs_background": "light"
     },
     "output_type": "display_data"
    }
   ],
   "source": [
    "plt.hist(df.target, bins=250)"
   ]
  },
  {
   "cell_type": "code",
   "execution_count": 81,
   "metadata": {},
   "outputs": [
    {
     "data": {
      "text/plain": [
       "id        2\n",
       "target    2\n",
       "dtype: int64"
      ]
     },
     "execution_count": 81,
     "metadata": {},
     "output_type": "execute_result"
    }
   ],
   "source": [
    "df[df.target < 100000].count()"
   ]
  },
  {
   "cell_type": "code",
   "execution_count": null,
   "metadata": {},
   "outputs": [],
   "source": [
    "target_lower_bound = 50000\n",
    "target_upper_bound = 250000\n",
    "\n",
    "def adjust_target_values(target_value, min_val):\n",
    "    if (target_value >= target_upper_bound):\n",
    "        return target_value\n",
    "    correction = (target_value - min_val)/(target_upper_bound - min_val)*(target_upper_bound - target_lower_bound)\n",
    "    return target_lower_bound + correction\n",
    "    \n",
    "if (df_predictions.target.min() < target_lower_bound):\n",
    "    min_val = df_predictions['target'].min()\n",
    "    df_predictions['target_corr'] = df_predictions.apply(lambda x: adjust_target_values(x['target'], min_val), axis=1)"
   ]
  }
 ],
 "metadata": {
  "kernelspec": {
   "display_name": "Python 3",
   "language": "python",
   "name": "python3"
  },
  "language_info": {
   "codemirror_mode": {
    "name": "ipython",
    "version": 3
   },
   "file_extension": ".py",
   "mimetype": "text/x-python",
   "name": "python",
   "nbconvert_exporter": "python",
   "pygments_lexer": "ipython3",
   "version": "3.7.4"
  }
 },
 "nbformat": 4,
 "nbformat_minor": 2
}
