{
 "cells": [
  {
   "cell_type": "code",
   "execution_count": 9,
   "metadata": {},
   "outputs": [],
   "source": [
    "import pandas as pd\n",
    "import numpy as np\n",
    "import matplotlib.pyplot as plt\n",
    "import seaborn as sns\n",
    "from datetime import datetime\n",
    "from sklearn.model_selection import GridSearchCV\n",
    "from math import sqrt\n",
    "from sklearn.metrics import mean_squared_error, mean_absolute_error\n",
    "import lightgbm as lgb\n",
    "from sklearn import metrics\n",
    "from sklearn.metrics import roc_curve, auc\n",
    "from sklearn.model_selection import train_test_split\n",
    "from sklearn.metrics import accuracy_score\n",
    "from sklearn.neighbors import KNeighborsClassifier\n",
    "%matplotlib inline"
   ]
  },
  {
   "cell_type": "code",
   "execution_count": 29,
   "metadata": {},
   "outputs": [],
   "source": [
    "train_df = pd.read_csv(\"train.csv\", low_memory=False)\n",
    "test_df = pd.read_csv(\"test.csv\", low_memory=False)\n",
    "data = pd.read_csv(\"data_set.csv\", low_memory = False)"
   ]
  },
  {
   "cell_type": "code",
   "execution_count": 40,
   "metadata": {},
   "outputs": [
    {
     "data": {
      "text/plain": [
       "Index(['id', 'days_to_today', 'ano', 'antiguedad',\n",
       "       'centroscomercialescercanos', 'escuelascercanas', 'habitaciones',\n",
       "       'garages', 'banos', 'anio', 'Apartamento', 'Bodega comercial', 'Casa',\n",
       "       'Casa en condominio', 'Casa uso de suelo', 'Departamento Compartido',\n",
       "       'Duplex', 'Edificio', 'Garage', 'Hospedaje', 'Huerta',\n",
       "       'Inmuebles productivos urbanos', 'Local Comercial',\n",
       "       'Local en centro comercial', 'Lote', 'Nave industrial',\n",
       "       'Oficina comercial', 'Otros', 'Quinta Vacacional', 'Rancho', 'Terreno',\n",
       "       'Terreno comercial', 'Terreno industrial', 'Villa', 'gimnasio',\n",
       "       'usosmultiples', 'piscina', 'qty_of_extras', 'metroscubiertos',\n",
       "       'metrostotales', 'popular_desc_1', 'popular_desc_2', 'popular_desc_3',\n",
       "       'popular_desc_4', 'idzona', 'lat', 'lng', 'avenue', 'Aguascalientes',\n",
       "       'Baja California Norte', 'Baja California Sur', 'Campeche', 'Chiapas',\n",
       "       'Chihuahua', 'Coahuila', 'Colima', 'Distrito Federal', 'Durango',\n",
       "       'Edo. de México', 'Guanajuato', 'Guerrero', 'Hidalgo', 'Jalisco',\n",
       "       'Michoacán', 'Morelos', 'Nayarit', 'Nuevo León', 'Oaxaca', 'Puebla',\n",
       "       'Querétaro', 'Quintana Roo', 'San luis Potosí', 'Sinaloa', 'Sonora',\n",
       "       'Tabasco', 'Tamaulipas', 'Tlaxcala', 'Veracruz', 'Yucatán',\n",
       "       'Zacatecas'],\n",
       "      dtype='object')"
      ]
     },
     "execution_count": 40,
     "metadata": {},
     "output_type": "execute_result"
    }
   ],
   "source": [
    "data.columns"
   ]
  },
  {
   "cell_type": "code",
   "execution_count": 41,
   "metadata": {},
   "outputs": [],
   "source": [
    "data.rename(columns={'año':'ano', 'Yucatán':'Yucatan', 'Querétaro':'Queretaro','Michoacán':'Michoacan',\n",
    "                     'Nuevo León':'Nuevo Leon',\n",
    "                     'San luis Potosí':'San luis Potosi', 'Edo. de México':'Edo. de Mexico'}, inplace=True)"
   ]
  },
  {
   "cell_type": "code",
   "execution_count": 42,
   "metadata": {},
   "outputs": [
    {
     "data": {
      "text/plain": [
       "1500000.0    3041\n",
       "2500000.0    3036\n",
       "1200000.0    2909\n",
       "3500000.0    2726\n",
       "1300000.0    2480\n",
       "             ... \n",
       "2704600.0       1\n",
       "1352250.0       1\n",
       "938260.0        1\n",
       "2704460.0       1\n",
       "2327000.0       1\n",
       "Name: precio, Length: 15520, dtype: int64"
      ]
     },
     "execution_count": 42,
     "metadata": {},
     "output_type": "execute_result"
    }
   ],
   "source": [
    "train_df = train_df[['id','precio']]\n",
    "train_df['precio'].value_counts()"
   ]
  },
  {
   "cell_type": "code",
   "execution_count": 43,
   "metadata": {},
   "outputs": [
    {
     "data": {
      "text/plain": [
       "1500000.0    3041\n",
       "2500000.0    3036\n",
       "1200000.0    2909\n",
       "3500000.0    2726\n",
       "1300000.0    2480\n",
       "             ... \n",
       "2704600.0       1\n",
       "1352250.0       1\n",
       "938260.0        1\n",
       "2704460.0       1\n",
       "2327000.0       1\n",
       "Name: precio, Length: 15520, dtype: int64"
      ]
     },
     "execution_count": 43,
     "metadata": {},
     "output_type": "execute_result"
    }
   ],
   "source": [
    "features = pd.merge(train_df, data, on='id', how='inner')\n",
    "features = features.fillna(0)\n",
    "features['precio'].value_counts()"
   ]
  },
  {
   "cell_type": "code",
   "execution_count": 44,
   "metadata": {},
   "outputs": [
    {
     "name": "stdout",
     "output_type": "stream",
     "text": [
      "Train:  180000 Test:  60000\n"
     ]
    }
   ],
   "source": [
    "labels = features['precio']\n",
    "features = features.drop(['id','precio'], axis=1)\n",
    "x_train, x_test, y_train, y_test = train_test_split(features, labels, test_size=0.25)\n",
    "print(\"Train: \",len(x_train),\"Test: \",len(x_test))"
   ]
  },
  {
   "cell_type": "code",
   "execution_count": 45,
   "metadata": {},
   "outputs": [],
   "source": [
    "train_data=lgb.Dataset(x_train, label=y_train)"
   ]
  },
  {
   "cell_type": "code",
   "execution_count": 69,
   "metadata": {},
   "outputs": [],
   "source": [
    "#Select Hyper-Parameters\n",
    "params = {'boosting_type': 'gbdt',\n",
    "          'max_depth' : -1,\n",
    "          'nthread': 5,\n",
    "          'num_leaves': 64,\n",
    "          'learning_rate': 0.07,\n",
    "          'max_bin': 512,\n",
    "          'subsample_for_bin': 200,\n",
    "          'subsample': 1,\n",
    "          'subsample_freq': 1,\n",
    "          'colsample_bytree': 0.8,\n",
    "          'reg_alpha': 1.2,\n",
    "          'reg_lambda': 1.2,\n",
    "          'min_split_gain': 0.5,\n",
    "          'min_child_weight': 1,\n",
    "          'min_child_samples': 5,\n",
    "          'scale_pos_weight': 1,\n",
    "          'num_class' : 1\n",
    "          }\n"
   ]
  },
  {
   "cell_type": "code",
   "execution_count": 70,
   "metadata": {},
   "outputs": [],
   "source": [
    "# Create parameters to search\n",
    "gridParams = {\n",
    "    'learning_rate': [0.07],\n",
    "    'n_estimators': [8,16],\n",
    "    'num_leaves': [20, 24, 27],\n",
    "    'boosting_type' : ['gbdt'],\n",
    "    'random_state' : [501], \n",
    "    'colsample_bytree' : [0.64, 0.65],\n",
    "    'subsample' : [0.7,0.75],\n",
    "    #'reg_alpha' : [1, 1.2],\n",
    "    #'reg_lambda' : [ 1.2, 1.4],\n",
    "    }"
   ]
  },
  {
   "cell_type": "code",
   "execution_count": 71,
   "metadata": {},
   "outputs": [],
   "source": [
    "# Create classifier to use\n",
    "mdl = lgb.LGBMRegressor(boosting_type= 'gbdt',\n",
    "          objective = 'regression',\n",
    "          n_jobs = 5, \n",
    "          silent = True,\n",
    "          max_depth = params['max_depth'],\n",
    "          max_bin = params['max_bin'],\n",
    "          subsample_for_bin = params['subsample_for_bin'],\n",
    "          subsample = params['subsample'],\n",
    "          subsample_freq = params['subsample_freq'],\n",
    "          min_split_gain = params['min_split_gain'],\n",
    "          min_child_weight = params['min_child_weight'],\n",
    "          min_child_samples = params['min_child_samples'],\n",
    "          scale_pos_weight = params['scale_pos_weight'])"
   ]
  },
  {
   "cell_type": "code",
   "execution_count": 72,
   "metadata": {},
   "outputs": [
    {
     "name": "stdout",
     "output_type": "stream",
     "text": [
      "Fitting 4 folds for each of 24 candidates, totalling 96 fits\n"
     ]
    },
    {
     "name": "stderr",
     "output_type": "stream",
     "text": [
      "[Parallel(n_jobs=-1)]: Using backend LokyBackend with 4 concurrent workers.\n",
      "[Parallel(n_jobs=-1)]: Done  33 tasks      | elapsed:    9.7s\n",
      "[Parallel(n_jobs=-1)]: Done  96 out of  96 | elapsed:   26.2s finished\n"
     ]
    },
    {
     "data": {
      "text/plain": [
       "GridSearchCV(cv=4, error_score='raise-deprecating',\n",
       "             estimator=LGBMRegressor(boosting_type='gbdt', class_weight=None,\n",
       "                                     colsample_bytree=1.0,\n",
       "                                     importance_type='split', learning_rate=0.1,\n",
       "                                     max_bin=512, max_depth=-1,\n",
       "                                     min_child_samples=5, min_child_weight=1,\n",
       "                                     min_split_gain=0.5, n_estimators=100,\n",
       "                                     n_jobs=5, num_leaves=31,\n",
       "                                     objective='regression', random_state=None,\n",
       "                                     reg_alpha=...\n",
       "                                     scale_pos_weight=1, silent=True,\n",
       "                                     subsample=1, subsample_for_bin=200,\n",
       "                                     subsample_freq=1),\n",
       "             iid='warn', n_jobs=-1,\n",
       "             param_grid={'boosting_type': ['gbdt'],\n",
       "                         'colsample_bytree': [0.64, 0.65],\n",
       "                         'learning_rate': [0.07], 'n_estimators': [8, 16],\n",
       "                         'num_leaves': [20, 24, 27], 'random_state': [501],\n",
       "                         'subsample': [0.7, 0.75]},\n",
       "             pre_dispatch='2*n_jobs', refit=True, return_train_score=False,\n",
       "             scoring=None, verbose=2)"
      ]
     },
     "execution_count": 72,
     "metadata": {},
     "output_type": "execute_result"
    }
   ],
   "source": [
    "grid = GridSearchCV(mdl, gridParams, verbose=2, cv=4, n_jobs=-1)\n",
    "grid.fit(x_train, y_train)"
   ]
  },
  {
   "cell_type": "code",
   "execution_count": 73,
   "metadata": {},
   "outputs": [
    {
     "name": "stdout",
     "output_type": "stream",
     "text": [
      "{'boosting_type': 'gbdt', 'colsample_bytree': 0.65, 'learning_rate': 0.07, 'n_estimators': 16, 'num_leaves': 27, 'random_state': 501, 'subsample': 0.7}\n",
      "0.5337104851169531\n"
     ]
    }
   ],
   "source": [
    "# Print the best parameters found\n",
    "print(grid.best_params_)\n",
    "print(grid.best_score_)"
   ]
  },
  {
   "cell_type": "code",
   "execution_count": 74,
   "metadata": {},
   "outputs": [],
   "source": [
    "lgbm = lgb.train(params,\n",
    "                 train_data,\n",
    "                 280,\n",
    "                 #early_stopping_rounds= 40,\n",
    "                 verbose_eval= 4\n",
    "                 )\n"
   ]
  },
  {
   "cell_type": "code",
   "execution_count": null,
   "metadata": {},
   "outputs": [],
   "source": []
  },
  {
   "cell_type": "code",
   "execution_count": 75,
   "metadata": {},
   "outputs": [],
   "source": [
    "pred = lgbm.predict(x_test)\n"
   ]
  },
  {
   "cell_type": "code",
   "execution_count": 76,
   "metadata": {},
   "outputs": [
    {
     "data": {
      "text/plain": [
       "786.8285405754838"
      ]
     },
     "execution_count": 76,
     "metadata": {},
     "output_type": "execute_result"
    }
   ],
   "source": [
    "sqrt(mean_absolute_error(y_test,pred))"
   ]
  },
  {
   "cell_type": "code",
   "execution_count": null,
   "metadata": {},
   "outputs": [],
   "source": []
  },
  {
   "cell_type": "code",
   "execution_count": 77,
   "metadata": {},
   "outputs": [],
   "source": [
    "set_test = pd.merge(data, test_df[['id']],on = \"id\", how = \"inner\")\n",
    "ids = set_test[\"id\"]\n",
    "set_test = set_test.drop(columns=['id'])"
   ]
  },
  {
   "cell_type": "code",
   "execution_count": 78,
   "metadata": {},
   "outputs": [],
   "source": [
    "set_test = set_test.fillna(0)"
   ]
  },
  {
   "cell_type": "code",
   "execution_count": 79,
   "metadata": {},
   "outputs": [
    {
     "data": {
      "text/html": [
       "<div>\n",
       "<style scoped>\n",
       "    .dataframe tbody tr th:only-of-type {\n",
       "        vertical-align: middle;\n",
       "    }\n",
       "\n",
       "    .dataframe tbody tr th {\n",
       "        vertical-align: top;\n",
       "    }\n",
       "\n",
       "    .dataframe thead th {\n",
       "        text-align: right;\n",
       "    }\n",
       "</style>\n",
       "<table border=\"1\" class=\"dataframe\">\n",
       "  <thead>\n",
       "    <tr style=\"text-align: right;\">\n",
       "      <th></th>\n",
       "      <th>days_to_today</th>\n",
       "      <th>ano</th>\n",
       "      <th>antiguedad</th>\n",
       "      <th>centroscomercialescercanos</th>\n",
       "      <th>escuelascercanas</th>\n",
       "      <th>habitaciones</th>\n",
       "      <th>garages</th>\n",
       "      <th>banos</th>\n",
       "      <th>anio</th>\n",
       "      <th>Apartamento</th>\n",
       "      <th>...</th>\n",
       "      <th>Quintana Roo</th>\n",
       "      <th>San luis Potosi</th>\n",
       "      <th>Sinaloa</th>\n",
       "      <th>Sonora</th>\n",
       "      <th>Tabasco</th>\n",
       "      <th>Tamaulipas</th>\n",
       "      <th>Tlaxcala</th>\n",
       "      <th>Veracruz</th>\n",
       "      <th>Yucatan</th>\n",
       "      <th>Zacatecas</th>\n",
       "    </tr>\n",
       "  </thead>\n",
       "  <tbody>\n",
       "    <tr>\n",
       "      <td>0</td>\n",
       "      <td>2320</td>\n",
       "      <td>2013</td>\n",
       "      <td>29.0</td>\n",
       "      <td>0.0</td>\n",
       "      <td>0.0</td>\n",
       "      <td>3.0</td>\n",
       "      <td>0.0</td>\n",
       "      <td>4.0</td>\n",
       "      <td>2013</td>\n",
       "      <td>0</td>\n",
       "      <td>...</td>\n",
       "      <td>0</td>\n",
       "      <td>0</td>\n",
       "      <td>0</td>\n",
       "      <td>0</td>\n",
       "      <td>0</td>\n",
       "      <td>0</td>\n",
       "      <td>0</td>\n",
       "      <td>0</td>\n",
       "      <td>0</td>\n",
       "      <td>0</td>\n",
       "    </tr>\n",
       "    <tr>\n",
       "      <td>1</td>\n",
       "      <td>1494</td>\n",
       "      <td>2015</td>\n",
       "      <td>0.0</td>\n",
       "      <td>0.0</td>\n",
       "      <td>0.0</td>\n",
       "      <td>1.0</td>\n",
       "      <td>1.0</td>\n",
       "      <td>1.0</td>\n",
       "      <td>2015</td>\n",
       "      <td>1</td>\n",
       "      <td>...</td>\n",
       "      <td>0</td>\n",
       "      <td>0</td>\n",
       "      <td>0</td>\n",
       "      <td>0</td>\n",
       "      <td>0</td>\n",
       "      <td>0</td>\n",
       "      <td>0</td>\n",
       "      <td>0</td>\n",
       "      <td>1</td>\n",
       "      <td>0</td>\n",
       "    </tr>\n",
       "    <tr>\n",
       "      <td>2</td>\n",
       "      <td>1641</td>\n",
       "      <td>2015</td>\n",
       "      <td>0.0</td>\n",
       "      <td>1.0</td>\n",
       "      <td>0.0</td>\n",
       "      <td>2.0</td>\n",
       "      <td>1.0</td>\n",
       "      <td>2.0</td>\n",
       "      <td>2015</td>\n",
       "      <td>1</td>\n",
       "      <td>...</td>\n",
       "      <td>0</td>\n",
       "      <td>0</td>\n",
       "      <td>0</td>\n",
       "      <td>0</td>\n",
       "      <td>0</td>\n",
       "      <td>0</td>\n",
       "      <td>0</td>\n",
       "      <td>0</td>\n",
       "      <td>0</td>\n",
       "      <td>0</td>\n",
       "    </tr>\n",
       "    <tr>\n",
       "      <td>3</td>\n",
       "      <td>1699</td>\n",
       "      <td>2015</td>\n",
       "      <td>2.0</td>\n",
       "      <td>0.0</td>\n",
       "      <td>0.0</td>\n",
       "      <td>2.0</td>\n",
       "      <td>2.0</td>\n",
       "      <td>2.0</td>\n",
       "      <td>2015</td>\n",
       "      <td>1</td>\n",
       "      <td>...</td>\n",
       "      <td>0</td>\n",
       "      <td>0</td>\n",
       "      <td>0</td>\n",
       "      <td>0</td>\n",
       "      <td>0</td>\n",
       "      <td>0</td>\n",
       "      <td>0</td>\n",
       "      <td>0</td>\n",
       "      <td>0</td>\n",
       "      <td>0</td>\n",
       "    </tr>\n",
       "    <tr>\n",
       "      <td>4</td>\n",
       "      <td>2294</td>\n",
       "      <td>2013</td>\n",
       "      <td>10.0</td>\n",
       "      <td>1.0</td>\n",
       "      <td>1.0</td>\n",
       "      <td>2.0</td>\n",
       "      <td>1.0</td>\n",
       "      <td>1.0</td>\n",
       "      <td>2013</td>\n",
       "      <td>0</td>\n",
       "      <td>...</td>\n",
       "      <td>0</td>\n",
       "      <td>0</td>\n",
       "      <td>0</td>\n",
       "      <td>0</td>\n",
       "      <td>0</td>\n",
       "      <td>0</td>\n",
       "      <td>0</td>\n",
       "      <td>0</td>\n",
       "      <td>0</td>\n",
       "      <td>0</td>\n",
       "    </tr>\n",
       "  </tbody>\n",
       "</table>\n",
       "<p>5 rows × 79 columns</p>\n",
       "</div>"
      ],
      "text/plain": [
       "   days_to_today   ano  antiguedad  centroscomercialescercanos  \\\n",
       "0           2320  2013        29.0                         0.0   \n",
       "1           1494  2015         0.0                         0.0   \n",
       "2           1641  2015         0.0                         1.0   \n",
       "3           1699  2015         2.0                         0.0   \n",
       "4           2294  2013        10.0                         1.0   \n",
       "\n",
       "   escuelascercanas  habitaciones  garages  banos  anio  Apartamento  ...  \\\n",
       "0               0.0           3.0      0.0    4.0  2013            0  ...   \n",
       "1               0.0           1.0      1.0    1.0  2015            1  ...   \n",
       "2               0.0           2.0      1.0    2.0  2015            1  ...   \n",
       "3               0.0           2.0      2.0    2.0  2015            1  ...   \n",
       "4               1.0           2.0      1.0    1.0  2013            0  ...   \n",
       "\n",
       "   Quintana Roo  San luis Potosi  Sinaloa  Sonora  Tabasco  Tamaulipas  \\\n",
       "0             0                0        0       0        0           0   \n",
       "1             0                0        0       0        0           0   \n",
       "2             0                0        0       0        0           0   \n",
       "3             0                0        0       0        0           0   \n",
       "4             0                0        0       0        0           0   \n",
       "\n",
       "   Tlaxcala  Veracruz  Yucatan  Zacatecas  \n",
       "0         0         0        0          0  \n",
       "1         0         0        1          0  \n",
       "2         0         0        0          0  \n",
       "3         0         0        0          0  \n",
       "4         0         0        0          0  \n",
       "\n",
       "[5 rows x 79 columns]"
      ]
     },
     "execution_count": 79,
     "metadata": {},
     "output_type": "execute_result"
    }
   ],
   "source": [
    "set_test.head()"
   ]
  },
  {
   "cell_type": "code",
   "execution_count": 80,
   "metadata": {},
   "outputs": [],
   "source": [
    "preds_kaggle = lgbm.predict(set_test)"
   ]
  },
  {
   "cell_type": "code",
   "execution_count": 81,
   "metadata": {},
   "outputs": [
    {
     "data": {
      "text/html": [
       "<div>\n",
       "<style scoped>\n",
       "    .dataframe tbody tr th:only-of-type {\n",
       "        vertical-align: middle;\n",
       "    }\n",
       "\n",
       "    .dataframe tbody tr th {\n",
       "        vertical-align: top;\n",
       "    }\n",
       "\n",
       "    .dataframe thead th {\n",
       "        text-align: right;\n",
       "    }\n",
       "</style>\n",
       "<table border=\"1\" class=\"dataframe\">\n",
       "  <thead>\n",
       "    <tr style=\"text-align: right;\">\n",
       "      <th></th>\n",
       "      <th>0</th>\n",
       "    </tr>\n",
       "  </thead>\n",
       "  <tbody>\n",
       "    <tr>\n",
       "      <td>0</td>\n",
       "      <td>6.793130e+06</td>\n",
       "    </tr>\n",
       "    <tr>\n",
       "      <td>1</td>\n",
       "      <td>8.766157e+05</td>\n",
       "    </tr>\n",
       "    <tr>\n",
       "      <td>2</td>\n",
       "      <td>2.062642e+06</td>\n",
       "    </tr>\n",
       "    <tr>\n",
       "      <td>3</td>\n",
       "      <td>1.281588e+06</td>\n",
       "    </tr>\n",
       "    <tr>\n",
       "      <td>4</td>\n",
       "      <td>5.219540e+05</td>\n",
       "    </tr>\n",
       "  </tbody>\n",
       "</table>\n",
       "</div>"
      ],
      "text/plain": [
       "              0\n",
       "0  6.793130e+06\n",
       "1  8.766157e+05\n",
       "2  2.062642e+06\n",
       "3  1.281588e+06\n",
       "4  5.219540e+05"
      ]
     },
     "execution_count": 81,
     "metadata": {},
     "output_type": "execute_result"
    }
   ],
   "source": [
    "df_kaggel = pd.DataFrame(preds_kaggle)\n",
    "df_kaggel.head()"
   ]
  },
  {
   "cell_type": "code",
   "execution_count": 82,
   "metadata": {},
   "outputs": [],
   "source": [
    "df_kaggel = pd.DataFrame(df_kaggel)                               \n",
    "df_kaggel[\"id\"] = ids\n",
    "df_kaggel.rename(columns = {0: 'target'},inplace = True) \n",
    "df_kaggel = df_kaggel[['id','target']]"
   ]
  },
  {
   "cell_type": "code",
   "execution_count": 83,
   "metadata": {},
   "outputs": [
    {
     "data": {
      "text/html": [
       "<div>\n",
       "<style scoped>\n",
       "    .dataframe tbody tr th:only-of-type {\n",
       "        vertical-align: middle;\n",
       "    }\n",
       "\n",
       "    .dataframe tbody tr th {\n",
       "        vertical-align: top;\n",
       "    }\n",
       "\n",
       "    .dataframe thead th {\n",
       "        text-align: right;\n",
       "    }\n",
       "</style>\n",
       "<table border=\"1\" class=\"dataframe\">\n",
       "  <thead>\n",
       "    <tr style=\"text-align: right;\">\n",
       "      <th></th>\n",
       "      <th>id</th>\n",
       "      <th>target</th>\n",
       "    </tr>\n",
       "  </thead>\n",
       "  <tbody>\n",
       "    <tr>\n",
       "      <td>0</td>\n",
       "      <td>4941</td>\n",
       "      <td>6.793130e+06</td>\n",
       "    </tr>\n",
       "    <tr>\n",
       "      <td>1</td>\n",
       "      <td>51775</td>\n",
       "      <td>8.766157e+05</td>\n",
       "    </tr>\n",
       "    <tr>\n",
       "      <td>2</td>\n",
       "      <td>115253</td>\n",
       "      <td>2.062642e+06</td>\n",
       "    </tr>\n",
       "    <tr>\n",
       "      <td>3</td>\n",
       "      <td>299321</td>\n",
       "      <td>1.281588e+06</td>\n",
       "    </tr>\n",
       "    <tr>\n",
       "      <td>4</td>\n",
       "      <td>173570</td>\n",
       "      <td>5.219540e+05</td>\n",
       "    </tr>\n",
       "  </tbody>\n",
       "</table>\n",
       "</div>"
      ],
      "text/plain": [
       "       id        target\n",
       "0    4941  6.793130e+06\n",
       "1   51775  8.766157e+05\n",
       "2  115253  2.062642e+06\n",
       "3  299321  1.281588e+06\n",
       "4  173570  5.219540e+05"
      ]
     },
     "execution_count": 83,
     "metadata": {},
     "output_type": "execute_result"
    }
   ],
   "source": [
    "df_kaggel.head()"
   ]
  },
  {
   "cell_type": "code",
   "execution_count": 84,
   "metadata": {},
   "outputs": [],
   "source": [
    "df_kaggel.to_csv('ResultadosLightGBM.csv',index=False)"
   ]
  },
  {
   "cell_type": "code",
   "execution_count": 85,
   "metadata": {},
   "outputs": [
    {
     "data": {
      "text/plain": [
       "(60000, 2)"
      ]
     },
     "execution_count": 85,
     "metadata": {},
     "output_type": "execute_result"
    }
   ],
   "source": [
    "df_kaggel.shape"
   ]
  },
  {
   "cell_type": "code",
   "execution_count": 86,
   "metadata": {},
   "outputs": [
    {
     "data": {
      "text/html": [
       "<div>\n",
       "<style scoped>\n",
       "    .dataframe tbody tr th:only-of-type {\n",
       "        vertical-align: middle;\n",
       "    }\n",
       "\n",
       "    .dataframe tbody tr th {\n",
       "        vertical-align: top;\n",
       "    }\n",
       "\n",
       "    .dataframe thead th {\n",
       "        text-align: right;\n",
       "    }\n",
       "</style>\n",
       "<table border=\"1\" class=\"dataframe\">\n",
       "  <thead>\n",
       "    <tr style=\"text-align: right;\">\n",
       "      <th></th>\n",
       "      <th>id</th>\n",
       "      <th>target</th>\n",
       "    </tr>\n",
       "  </thead>\n",
       "  <tbody>\n",
       "    <tr>\n",
       "      <td>0</td>\n",
       "      <td>4941</td>\n",
       "      <td>6.793130e+06</td>\n",
       "    </tr>\n",
       "    <tr>\n",
       "      <td>1</td>\n",
       "      <td>51775</td>\n",
       "      <td>8.766157e+05</td>\n",
       "    </tr>\n",
       "    <tr>\n",
       "      <td>2</td>\n",
       "      <td>115253</td>\n",
       "      <td>2.062642e+06</td>\n",
       "    </tr>\n",
       "    <tr>\n",
       "      <td>3</td>\n",
       "      <td>299321</td>\n",
       "      <td>1.281588e+06</td>\n",
       "    </tr>\n",
       "    <tr>\n",
       "      <td>4</td>\n",
       "      <td>173570</td>\n",
       "      <td>5.219540e+05</td>\n",
       "    </tr>\n",
       "  </tbody>\n",
       "</table>\n",
       "</div>"
      ],
      "text/plain": [
       "       id        target\n",
       "0    4941  6.793130e+06\n",
       "1   51775  8.766157e+05\n",
       "2  115253  2.062642e+06\n",
       "3  299321  1.281588e+06\n",
       "4  173570  5.219540e+05"
      ]
     },
     "execution_count": 86,
     "metadata": {},
     "output_type": "execute_result"
    }
   ],
   "source": [
    "df_kaggel.head()"
   ]
  },
  {
   "cell_type": "code",
   "execution_count": null,
   "metadata": {},
   "outputs": [],
   "source": []
  },
  {
   "cell_type": "code",
   "execution_count": null,
   "metadata": {},
   "outputs": [],
   "source": []
  },
  {
   "cell_type": "code",
   "execution_count": null,
   "metadata": {},
   "outputs": [],
   "source": []
  }
 ],
 "metadata": {
  "kernelspec": {
   "display_name": "Python 3",
   "language": "python",
   "name": "python3"
  },
  "language_info": {
   "codemirror_mode": {
    "name": "ipython",
    "version": 3
   },
   "file_extension": ".py",
   "mimetype": "text/x-python",
   "name": "python",
   "nbconvert_exporter": "python",
   "pygments_lexer": "ipython3",
   "version": "3.6.8"
  }
 },
 "nbformat": 4,
 "nbformat_minor": 2
}
