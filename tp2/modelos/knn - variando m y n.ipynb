{
 "cells": [
  {
   "cell_type": "code",
   "execution_count": 1,
   "metadata": {},
   "outputs": [],
   "source": [
    "import pandas as pd\n",
    "import numpy as np\n",
    "import matplotlib.pyplot as plt\n",
    "import seaborn as sns\n",
    "from datetime import datetime\n",
    "from math import sqrt\n",
    "\n",
    "from sklearn import metrics\n",
    "from sklearn.metrics import mean_squared_error, mean_absolute_error\n",
    "from sklearn.metrics import roc_curve, auc\n",
    "from sklearn.model_selection import train_test_split\n",
    "from sklearn.metrics import accuracy_score\n",
    "from sklearn.neighbors import KNeighborsClassifier, KNeighborsRegressor\n",
    "%matplotlib inline"
   ]
  },
  {
   "cell_type": "code",
   "execution_count": 2,
   "metadata": {},
   "outputs": [],
   "source": [
    "train_df = pd.read_csv(\"train.csv\", low_memory=False)\n",
    "test_df = pd.read_csv(\"test.csv\", low_memory=False)\n",
    "data = pd.read_csv(\"data_set.csv\", low_memory = False)"
   ]
  },
  {
   "cell_type": "code",
   "execution_count": 3,
   "metadata": {},
   "outputs": [
    {
     "data": {
      "text/plain": [
       "1500000.0    3041\n",
       "2500000.0    3036\n",
       "1200000.0    2909\n",
       "3500000.0    2726\n",
       "1300000.0    2480\n",
       "             ... \n",
       "2704600.0       1\n",
       "1352250.0       1\n",
       "938260.0        1\n",
       "2704460.0       1\n",
       "2327000.0       1\n",
       "Name: precio, Length: 15520, dtype: int64"
      ]
     },
     "execution_count": 3,
     "metadata": {},
     "output_type": "execute_result"
    }
   ],
   "source": [
    "train_df = train_df[['id','precio']]\n",
    "train_df['precio'].value_counts()"
   ]
  },
  {
   "cell_type": "code",
   "execution_count": 4,
   "metadata": {
    "scrolled": true
   },
   "outputs": [
    {
     "data": {
      "text/plain": [
       "(300000, 81)"
      ]
     },
     "execution_count": 4,
     "metadata": {},
     "output_type": "execute_result"
    }
   ],
   "source": [
    "data.shape"
   ]
  },
  {
   "cell_type": "code",
   "execution_count": 5,
   "metadata": {},
   "outputs": [
    {
     "data": {
      "text/plain": [
       "(60000, 22)"
      ]
     },
     "execution_count": 5,
     "metadata": {},
     "output_type": "execute_result"
    }
   ],
   "source": [
    "test_df.shape"
   ]
  },
  {
   "cell_type": "code",
   "execution_count": 6,
   "metadata": {},
   "outputs": [
    {
     "data": {
      "text/plain": [
       "(240000, 2)"
      ]
     },
     "execution_count": 6,
     "metadata": {},
     "output_type": "execute_result"
    }
   ],
   "source": [
    "train_df.shape"
   ]
  },
  {
   "cell_type": "code",
   "execution_count": 7,
   "metadata": {},
   "outputs": [
    {
     "data": {
      "text/plain": [
       "1500000.0    3041\n",
       "2500000.0    3036\n",
       "1200000.0    2909\n",
       "3500000.0    2726\n",
       "1300000.0    2480\n",
       "             ... \n",
       "2704600.0       1\n",
       "1352250.0       1\n",
       "938260.0        1\n",
       "2704460.0       1\n",
       "2327000.0       1\n",
       "Name: precio, Length: 15520, dtype: int64"
      ]
     },
     "execution_count": 7,
     "metadata": {},
     "output_type": "execute_result"
    }
   ],
   "source": [
    "features = pd.merge(train_df, data, on='id', how='inner')\n",
    "features = features.fillna(0)\n",
    "features['precio'].value_counts()"
   ]
  },
  {
   "cell_type": "code",
   "execution_count": 8,
   "metadata": {},
   "outputs": [
    {
     "name": "stdout",
     "output_type": "stream",
     "text": [
      "Train:  180000 Test:  60000\n"
     ]
    }
   ],
   "source": [
    "labels = features['precio']\n",
    "features = features.drop(['id','precio'], axis=1)\n",
    "x_train, x_test, y_train, y_test = train_test_split(features, labels, test_size=0.25)\n",
    "print(\"Train: \",len(x_train),\"Test: \",len(x_test))"
   ]
  },
  {
   "cell_type": "code",
   "execution_count": 9,
   "metadata": {
    "scrolled": false
   },
   "outputs": [
    {
     "name": "stdout",
     "output_type": "stream",
     "text": [
      "MAS value for m=  euclidean is: 965.8301160745955\n",
      "MAS value for m=  euclidean is: 907.5134501298957\n",
      "MAS value for m=  euclidean is: 895.5144810814991\n",
      "MAS value for m=  euclidean is: 891.1687324773228\n",
      "MAS value for m=  euclidean is: 889.7746253291502\n",
      "MAS value for m=  euclidean is: 890.7552485306211\n",
      "MAS value for m=  euclidean is: 891.5909247864396\n",
      "MAS value for m=  euclidean is: 893.1665329632293\n",
      "MAS value for m=  euclidean is: 894.5608585802988\n",
      "MAS value for m=  euclidean is: 896.0850968753499\n",
      "MAS value for m=  euclidean is: 897.8190598638247\n",
      "MAS value for m=  euclidean is: 899.8360770710134\n",
      "MAS value for m=  euclidean is: 901.5836013633641\n",
      "MAS value for m=  euclidean is: 903.2791067860326\n",
      "MAS value for m=  euclidean is: 905.2138573084364\n",
      "MAS value for m=  manhattan is: 941.1235291572161\n",
      "MAS value for m=  manhattan is: 888.1587584873427\n",
      "MAS value for m=  manhattan is: 875.8820255871602\n",
      "MAS value for m=  manhattan is: 874.4827655942847\n",
      "MAS value for m=  manhattan is: 872.866706738969\n",
      "MAS value for m=  manhattan is: 873.9165597790561\n",
      "MAS value for m=  manhattan is: 875.0113831457369\n",
      "MAS value for m=  manhattan is: 876.4698844106903\n",
      "MAS value for m=  manhattan is: 878.0316901149287\n",
      "MAS value for m=  manhattan is: 880.0688544987671\n",
      "MAS value for m=  manhattan is: 881.7246368767275\n",
      "MAS value for m=  manhattan is: 883.5619804518526\n",
      "MAS value for m=  manhattan is: 885.3481188323607\n",
      "MAS value for m=  manhattan is: 886.9279149996102\n",
      "MAS value for m=  manhattan is: 888.6635783081775\n",
      "MAS value for m=  cosine is: 1012.825249010575\n",
      "MAS value for m=  cosine is: 947.8172365024341\n",
      "MAS value for m=  cosine is: 933.8050482729251\n",
      "MAS value for m=  cosine is: 929.035263538268\n",
      "MAS value for m=  cosine is: 928.0698689993359\n",
      "MAS value for m=  cosine is: 927.7415329631677\n",
      "MAS value for m=  cosine is: 928.1022912587509\n",
      "MAS value for m=  cosine is: 928.0685880059367\n",
      "MAS value for m=  cosine is: 928.7065197010809\n",
      "MAS value for m=  cosine is: 929.4122913381073\n",
      "MAS value for m=  cosine is: 930.0497001265876\n",
      "MAS value for m=  cosine is: 930.5106581533371\n",
      "MAS value for m=  cosine is: 931.4118595390548\n",
      "MAS value for m=  cosine is: 932.472625582378\n",
      "MAS value for m=  cosine is: 933.1054030906753\n",
      "MAS value for m=  jaccard is: 1288.6413965878949\n",
      "MAS value for m=  jaccard is: 1199.4789032186713\n",
      "MAS value for m=  jaccard is: 1179.9230484160114\n",
      "MAS value for m=  jaccard is: 1171.7435958901265\n",
      "MAS value for m=  jaccard is: 1164.5389407162152\n",
      "MAS value for m=  jaccard is: 1159.5703162659656\n",
      "MAS value for m=  jaccard is: 1157.4763836534137\n",
      "MAS value for m=  jaccard is: 1156.2514259522738\n",
      "MAS value for m=  jaccard is: 1155.6636578301716\n",
      "MAS value for m=  jaccard is: 1153.9726009061503\n",
      "MAS value for m=  jaccard is: 1152.9596441646265\n",
      "MAS value for m=  jaccard is: 1151.6509886585695\n",
      "MAS value for m=  jaccard is: 1151.3919613592352\n",
      "MAS value for m=  jaccard is: 1150.6114448709004\n",
      "MAS value for m=  jaccard is: 1150.7359290771126\n",
      "MAS value for m=  hamming is: 1045.892585219279\n",
      "MAS value for m=  hamming is: 983.8187406337726\n",
      "MAS value for m=  hamming is: 970.3900248937708\n",
      "MAS value for m=  hamming is: 968.3632602489625\n",
      "MAS value for m=  hamming is: 967.4133665729837\n",
      "MAS value for m=  hamming is: 967.662441066881\n",
      "MAS value for m=  hamming is: 968.8228314544593\n",
      "MAS value for m=  hamming is: 970.8511311999498\n",
      "MAS value for m=  hamming is: 972.1353055657689\n",
      "MAS value for m=  hamming is: 972.7311132277142\n",
      "MAS value for m=  hamming is: 973.3241489618866\n",
      "MAS value for m=  hamming is: 974.718141248528\n",
      "MAS value for m=  hamming is: 975.5563416963677\n",
      "MAS value for m=  hamming is: 976.9473953662823\n",
      "MAS value for m=  hamming is: 978.1954502181997\n"
     ]
    }
   ],
   "source": [
    "metrics = ['euclidean','manhattan','cosine','jaccard','hamming']\n",
    "neighbors = list(range(1,30, 2))\n",
    "train_results = []\n",
    "test_results = []\n",
    "best = [9999999999999,1, 1]\n",
    "mas_val = []\n",
    "for m in metrics:\n",
    "    for n in neighbors:\n",
    "        model = KNeighborsRegressor(n_neighbors = n, metric=m)\n",
    "\n",
    "        model.fit(x_train, y_train)\n",
    "        pred=model.predict(x_test)\n",
    "        error = sqrt(mean_absolute_error(y_test,pred))\n",
    "        mas_val.append(error)\n",
    "        print('MAS value for m= ' , m , 'is:', error)\n",
    "        if best[0] > error:\n",
    "                best[0] = error\n",
    "                best[1] = m\n",
    "                best[2] = n\n"
   ]
  },
  {
   "cell_type": "code",
   "execution_count": 10,
   "metadata": {},
   "outputs": [
    {
     "data": {
      "text/plain": [
       "872.866706738969"
      ]
     },
     "execution_count": 10,
     "metadata": {},
     "output_type": "execute_result"
    }
   ],
   "source": [
    "min(mas_val)"
   ]
  },
  {
   "cell_type": "code",
   "execution_count": 11,
   "metadata": {},
   "outputs": [
    {
     "data": {
      "text/plain": [
       "[872.866706738969, 'manhattan', 9]"
      ]
     },
     "execution_count": 11,
     "metadata": {},
     "output_type": "execute_result"
    }
   ],
   "source": [
    "best"
   ]
  },
  {
   "cell_type": "code",
   "execution_count": 12,
   "metadata": {},
   "outputs": [],
   "source": [
    "set_test = pd.merge(data, test_df[['id']],on = \"id\", how = \"inner\")\n",
    "ids = set_test[\"id\"]\n",
    "set_test = set_test.drop(columns=['id'])"
   ]
  },
  {
   "cell_type": "code",
   "execution_count": 13,
   "metadata": {},
   "outputs": [],
   "source": [
    "set_test = set_test.fillna(0)"
   ]
  },
  {
   "cell_type": "code",
   "execution_count": 14,
   "metadata": {},
   "outputs": [
    {
     "data": {
      "text/html": [
       "<div>\n",
       "<style scoped>\n",
       "    .dataframe tbody tr th:only-of-type {\n",
       "        vertical-align: middle;\n",
       "    }\n",
       "\n",
       "    .dataframe tbody tr th {\n",
       "        vertical-align: top;\n",
       "    }\n",
       "\n",
       "    .dataframe thead th {\n",
       "        text-align: right;\n",
       "    }\n",
       "</style>\n",
       "<table border=\"1\" class=\"dataframe\">\n",
       "  <thead>\n",
       "    <tr style=\"text-align: right;\">\n",
       "      <th></th>\n",
       "      <th>days_to_today</th>\n",
       "      <th>año</th>\n",
       "      <th>antiguedad</th>\n",
       "      <th>centroscomercialescercanos</th>\n",
       "      <th>escuelascercanas</th>\n",
       "      <th>habitaciones</th>\n",
       "      <th>garages</th>\n",
       "      <th>banos</th>\n",
       "      <th>anio_x</th>\n",
       "      <th>Apartamento</th>\n",
       "      <th>...</th>\n",
       "      <th>Quintana Roo</th>\n",
       "      <th>San luis Potosí</th>\n",
       "      <th>Sinaloa</th>\n",
       "      <th>Sonora</th>\n",
       "      <th>Tabasco</th>\n",
       "      <th>Tamaulipas</th>\n",
       "      <th>Tlaxcala</th>\n",
       "      <th>Veracruz</th>\n",
       "      <th>Yucatán</th>\n",
       "      <th>Zacatecas</th>\n",
       "    </tr>\n",
       "  </thead>\n",
       "  <tbody>\n",
       "    <tr>\n",
       "      <td>0</td>\n",
       "      <td>2304</td>\n",
       "      <td>2013</td>\n",
       "      <td>29.0</td>\n",
       "      <td>0.0</td>\n",
       "      <td>0.0</td>\n",
       "      <td>3.0</td>\n",
       "      <td>0.0</td>\n",
       "      <td>4.0</td>\n",
       "      <td>2013</td>\n",
       "      <td>0</td>\n",
       "      <td>...</td>\n",
       "      <td>0</td>\n",
       "      <td>0</td>\n",
       "      <td>0</td>\n",
       "      <td>0</td>\n",
       "      <td>0</td>\n",
       "      <td>0</td>\n",
       "      <td>0</td>\n",
       "      <td>0</td>\n",
       "      <td>0</td>\n",
       "      <td>0</td>\n",
       "    </tr>\n",
       "    <tr>\n",
       "      <td>1</td>\n",
       "      <td>1478</td>\n",
       "      <td>2015</td>\n",
       "      <td>0.0</td>\n",
       "      <td>0.0</td>\n",
       "      <td>0.0</td>\n",
       "      <td>1.0</td>\n",
       "      <td>1.0</td>\n",
       "      <td>1.0</td>\n",
       "      <td>2015</td>\n",
       "      <td>1</td>\n",
       "      <td>...</td>\n",
       "      <td>0</td>\n",
       "      <td>0</td>\n",
       "      <td>0</td>\n",
       "      <td>0</td>\n",
       "      <td>0</td>\n",
       "      <td>0</td>\n",
       "      <td>0</td>\n",
       "      <td>0</td>\n",
       "      <td>1</td>\n",
       "      <td>0</td>\n",
       "    </tr>\n",
       "    <tr>\n",
       "      <td>2</td>\n",
       "      <td>1625</td>\n",
       "      <td>2015</td>\n",
       "      <td>0.0</td>\n",
       "      <td>1.0</td>\n",
       "      <td>0.0</td>\n",
       "      <td>2.0</td>\n",
       "      <td>1.0</td>\n",
       "      <td>2.0</td>\n",
       "      <td>2015</td>\n",
       "      <td>1</td>\n",
       "      <td>...</td>\n",
       "      <td>0</td>\n",
       "      <td>0</td>\n",
       "      <td>0</td>\n",
       "      <td>0</td>\n",
       "      <td>0</td>\n",
       "      <td>0</td>\n",
       "      <td>0</td>\n",
       "      <td>0</td>\n",
       "      <td>0</td>\n",
       "      <td>0</td>\n",
       "    </tr>\n",
       "    <tr>\n",
       "      <td>3</td>\n",
       "      <td>1683</td>\n",
       "      <td>2015</td>\n",
       "      <td>2.0</td>\n",
       "      <td>0.0</td>\n",
       "      <td>0.0</td>\n",
       "      <td>2.0</td>\n",
       "      <td>2.0</td>\n",
       "      <td>2.0</td>\n",
       "      <td>2015</td>\n",
       "      <td>1</td>\n",
       "      <td>...</td>\n",
       "      <td>0</td>\n",
       "      <td>0</td>\n",
       "      <td>0</td>\n",
       "      <td>0</td>\n",
       "      <td>0</td>\n",
       "      <td>0</td>\n",
       "      <td>0</td>\n",
       "      <td>0</td>\n",
       "      <td>0</td>\n",
       "      <td>0</td>\n",
       "    </tr>\n",
       "    <tr>\n",
       "      <td>4</td>\n",
       "      <td>2278</td>\n",
       "      <td>2013</td>\n",
       "      <td>10.0</td>\n",
       "      <td>1.0</td>\n",
       "      <td>1.0</td>\n",
       "      <td>2.0</td>\n",
       "      <td>1.0</td>\n",
       "      <td>1.0</td>\n",
       "      <td>2013</td>\n",
       "      <td>0</td>\n",
       "      <td>...</td>\n",
       "      <td>0</td>\n",
       "      <td>0</td>\n",
       "      <td>0</td>\n",
       "      <td>0</td>\n",
       "      <td>0</td>\n",
       "      <td>0</td>\n",
       "      <td>0</td>\n",
       "      <td>0</td>\n",
       "      <td>0</td>\n",
       "      <td>0</td>\n",
       "    </tr>\n",
       "  </tbody>\n",
       "</table>\n",
       "<p>5 rows × 80 columns</p>\n",
       "</div>"
      ],
      "text/plain": [
       "   days_to_today   año  antiguedad  centroscomercialescercanos  \\\n",
       "0           2304  2013        29.0                         0.0   \n",
       "1           1478  2015         0.0                         0.0   \n",
       "2           1625  2015         0.0                         1.0   \n",
       "3           1683  2015         2.0                         0.0   \n",
       "4           2278  2013        10.0                         1.0   \n",
       "\n",
       "   escuelascercanas  habitaciones  garages  banos  anio_x  Apartamento  ...  \\\n",
       "0               0.0           3.0      0.0    4.0    2013            0  ...   \n",
       "1               0.0           1.0      1.0    1.0    2015            1  ...   \n",
       "2               0.0           2.0      1.0    2.0    2015            1  ...   \n",
       "3               0.0           2.0      2.0    2.0    2015            1  ...   \n",
       "4               1.0           2.0      1.0    1.0    2013            0  ...   \n",
       "\n",
       "   Quintana Roo  San luis Potosí  Sinaloa  Sonora  Tabasco  Tamaulipas  \\\n",
       "0             0                0        0       0        0           0   \n",
       "1             0                0        0       0        0           0   \n",
       "2             0                0        0       0        0           0   \n",
       "3             0                0        0       0        0           0   \n",
       "4             0                0        0       0        0           0   \n",
       "\n",
       "   Tlaxcala  Veracruz  Yucatán  Zacatecas  \n",
       "0         0         0        0          0  \n",
       "1         0         0        1          0  \n",
       "2         0         0        0          0  \n",
       "3         0         0        0          0  \n",
       "4         0         0        0          0  \n",
       "\n",
       "[5 rows x 80 columns]"
      ]
     },
     "execution_count": 14,
     "metadata": {},
     "output_type": "execute_result"
    }
   ],
   "source": [
    "set_test.head()"
   ]
  },
  {
   "cell_type": "code",
   "execution_count": null,
   "metadata": {},
   "outputs": [],
   "source": []
  },
  {
   "cell_type": "code",
   "execution_count": 15,
   "metadata": {},
   "outputs": [],
   "source": [
    "model = KNeighborsRegressor(n_neighbors=9, metric=\"manhattan\")\n",
    "model.fit(features, labels)\n",
    "\n",
    "preds_kaggel_knn = model.predict(set_test)"
   ]
  },
  {
   "cell_type": "code",
   "execution_count": 16,
   "metadata": {},
   "outputs": [
    {
     "name": "stdout",
     "output_type": "stream",
     "text": [
      "<class 'pandas.core.frame.DataFrame'>\n",
      "RangeIndex: 60000 entries, 0 to 59999\n",
      "Data columns (total 1 columns):\n",
      "0    60000 non-null float64\n",
      "dtypes: float64(1)\n",
      "memory usage: 468.9 KB\n"
     ]
    }
   ],
   "source": [
    "df_kaggel_knn = pd.DataFrame(preds_kaggel_knn)\n",
    "df_kaggel_knn.info()"
   ]
  },
  {
   "cell_type": "code",
   "execution_count": 17,
   "metadata": {},
   "outputs": [],
   "source": [
    "df_kaggel_knn = pd.DataFrame(df_kaggel_knn)"
   ]
  },
  {
   "cell_type": "code",
   "execution_count": 18,
   "metadata": {},
   "outputs": [
    {
     "data": {
      "text/html": [
       "<div>\n",
       "<style scoped>\n",
       "    .dataframe tbody tr th:only-of-type {\n",
       "        vertical-align: middle;\n",
       "    }\n",
       "\n",
       "    .dataframe tbody tr th {\n",
       "        vertical-align: top;\n",
       "    }\n",
       "\n",
       "    .dataframe thead th {\n",
       "        text-align: right;\n",
       "    }\n",
       "</style>\n",
       "<table border=\"1\" class=\"dataframe\">\n",
       "  <thead>\n",
       "    <tr style=\"text-align: right;\">\n",
       "      <th></th>\n",
       "      <th>0</th>\n",
       "    </tr>\n",
       "  </thead>\n",
       "  <tbody>\n",
       "    <tr>\n",
       "      <td>0</td>\n",
       "      <td>3.676667e+06</td>\n",
       "    </tr>\n",
       "    <tr>\n",
       "      <td>1</td>\n",
       "      <td>1.301667e+06</td>\n",
       "    </tr>\n",
       "    <tr>\n",
       "      <td>2</td>\n",
       "      <td>2.136667e+06</td>\n",
       "    </tr>\n",
       "    <tr>\n",
       "      <td>3</td>\n",
       "      <td>1.257778e+06</td>\n",
       "    </tr>\n",
       "    <tr>\n",
       "      <td>4</td>\n",
       "      <td>6.252222e+05</td>\n",
       "    </tr>\n",
       "  </tbody>\n",
       "</table>\n",
       "</div>"
      ],
      "text/plain": [
       "              0\n",
       "0  3.676667e+06\n",
       "1  1.301667e+06\n",
       "2  2.136667e+06\n",
       "3  1.257778e+06\n",
       "4  6.252222e+05"
      ]
     },
     "execution_count": 18,
     "metadata": {},
     "output_type": "execute_result"
    }
   ],
   "source": [
    "df_kaggel_knn.head()"
   ]
  },
  {
   "cell_type": "code",
   "execution_count": 19,
   "metadata": {},
   "outputs": [],
   "source": [
    "# df_kaggel_knn = df_kaggel_knn.to_frame()# df_kagg \n",
    "df_kaggel_knn[\"id\"] = ids\n",
    "df_kaggel_knn.rename(columns = {0: 'target'},inplace = True) \n",
    "df_kaggel_knn = df_kaggel_knn[['id','target']]"
   ]
  },
  {
   "cell_type": "code",
   "execution_count": null,
   "metadata": {},
   "outputs": [],
   "source": []
  },
  {
   "cell_type": "code",
   "execution_count": 20,
   "metadata": {},
   "outputs": [
    {
     "data": {
      "text/html": [
       "<div>\n",
       "<style scoped>\n",
       "    .dataframe tbody tr th:only-of-type {\n",
       "        vertical-align: middle;\n",
       "    }\n",
       "\n",
       "    .dataframe tbody tr th {\n",
       "        vertical-align: top;\n",
       "    }\n",
       "\n",
       "    .dataframe thead th {\n",
       "        text-align: right;\n",
       "    }\n",
       "</style>\n",
       "<table border=\"1\" class=\"dataframe\">\n",
       "  <thead>\n",
       "    <tr style=\"text-align: right;\">\n",
       "      <th></th>\n",
       "      <th>id</th>\n",
       "      <th>target</th>\n",
       "    </tr>\n",
       "  </thead>\n",
       "  <tbody>\n",
       "    <tr>\n",
       "      <td>0</td>\n",
       "      <td>4941</td>\n",
       "      <td>3.676667e+06</td>\n",
       "    </tr>\n",
       "    <tr>\n",
       "      <td>1</td>\n",
       "      <td>51775</td>\n",
       "      <td>1.301667e+06</td>\n",
       "    </tr>\n",
       "    <tr>\n",
       "      <td>2</td>\n",
       "      <td>115253</td>\n",
       "      <td>2.136667e+06</td>\n",
       "    </tr>\n",
       "    <tr>\n",
       "      <td>3</td>\n",
       "      <td>299321</td>\n",
       "      <td>1.257778e+06</td>\n",
       "    </tr>\n",
       "    <tr>\n",
       "      <td>4</td>\n",
       "      <td>173570</td>\n",
       "      <td>6.252222e+05</td>\n",
       "    </tr>\n",
       "  </tbody>\n",
       "</table>\n",
       "</div>"
      ],
      "text/plain": [
       "       id        target\n",
       "0    4941  3.676667e+06\n",
       "1   51775  1.301667e+06\n",
       "2  115253  2.136667e+06\n",
       "3  299321  1.257778e+06\n",
       "4  173570  6.252222e+05"
      ]
     },
     "execution_count": 20,
     "metadata": {},
     "output_type": "execute_result"
    }
   ],
   "source": [
    "df_kaggel_knn.head()"
   ]
  },
  {
   "cell_type": "code",
   "execution_count": 21,
   "metadata": {},
   "outputs": [],
   "source": [
    "df_kaggel_knn.to_csv('ResultadosKNN-mn.csv',index=False)"
   ]
  },
  {
   "cell_type": "code",
   "execution_count": 22,
   "metadata": {},
   "outputs": [
    {
     "data": {
      "text/plain": [
       "(60000, 2)"
      ]
     },
     "execution_count": 22,
     "metadata": {},
     "output_type": "execute_result"
    }
   ],
   "source": [
    "df_kaggel_knn.shape"
   ]
  },
  {
   "cell_type": "code",
   "execution_count": 23,
   "metadata": {},
   "outputs": [
    {
     "data": {
      "text/html": [
       "<div>\n",
       "<style scoped>\n",
       "    .dataframe tbody tr th:only-of-type {\n",
       "        vertical-align: middle;\n",
       "    }\n",
       "\n",
       "    .dataframe tbody tr th {\n",
       "        vertical-align: top;\n",
       "    }\n",
       "\n",
       "    .dataframe thead th {\n",
       "        text-align: right;\n",
       "    }\n",
       "</style>\n",
       "<table border=\"1\" class=\"dataframe\">\n",
       "  <thead>\n",
       "    <tr style=\"text-align: right;\">\n",
       "      <th></th>\n",
       "      <th>id</th>\n",
       "      <th>target</th>\n",
       "    </tr>\n",
       "  </thead>\n",
       "  <tbody>\n",
       "    <tr>\n",
       "      <td>0</td>\n",
       "      <td>4941</td>\n",
       "      <td>3.676667e+06</td>\n",
       "    </tr>\n",
       "    <tr>\n",
       "      <td>1</td>\n",
       "      <td>51775</td>\n",
       "      <td>1.301667e+06</td>\n",
       "    </tr>\n",
       "    <tr>\n",
       "      <td>2</td>\n",
       "      <td>115253</td>\n",
       "      <td>2.136667e+06</td>\n",
       "    </tr>\n",
       "    <tr>\n",
       "      <td>3</td>\n",
       "      <td>299321</td>\n",
       "      <td>1.257778e+06</td>\n",
       "    </tr>\n",
       "    <tr>\n",
       "      <td>4</td>\n",
       "      <td>173570</td>\n",
       "      <td>6.252222e+05</td>\n",
       "    </tr>\n",
       "  </tbody>\n",
       "</table>\n",
       "</div>"
      ],
      "text/plain": [
       "       id        target\n",
       "0    4941  3.676667e+06\n",
       "1   51775  1.301667e+06\n",
       "2  115253  2.136667e+06\n",
       "3  299321  1.257778e+06\n",
       "4  173570  6.252222e+05"
      ]
     },
     "execution_count": 23,
     "metadata": {},
     "output_type": "execute_result"
    }
   ],
   "source": [
    "df_kaggel_knn.head()"
   ]
  },
  {
   "cell_type": "code",
   "execution_count": null,
   "metadata": {},
   "outputs": [],
   "source": []
  }
 ],
 "metadata": {
  "kernelspec": {
   "display_name": "Python 3",
   "language": "python",
   "name": "python3"
  },
  "language_info": {
   "codemirror_mode": {
    "name": "ipython",
    "version": 3
   },
   "file_extension": ".py",
   "mimetype": "text/x-python",
   "name": "python",
   "nbconvert_exporter": "python",
   "pygments_lexer": "ipython3",
   "version": "3.6.8"
  }
 },
 "nbformat": 4,
 "nbformat_minor": 2
}
