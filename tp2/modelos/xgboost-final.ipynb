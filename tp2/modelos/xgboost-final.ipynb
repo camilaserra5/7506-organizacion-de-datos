{
 "cells": [
  {
   "cell_type": "code",
   "execution_count": 50,
   "metadata": {},
   "outputs": [],
   "source": [
    "import pandas as pd\n",
    "import numpy as np\n",
    "import matplotlib.pyplot as plt\n",
    "import seaborn as sns\n",
    "from datetime import datetime\n",
    "from math import sqrt\n",
    "import xgboost as xgb\n",
    "\n",
    "from sklearn.metrics import mean_squared_error, mean_absolute_error\n",
    "from sklearn import metrics\n",
    "from sklearn.metrics import roc_curve, auc\n",
    "from sklearn.model_selection import train_test_split\n",
    "from sklearn.metrics import accuracy_score\n",
    "from sklearn.neighbors import KNeighborsClassifier, KNeighborsRegressor\n",
    "%matplotlib inline"
   ]
  },
  {
   "cell_type": "code",
   "execution_count": 51,
   "metadata": {},
   "outputs": [],
   "source": [
    "train_df = pd.read_csv(\"train.csv\", low_memory=False)\n",
    "test_df = pd.read_csv(\"test.csv\", low_memory=False)\n",
    "data = pd.read_csv(\"data_set.csv\", low_memory = False)"
   ]
  },
  {
   "cell_type": "code",
   "execution_count": 52,
   "metadata": {},
   "outputs": [
    {
     "data": {
      "text/plain": [
       "1500000.0    3041\n",
       "2500000.0    3036\n",
       "1200000.0    2909\n",
       "3500000.0    2726\n",
       "1300000.0    2480\n",
       "             ... \n",
       "2704600.0       1\n",
       "1352250.0       1\n",
       "938260.0        1\n",
       "2704460.0       1\n",
       "2327000.0       1\n",
       "Name: precio, Length: 15520, dtype: int64"
      ]
     },
     "execution_count": 52,
     "metadata": {},
     "output_type": "execute_result"
    }
   ],
   "source": [
    "train_df = train_df[['id','precio']]\n",
    "train_df['precio'].value_counts()"
   ]
  },
  {
   "cell_type": "code",
   "execution_count": 69,
   "metadata": {
    "scrolled": true
   },
   "outputs": [],
   "source": [
    "data = data[['id'\n",
    ",'usosmultiples.1'\n",
    ",'desc_alquila'\n",
    ",'titulo_alquila'\n",
    ",'desc_vende'\n",
    ",'titulo_vende'\n",
    ",'desc_positiva'\n",
    ",'titulo_positiva'\n",
    ",'desc_ambientes'\n",
    ",'titulo_ambientes'\n",
    ",'desc_seguridad'\n",
    ",'titulo_seguridad'\n",
    ",'desc_zona'\n",
    ",'titulo_zona'\n",
    ",'desc_avenida'\n",
    ",'titulo_avenida'\n",
    ",'popular_titulo_2'\n",
    ",'desc_antiguedad'\n",
    ",'titulo_antiguedad'\n",
    ",'desc_comedor'\n",
    ",'titulo_comedor'\n",
    ",'desc_estudio'\n",
    ",'titulo_estudio'\n",
    ",'desc_auto'\n",
    ",'titulo_auto'\n",
    ",'desc_amenities_lujo'\n",
    ",'titulo_amenities_lujo'\n",
    ",'desc_gym'\n",
    ",'titulo_gym'\n",
    ",'desc_construcc'\n",
    ",'titulo_construcc'\n",
    ",'desc_terminado'\n",
    ",'titulo_terminado'\n",
    ",'desc_anhelo'\n",
    ",'titulo_anhelo'\n",
    ",'desc_pago'\n",
    ",'titulo_pago'\n",
    ",'desc_frente'\n",
    ",'titulo_frente'\n",
    ",'desc_escuela'\n",
    ",'titulo_escuela'\n",
    ",'desc_amoblado'\n",
    ",'titulo_amoblado'\n",
    ",'desc_tipo_casa'\n",
    ",'titulo_tipo_casa'\n",
    ",'desc_tipo_dpto'\n",
    ",'titulo_tipo_dpto'\n",
    ",'desc_oficina'\n",
    ",'titulo_oficina'\n",
    ",'desc_transport'\n",
    ",'Desconocida'\n",
    ",'titulo_transport'\n",
    ",'desc_pileta'\n",
    ",'titulo_pileta'\n",
    ",'avenue_en_desc'\n",
    ",'avenida'\n",
    ",'idzona_0'\n",
    ",'idzona_1'\n",
    ",'idzona_2'\n",
    ",'idzona_3'\n",
    ",'idzona_4'\n",
    ",'idzona_5'\n",
    ",'idzona_6'\n",
    ",'idzona_7'\n",
    ",'idzona_8'\n",
    ",'idzona_9'\n",
    ",'idzona_10'\n",
    ",'idzona_11'\n",
    ",'idzona_12'\n",
    ",'idzona_13'\n",
    ",'idzona_14'\n",
    ",'idzona_15'\n",
    ",'metroscubiertos_fillmean'\n",
    ",'metrostotales_fillmean'\n",
    ",'metrostotales_cuadrado'\n",
    ",'metroscubiertos_cuadrado'\n",
    ",'metrostotales_fillmean_cuadrado'\n",
    ",'metroscubiertos_fillmean_cuadrado'\n",
    ",'mes'\n",
    ",'dia'\n",
    ",'not_outlier'\n",
    ",'days_to_today_y'\n",
    ",'año'\n",
    ",'antiguedad_y'\n",
    ",'centroscomercialescercanos'\n",
    ",'escuelascercanas_y'\n",
    ",'habitaciones_y'\n",
    ",'garages_y'\n",
    ",'banos_y'\n",
    ",'anio_y'\n",
    ",'Apartamento_y'\n",
    ",'Bodega comercial_y'\n",
    ",'Casa_y'\n",
    ",'Casa en condominio_y'\n",
    ",'Casa uso de suelo_y'\n",
    ",'Departamento Compartido_y'\n",
    ",'Duplex_y'\n",
    ",'Edificio_y'\n",
    ",'Garage_y'\n",
    ",'Hospedaje_y'\n",
    ",'Huerta_y'\n",
    ",'Inmuebles productivos urbanos_y'\n",
    ",'Local Comercial_y'\n",
    ",'Local en centro comercial_y'\n",
    ",'Lote_y'\n",
    ",'Nave industrial_y'\n",
    ",'Oficina comercial_y'\n",
    ",'Otros_y'\n",
    ",'Quinta Vacacional_y'\n",
    ",'Rancho_y'\n",
    ",'Terreno_y'\n",
    ",'Terreno comercial_y'\n",
    ",'Terreno industrial_y'\n",
    ",'Villa_y'\n",
    ",'gimnasio_y'\n",
    ",'usosmultiples_y'\n",
    ",'piscina_y'\n",
    ",'qty_of_extras'\n",
    ",'metroscubiertos_y'\n",
    ",'metrostotales_y'\n",
    ",'popular_desc_1'\n",
    ",'popular_desc_2_y'\n",
    ",'popular_desc_3'\n",
    ",'popular_desc_4'\n",
    ",'popular_desc_5'\n",
    ",'popular_desc_6'\n",
    ",'popular_desc_7'\n",
    ",'popular_desc_8'\n",
    ",'popular_desc_9'\n",
    ",'popular_desc_10'\n",
    ",'popular_desc_11'\n",
    ",'popular_desc_12'\n",
    ",'popular_desc_13'\n",
    ",'idzona'\n",
    ",'lat'\n",
    ",'lng'\n",
    ",'avenue_y'\n",
    ",'Aguascalientes'\n",
    ",'Baja California Norte'\n",
    ",'Baja California Sur'\n",
    ",'Campeche'\n",
    ",'Chiapas'\n",
    ",'Chihuahua'\n",
    ",'Coahuila'\n",
    ",'Colima'\n",
    ",'Distrito Federal'\n",
    ",'Durango'\n",
    ",'Edo. de México'\n",
    ",'Guanajuato'\n",
    ",'Guerrero'\n",
    ",'Hidalgo'\n",
    ",'Jalisco'\n",
    ",'Michoacán'\n",
    ",'Morelos'\n",
    ",'Nayarit'\n",
    ",'Nuevo León'\n",
    ",'Oaxaca'\n",
    ",'Puebla'\n",
    ",'Querétaro'\n",
    ",'Quintana Roo'\n",
    ",'San luis Potosí'\n",
    ",'Sinaloa'\n",
    ",'Sonora'\n",
    ",'Tabasco'\n",
    ",'Tamaulipas'\n",
    ",'Tlaxcala'\n",
    ",'Veracruz'\n",
    ",'Yucatán'\n",
    ",'Zacatecas'\n",
    ",'precio_ciudad'\n",
    ",'precio_provincia'\n",
    ",'precio_idzona']]"
   ]
  },
  {
   "cell_type": "code",
   "execution_count": 70,
   "metadata": {},
   "outputs": [
    {
     "data": {
      "text/plain": [
       "(60000, 22)"
      ]
     },
     "execution_count": 70,
     "metadata": {},
     "output_type": "execute_result"
    }
   ],
   "source": [
    "test_df.shape"
   ]
  },
  {
   "cell_type": "code",
   "execution_count": 71,
   "metadata": {},
   "outputs": [
    {
     "data": {
      "text/plain": [
       "(240000, 2)"
      ]
     },
     "execution_count": 71,
     "metadata": {},
     "output_type": "execute_result"
    }
   ],
   "source": [
    "train_df.shape"
   ]
  },
  {
   "cell_type": "code",
   "execution_count": 72,
   "metadata": {},
   "outputs": [
    {
     "data": {
      "text/plain": [
       "1500000.0    3041\n",
       "2500000.0    3036\n",
       "1200000.0    2909\n",
       "3500000.0    2726\n",
       "1300000.0    2480\n",
       "             ... \n",
       "2704600.0       1\n",
       "1352250.0       1\n",
       "938260.0        1\n",
       "2704460.0       1\n",
       "2327000.0       1\n",
       "Name: precio, Length: 15520, dtype: int64"
      ]
     },
     "execution_count": 72,
     "metadata": {},
     "output_type": "execute_result"
    }
   ],
   "source": [
    "features = pd.merge(train_df, data, on='id', how='inner')\n",
    "features = features.fillna(0)\n",
    "features['precio'].value_counts()"
   ]
  },
  {
   "cell_type": "code",
   "execution_count": 73,
   "metadata": {},
   "outputs": [],
   "source": [
    "labels = features['precio']\n",
    "features = features.drop(['id','precio'], axis=1)\n"
   ]
  },
  {
   "cell_type": "code",
   "execution_count": null,
   "metadata": {},
   "outputs": [],
   "source": []
  },
  {
   "cell_type": "code",
   "execution_count": 74,
   "metadata": {},
   "outputs": [],
   "source": [
    "set_test = pd.merge(data, test_df[['id']],on = \"id\", how = \"inner\")\n",
    "ids = set_test[\"id\"]\n",
    "set_test = set_test.drop(columns=['id'])"
   ]
  },
  {
   "cell_type": "code",
   "execution_count": 75,
   "metadata": {},
   "outputs": [],
   "source": [
    "set_test = set_test.fillna(0)"
   ]
  },
  {
   "cell_type": "code",
   "execution_count": 76,
   "metadata": {},
   "outputs": [
    {
     "data": {
      "text/html": [
       "<div>\n",
       "<style scoped>\n",
       "    .dataframe tbody tr th:only-of-type {\n",
       "        vertical-align: middle;\n",
       "    }\n",
       "\n",
       "    .dataframe tbody tr th {\n",
       "        vertical-align: top;\n",
       "    }\n",
       "\n",
       "    .dataframe thead th {\n",
       "        text-align: right;\n",
       "    }\n",
       "</style>\n",
       "<table border=\"1\" class=\"dataframe\">\n",
       "  <thead>\n",
       "    <tr style=\"text-align: right;\">\n",
       "      <th></th>\n",
       "      <th>usosmultiples.1</th>\n",
       "      <th>desc_alquila</th>\n",
       "      <th>titulo_alquila</th>\n",
       "      <th>desc_vende</th>\n",
       "      <th>titulo_vende</th>\n",
       "      <th>desc_positiva</th>\n",
       "      <th>titulo_positiva</th>\n",
       "      <th>desc_ambientes</th>\n",
       "      <th>titulo_ambientes</th>\n",
       "      <th>desc_seguridad</th>\n",
       "      <th>...</th>\n",
       "      <th>Sonora</th>\n",
       "      <th>Tabasco</th>\n",
       "      <th>Tamaulipas</th>\n",
       "      <th>Tlaxcala</th>\n",
       "      <th>Veracruz</th>\n",
       "      <th>Yucatán</th>\n",
       "      <th>Zacatecas</th>\n",
       "      <th>precio_ciudad</th>\n",
       "      <th>precio_provincia</th>\n",
       "      <th>precio_idzona</th>\n",
       "    </tr>\n",
       "  </thead>\n",
       "  <tbody>\n",
       "    <tr>\n",
       "      <td>0</td>\n",
       "      <td>0.0</td>\n",
       "      <td>0</td>\n",
       "      <td>0</td>\n",
       "      <td>0</td>\n",
       "      <td>1</td>\n",
       "      <td>1</td>\n",
       "      <td>0</td>\n",
       "      <td>0</td>\n",
       "      <td>0</td>\n",
       "      <td>0</td>\n",
       "      <td>...</td>\n",
       "      <td>0</td>\n",
       "      <td>0</td>\n",
       "      <td>0</td>\n",
       "      <td>0</td>\n",
       "      <td>0</td>\n",
       "      <td>0</td>\n",
       "      <td>0</td>\n",
       "      <td>4.496526e+06</td>\n",
       "      <td>3.471705e+06</td>\n",
       "      <td>0.000000e+00</td>\n",
       "    </tr>\n",
       "    <tr>\n",
       "      <td>1</td>\n",
       "      <td>0.0</td>\n",
       "      <td>0</td>\n",
       "      <td>0</td>\n",
       "      <td>0</td>\n",
       "      <td>1</td>\n",
       "      <td>1</td>\n",
       "      <td>0</td>\n",
       "      <td>1</td>\n",
       "      <td>0</td>\n",
       "      <td>1</td>\n",
       "      <td>...</td>\n",
       "      <td>0</td>\n",
       "      <td>0</td>\n",
       "      <td>0</td>\n",
       "      <td>0</td>\n",
       "      <td>0</td>\n",
       "      <td>1</td>\n",
       "      <td>0</td>\n",
       "      <td>2.028803e+06</td>\n",
       "      <td>2.036020e+06</td>\n",
       "      <td>2.684120e+06</td>\n",
       "    </tr>\n",
       "    <tr>\n",
       "      <td>2</td>\n",
       "      <td>0.0</td>\n",
       "      <td>0</td>\n",
       "      <td>0</td>\n",
       "      <td>1</td>\n",
       "      <td>0</td>\n",
       "      <td>0</td>\n",
       "      <td>0</td>\n",
       "      <td>1</td>\n",
       "      <td>0</td>\n",
       "      <td>1</td>\n",
       "      <td>...</td>\n",
       "      <td>0</td>\n",
       "      <td>0</td>\n",
       "      <td>0</td>\n",
       "      <td>0</td>\n",
       "      <td>0</td>\n",
       "      <td>0</td>\n",
       "      <td>0</td>\n",
       "      <td>3.407009e+06</td>\n",
       "      <td>3.471705e+06</td>\n",
       "      <td>2.726905e+06</td>\n",
       "    </tr>\n",
       "    <tr>\n",
       "      <td>3</td>\n",
       "      <td>0.0</td>\n",
       "      <td>0</td>\n",
       "      <td>0</td>\n",
       "      <td>0</td>\n",
       "      <td>1</td>\n",
       "      <td>0</td>\n",
       "      <td>0</td>\n",
       "      <td>1</td>\n",
       "      <td>0</td>\n",
       "      <td>1</td>\n",
       "      <td>...</td>\n",
       "      <td>0</td>\n",
       "      <td>0</td>\n",
       "      <td>0</td>\n",
       "      <td>0</td>\n",
       "      <td>0</td>\n",
       "      <td>0</td>\n",
       "      <td>0</td>\n",
       "      <td>2.585813e+06</td>\n",
       "      <td>2.548742e+06</td>\n",
       "      <td>1.465647e+06</td>\n",
       "    </tr>\n",
       "    <tr>\n",
       "      <td>4</td>\n",
       "      <td>0.0</td>\n",
       "      <td>0</td>\n",
       "      <td>0</td>\n",
       "      <td>0</td>\n",
       "      <td>0</td>\n",
       "      <td>1</td>\n",
       "      <td>1</td>\n",
       "      <td>1</td>\n",
       "      <td>0</td>\n",
       "      <td>1</td>\n",
       "      <td>...</td>\n",
       "      <td>0</td>\n",
       "      <td>0</td>\n",
       "      <td>0</td>\n",
       "      <td>0</td>\n",
       "      <td>0</td>\n",
       "      <td>0</td>\n",
       "      <td>0</td>\n",
       "      <td>9.147382e+05</td>\n",
       "      <td>2.762465e+06</td>\n",
       "      <td>9.399999e+05</td>\n",
       "    </tr>\n",
       "  </tbody>\n",
       "</table>\n",
       "<p>5 rows × 171 columns</p>\n",
       "</div>"
      ],
      "text/plain": [
       "   usosmultiples.1  desc_alquila  titulo_alquila  desc_vende  titulo_vende  \\\n",
       "0              0.0             0               0           0             1   \n",
       "1              0.0             0               0           0             1   \n",
       "2              0.0             0               0           1             0   \n",
       "3              0.0             0               0           0             1   \n",
       "4              0.0             0               0           0             0   \n",
       "\n",
       "   desc_positiva  titulo_positiva  desc_ambientes  titulo_ambientes  \\\n",
       "0              1                0               0                 0   \n",
       "1              1                0               1                 0   \n",
       "2              0                0               1                 0   \n",
       "3              0                0               1                 0   \n",
       "4              1                1               1                 0   \n",
       "\n",
       "   desc_seguridad  ...  Sonora  Tabasco  Tamaulipas  Tlaxcala  Veracruz  \\\n",
       "0               0  ...       0        0           0         0         0   \n",
       "1               1  ...       0        0           0         0         0   \n",
       "2               1  ...       0        0           0         0         0   \n",
       "3               1  ...       0        0           0         0         0   \n",
       "4               1  ...       0        0           0         0         0   \n",
       "\n",
       "   Yucatán  Zacatecas  precio_ciudad  precio_provincia  precio_idzona  \n",
       "0        0          0   4.496526e+06      3.471705e+06   0.000000e+00  \n",
       "1        1          0   2.028803e+06      2.036020e+06   2.684120e+06  \n",
       "2        0          0   3.407009e+06      3.471705e+06   2.726905e+06  \n",
       "3        0          0   2.585813e+06      2.548742e+06   1.465647e+06  \n",
       "4        0          0   9.147382e+05      2.762465e+06   9.399999e+05  \n",
       "\n",
       "[5 rows x 171 columns]"
      ]
     },
     "execution_count": 76,
     "metadata": {},
     "output_type": "execute_result"
    }
   ],
   "source": [
    "set_test.head()"
   ]
  },
  {
   "cell_type": "code",
   "execution_count": null,
   "metadata": {},
   "outputs": [],
   "source": []
  },
  {
   "cell_type": "code",
   "execution_count": 77,
   "metadata": {},
   "outputs": [
    {
     "data": {
      "text/plain": [
       "XGBRegressor(base_score=0.5, booster='gbtree', colsample_bylevel=1,\n",
       "             colsample_bynode=1, colsample_bytree=0.5, gamma=0,\n",
       "             importance_type='gain', learning_rate=0.02, max_delta_step=0,\n",
       "             max_depth=10, min_child_weight=1, missing=None, n_estimators=500,\n",
       "             n_jobs=1, nthread=None, objective='reg:squarederror',\n",
       "             random_state=0, reg_alpha=0, reg_lambda=1, scale_pos_weight=1,\n",
       "             seed=None, silent=None, subsample=0.5, verbosity=1)"
      ]
     },
     "execution_count": 77,
     "metadata": {},
     "output_type": "execute_result"
    }
   ],
   "source": [
    "regressor = xgboost.XGBRegressor(objective='reg:squarederror', n_estimators=500, learning_rate=0.02,\n",
    "                             gamma=0, subsample=0.5, colsample_bytree=0.5, max_depth=10, min_child_weight=1)\n",
    "\n",
    "regressor.fit(features, labels)"
   ]
  },
  {
   "cell_type": "code",
   "execution_count": null,
   "metadata": {},
   "outputs": [],
   "source": []
  },
  {
   "cell_type": "code",
   "execution_count": null,
   "metadata": {},
   "outputs": [],
   "source": []
  },
  {
   "cell_type": "code",
   "execution_count": null,
   "metadata": {},
   "outputs": [],
   "source": []
  },
  {
   "cell_type": "code",
   "execution_count": null,
   "metadata": {},
   "outputs": [],
   "source": []
  },
  {
   "cell_type": "code",
   "execution_count": null,
   "metadata": {},
   "outputs": [],
   "source": []
  },
  {
   "cell_type": "code",
   "execution_count": null,
   "metadata": {},
   "outputs": [],
   "source": []
  },
  {
   "cell_type": "code",
   "execution_count": null,
   "metadata": {},
   "outputs": [],
   "source": []
  },
  {
   "cell_type": "code",
   "execution_count": 78,
   "metadata": {},
   "outputs": [],
   "source": [
    "preds_kaggel_knn = regressor.predict(set_test)"
   ]
  },
  {
   "cell_type": "code",
   "execution_count": 79,
   "metadata": {},
   "outputs": [
    {
     "name": "stdout",
     "output_type": "stream",
     "text": [
      "<class 'pandas.core.frame.DataFrame'>\n",
      "RangeIndex: 60000 entries, 0 to 59999\n",
      "Data columns (total 1 columns):\n",
      "0    60000 non-null float32\n",
      "dtypes: float32(1)\n",
      "memory usage: 234.5 KB\n"
     ]
    }
   ],
   "source": [
    "df_kaggel_knn = pd.DataFrame(preds_kaggel_knn)\n",
    "df_kaggel_knn.info()"
   ]
  },
  {
   "cell_type": "code",
   "execution_count": 80,
   "metadata": {},
   "outputs": [],
   "source": [
    "df_kaggel_knn = pd.DataFrame(df_kaggel_knn)"
   ]
  },
  {
   "cell_type": "code",
   "execution_count": 81,
   "metadata": {},
   "outputs": [
    {
     "data": {
      "text/html": [
       "<div>\n",
       "<style scoped>\n",
       "    .dataframe tbody tr th:only-of-type {\n",
       "        vertical-align: middle;\n",
       "    }\n",
       "\n",
       "    .dataframe tbody tr th {\n",
       "        vertical-align: top;\n",
       "    }\n",
       "\n",
       "    .dataframe thead th {\n",
       "        text-align: right;\n",
       "    }\n",
       "</style>\n",
       "<table border=\"1\" class=\"dataframe\">\n",
       "  <thead>\n",
       "    <tr style=\"text-align: right;\">\n",
       "      <th></th>\n",
       "      <th>0</th>\n",
       "    </tr>\n",
       "  </thead>\n",
       "  <tbody>\n",
       "    <tr>\n",
       "      <td>0</td>\n",
       "      <td>8.407520e+06</td>\n",
       "    </tr>\n",
       "    <tr>\n",
       "      <td>1</td>\n",
       "      <td>8.489314e+05</td>\n",
       "    </tr>\n",
       "    <tr>\n",
       "      <td>2</td>\n",
       "      <td>2.947959e+06</td>\n",
       "    </tr>\n",
       "    <tr>\n",
       "      <td>3</td>\n",
       "      <td>8.417749e+05</td>\n",
       "    </tr>\n",
       "    <tr>\n",
       "      <td>4</td>\n",
       "      <td>4.708846e+05</td>\n",
       "    </tr>\n",
       "  </tbody>\n",
       "</table>\n",
       "</div>"
      ],
      "text/plain": [
       "              0\n",
       "0  8.407520e+06\n",
       "1  8.489314e+05\n",
       "2  2.947959e+06\n",
       "3  8.417749e+05\n",
       "4  4.708846e+05"
      ]
     },
     "execution_count": 81,
     "metadata": {},
     "output_type": "execute_result"
    }
   ],
   "source": [
    "df_kaggel_knn.head()"
   ]
  },
  {
   "cell_type": "code",
   "execution_count": 82,
   "metadata": {},
   "outputs": [],
   "source": [
    "# df_kaggel_knn = df_kaggel_knn.to_frame()# df_kagg \n",
    "df_kaggel_knn[\"id\"] = ids\n",
    "df_kaggel_knn.rename(columns = {0: 'target'},inplace = True) \n",
    "df_kaggel_knn = df_kaggel_knn[['id','target']]"
   ]
  },
  {
   "cell_type": "code",
   "execution_count": null,
   "metadata": {},
   "outputs": [],
   "source": []
  },
  {
   "cell_type": "code",
   "execution_count": 83,
   "metadata": {},
   "outputs": [
    {
     "data": {
      "text/html": [
       "<div>\n",
       "<style scoped>\n",
       "    .dataframe tbody tr th:only-of-type {\n",
       "        vertical-align: middle;\n",
       "    }\n",
       "\n",
       "    .dataframe tbody tr th {\n",
       "        vertical-align: top;\n",
       "    }\n",
       "\n",
       "    .dataframe thead th {\n",
       "        text-align: right;\n",
       "    }\n",
       "</style>\n",
       "<table border=\"1\" class=\"dataframe\">\n",
       "  <thead>\n",
       "    <tr style=\"text-align: right;\">\n",
       "      <th></th>\n",
       "      <th>id</th>\n",
       "      <th>target</th>\n",
       "    </tr>\n",
       "  </thead>\n",
       "  <tbody>\n",
       "    <tr>\n",
       "      <td>0</td>\n",
       "      <td>4941</td>\n",
       "      <td>8.407520e+06</td>\n",
       "    </tr>\n",
       "    <tr>\n",
       "      <td>1</td>\n",
       "      <td>51775</td>\n",
       "      <td>8.489314e+05</td>\n",
       "    </tr>\n",
       "    <tr>\n",
       "      <td>2</td>\n",
       "      <td>115253</td>\n",
       "      <td>2.947959e+06</td>\n",
       "    </tr>\n",
       "    <tr>\n",
       "      <td>3</td>\n",
       "      <td>299321</td>\n",
       "      <td>8.417749e+05</td>\n",
       "    </tr>\n",
       "    <tr>\n",
       "      <td>4</td>\n",
       "      <td>173570</td>\n",
       "      <td>4.708846e+05</td>\n",
       "    </tr>\n",
       "  </tbody>\n",
       "</table>\n",
       "</div>"
      ],
      "text/plain": [
       "       id        target\n",
       "0    4941  8.407520e+06\n",
       "1   51775  8.489314e+05\n",
       "2  115253  2.947959e+06\n",
       "3  299321  8.417749e+05\n",
       "4  173570  4.708846e+05"
      ]
     },
     "execution_count": 83,
     "metadata": {},
     "output_type": "execute_result"
    }
   ],
   "source": [
    "df_kaggel_knn.head()"
   ]
  },
  {
   "cell_type": "code",
   "execution_count": 84,
   "metadata": {},
   "outputs": [],
   "source": [
    "df_kaggel_knn.to_csv('ResultadosXGB-final.csv',index=False)"
   ]
  },
  {
   "cell_type": "code",
   "execution_count": 85,
   "metadata": {},
   "outputs": [
    {
     "data": {
      "text/plain": [
       "(60000, 2)"
      ]
     },
     "execution_count": 85,
     "metadata": {},
     "output_type": "execute_result"
    }
   ],
   "source": [
    "df_kaggel_knn.shape"
   ]
  },
  {
   "cell_type": "code",
   "execution_count": 86,
   "metadata": {},
   "outputs": [
    {
     "data": {
      "text/html": [
       "<div>\n",
       "<style scoped>\n",
       "    .dataframe tbody tr th:only-of-type {\n",
       "        vertical-align: middle;\n",
       "    }\n",
       "\n",
       "    .dataframe tbody tr th {\n",
       "        vertical-align: top;\n",
       "    }\n",
       "\n",
       "    .dataframe thead th {\n",
       "        text-align: right;\n",
       "    }\n",
       "</style>\n",
       "<table border=\"1\" class=\"dataframe\">\n",
       "  <thead>\n",
       "    <tr style=\"text-align: right;\">\n",
       "      <th></th>\n",
       "      <th>id</th>\n",
       "      <th>target</th>\n",
       "    </tr>\n",
       "  </thead>\n",
       "  <tbody>\n",
       "    <tr>\n",
       "      <td>0</td>\n",
       "      <td>4941</td>\n",
       "      <td>8.407520e+06</td>\n",
       "    </tr>\n",
       "    <tr>\n",
       "      <td>1</td>\n",
       "      <td>51775</td>\n",
       "      <td>8.489314e+05</td>\n",
       "    </tr>\n",
       "    <tr>\n",
       "      <td>2</td>\n",
       "      <td>115253</td>\n",
       "      <td>2.947959e+06</td>\n",
       "    </tr>\n",
       "    <tr>\n",
       "      <td>3</td>\n",
       "      <td>299321</td>\n",
       "      <td>8.417749e+05</td>\n",
       "    </tr>\n",
       "    <tr>\n",
       "      <td>4</td>\n",
       "      <td>173570</td>\n",
       "      <td>4.708846e+05</td>\n",
       "    </tr>\n",
       "  </tbody>\n",
       "</table>\n",
       "</div>"
      ],
      "text/plain": [
       "       id        target\n",
       "0    4941  8.407520e+06\n",
       "1   51775  8.489314e+05\n",
       "2  115253  2.947959e+06\n",
       "3  299321  8.417749e+05\n",
       "4  173570  4.708846e+05"
      ]
     },
     "execution_count": 86,
     "metadata": {},
     "output_type": "execute_result"
    }
   ],
   "source": [
    "df_kaggel_knn.head()"
   ]
  },
  {
   "cell_type": "code",
   "execution_count": null,
   "metadata": {},
   "outputs": [],
   "source": []
  },
  {
   "cell_type": "code",
   "execution_count": 87,
   "metadata": {},
   "outputs": [
    {
     "data": {
      "image/png": "[encoded data removed]",
      "text/plain": [
       "<matplotlib.figure.Figure at 0x7f9af5996c18>"
      ]
     },
     "metadata": {
      "needs_background": "light"
     },
     "output_type": "display_data"
    }
   ],
   "source": [
    "import matplotlib.pyplot as plt\n",
    "xgb.plot_importance(regressor)\n",
    "plt.rcParams['figure.figsize'] = [5, 5]\n",
    "plt.show()"
   ]
  },
  {
   "cell_type": "code",
   "execution_count": null,
   "metadata": {},
   "outputs": [],
   "source": []
  }
 ],
 "metadata": {
  "kernelspec": {
   "display_name": "Python 3",
   "language": "python",
   "name": "python3"
  },
  "language_info": {
   "codemirror_mode": {
    "name": "ipython",
    "version": 3
   },
   "file_extension": ".py",
   "mimetype": "text/x-python",
   "name": "python",
   "nbconvert_exporter": "python",
   "pygments_lexer": "ipython3",
   "version": "3.6.8"
  }
 },
 "nbformat": 4,
 "nbformat_minor": 2
}
