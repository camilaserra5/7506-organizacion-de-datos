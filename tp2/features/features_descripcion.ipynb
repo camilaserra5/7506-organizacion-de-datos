{
 "cells": [
  {
   "cell_type": "code",
   "execution_count": 74,
   "metadata": {},
   "outputs": [],
   "source": [
    "import pandas as pd\n",
    "import numpy as np\n",
    "import datetime\n",
    "from datetime import datetime, timedelta\n",
    "import utils\n",
    "import warnings\n",
    "warnings.simplefilter(action='ignore', category=FutureWarning)\n",
    "warnings.simplefilter(action='ignore', category=RuntimeWarning)"
   ]
  },
  {
   "cell_type": "code",
   "execution_count": 75,
   "metadata": {},
   "outputs": [],
   "source": [
    "# Cargamos el dataframe\n",
    "df = pd.read_csv('train.csv', parse_dates=['fecha'])\n",
    "df = pd.concat([df, pd.read_csv('test.csv', parse_dates=['fecha'])])"
   ]
  },
  {
   "cell_type": "code",
   "execution_count": 76,
   "metadata": {},
   "outputs": [],
   "source": [
    "df = df[['id', 'descripcion']]"
   ]
  },
  {
   "cell_type": "code",
   "execution_count": 77,
   "metadata": {},
   "outputs": [
    {
     "data": {
      "text/html": [
       "<div>\n",
       "<style scoped>\n",
       "    .dataframe tbody tr th:only-of-type {\n",
       "        vertical-align: middle;\n",
       "    }\n",
       "\n",
       "    .dataframe tbody tr th {\n",
       "        vertical-align: top;\n",
       "    }\n",
       "\n",
       "    .dataframe thead th {\n",
       "        text-align: right;\n",
       "    }\n",
       "</style>\n",
       "<table border=\"1\" class=\"dataframe\">\n",
       "  <thead>\n",
       "    <tr style=\"text-align: right;\">\n",
       "      <th></th>\n",
       "      <th>id</th>\n",
       "      <th>descripcion</th>\n",
       "    </tr>\n",
       "  </thead>\n",
       "  <tbody>\n",
       "    <tr>\n",
       "      <td>0</td>\n",
       "      <td>254099</td>\n",
       "      <td>depto. interior de 80.15m2, consta de sala com...</td>\n",
       "    </tr>\n",
       "    <tr>\n",
       "      <td>1</td>\n",
       "      <td>53461</td>\n",
       "      <td>&lt;p&gt;entre sonora y guerrero, atr&amp;aacute;s del h...</td>\n",
       "    </tr>\n",
       "    <tr>\n",
       "      <td>2</td>\n",
       "      <td>247984</td>\n",
       "      <td>descripcion \\nla mejor ubicacion residencial e...</td>\n",
       "    </tr>\n",
       "    <tr>\n",
       "      <td>3</td>\n",
       "      <td>209067</td>\n",
       "      <td>casa en privada con caseta de vigilancia casas...</td>\n",
       "    </tr>\n",
       "    <tr>\n",
       "      <td>4</td>\n",
       "      <td>185997</td>\n",
       "      <td>bonito departamento en excelentes condiciones ...</td>\n",
       "    </tr>\n",
       "  </tbody>\n",
       "</table>\n",
       "</div>"
      ],
      "text/plain": [
       "       id                                        descripcion\n",
       "0  254099  depto. interior de 80.15m2, consta de sala com...\n",
       "1   53461  <p>entre sonora y guerrero, atr&aacute;s del h...\n",
       "2  247984  descripcion \\nla mejor ubicacion residencial e...\n",
       "3  209067  casa en privada con caseta de vigilancia casas...\n",
       "4  185997  bonito departamento en excelentes condiciones ..."
      ]
     },
     "execution_count": 77,
     "metadata": {},
     "output_type": "execute_result"
    }
   ],
   "source": [
    "df.head()"
   ]
  },
  {
   "cell_type": "code",
   "execution_count": null,
   "metadata": {},
   "outputs": [],
   "source": []
  },
  {
   "cell_type": "code",
   "execution_count": null,
   "metadata": {},
   "outputs": [],
   "source": []
  },
  {
   "cell_type": "code",
   "execution_count": 79,
   "metadata": {},
   "outputs": [],
   "source": [
    "popular_words = ['excelente', 'bonita', 'hermosa', 'espectacular', 'encanto', 'lujo', 'increible']\n",
    "pattern = '|'.join(popular_words)\n",
    "\n",
    "\n",
    "df['popular_desc_1'] = df['descripcion'].str.contains(pattern)\n",
    "df['popular_desc_1'] = df['popular_desc_1'].fillna(False).astype(int)"
   ]
  },
  {
   "cell_type": "code",
   "execution_count": 81,
   "metadata": {},
   "outputs": [],
   "source": [
    "popular_words = ['jardin', 'terraza', 'patio']\n",
    "pattern = '|'.join(popular_words)\n",
    "\n",
    "\n",
    "df['popular_desc_2'] = df['descripcion'].str.contains(pattern)\n",
    "df['popular_desc_2'] = df['popular_desc_2'].fillna(False).astype(int)"
   ]
  },
  {
   "cell_type": "code",
   "execution_count": 82,
   "metadata": {},
   "outputs": [],
   "source": [
    "sale = ['venta', 'vende']\n",
    "pattern = '|'.join(sale)\n",
    "\n",
    "\n",
    "df['popular_desc_3'] = df['descripcion'].str.contains(pattern)\n",
    "df['popular_desc_3'] = df['popular_desc_3'].fillna(False).astype(int)"
   ]
  },
  {
   "cell_type": "code",
   "execution_count": 83,
   "metadata": {},
   "outputs": [],
   "source": [
    "rent = ['alquiler', 'alquila', 'alquilo']\n",
    "pattern = '|'.join(rent)\n",
    "\n",
    "\n",
    "df['popular_desc_4'] = df['descripcion'].str.contains(pattern)\n",
    "df['popular_desc_4'] = df['popular_desc_4'].fillna(False).astype(int)"
   ]
  },
  {
   "cell_type": "code",
   "execution_count": null,
   "metadata": {},
   "outputs": [],
   "source": [
    "popular_words = ['mueble', 'amueblado', 'equipado']\n",
    "pattern = '|'.join(popular_words)\n",
    "\n",
    "\n",
    "df['popular_desc_5'] = df['descripcion'].str.contains(pattern)\n",
    "df['popular_desc_5'] = df['popular_desc_5'].fillna(False).astype(int)"
   ]
  },
  {
   "cell_type": "code",
   "execution_count": null,
   "metadata": {},
   "outputs": [],
   "source": [
    "popular_words = ['estrenar', 'estreno', 'nuevo']\n",
    "pattern = '|'.join(popular_words)\n",
    "\n",
    "\n",
    "df['popular_desc_6'] = df['descripcion'].str.contains(pattern)\n",
    "df['popular_desc_6'] = df['popular_desc_6'].fillna(False).astype(int)"
   ]
  },
  {
   "cell_type": "code",
   "execution_count": null,
   "metadata": {},
   "outputs": [],
   "source": [
    "popular_words = ['vista', 'frente', 'ubicacion']\n",
    "pattern = '|'.join(popular_words)\n",
    "\n",
    "\n",
    "df['popular_desc_7'] = df['descripcion'].str.contains(pattern)\n",
    "df['popular_desc_7'] = df['popular_desc_7'].fillna(False).astype(int)"
   ]
  },
  {
   "cell_type": "code",
   "execution_count": null,
   "metadata": {},
   "outputs": [],
   "source": [
    "popular_words = ['mascotas', 'mascota', 'perro', 'gato', 'animal', 'pet']\n",
    "pattern = '|'.join(popular_words)\n",
    "\n",
    "\n",
    "df['popular_desc_8'] = df['descripcion'].str.contains(pattern)\n",
    "df['popular_desc_8'] = df['popular_desc_8'].fillna(False).astype(int)"
   ]
  },
  {
   "cell_type": "code",
   "execution_count": null,
   "metadata": {},
   "outputs": [],
   "source": [
    "popular_words = ['torre', 'country', 'tower']\n",
    "pattern = '|'.join(popular_words)\n",
    "\n",
    "\n",
    "df['popular_desc_9'] = df['descripcion'].str.contains(pattern)\n",
    "df['popular_desc_9'] = df['popular_desc_9'].fillna(False).astype(int)"
   ]
  },
  {
   "cell_type": "code",
   "execution_count": null,
   "metadata": {},
   "outputs": [],
   "source": [
    "popular_words = ['luz', 'luminoso']\n",
    "pattern = '|'.join(popular_words)\n",
    "\n",
    "\n",
    "df['popular_desc_10'] = df['descripcion'].str.contains(pattern)\n",
    "df['popular_desc_10'] = df['popular_desc_10'].fillna(False).astype(int)"
   ]
  },
  {
   "cell_type": "code",
   "execution_count": null,
   "metadata": {},
   "outputs": [],
   "source": [
    "popular_words = ['mar', 'playa', 'club', 'beach']\n",
    "pattern = '|'.join(popular_words)\n",
    "\n",
    "\n",
    "df['popular_desc_11'] = df['descripcion'].str.contains(pattern)\n",
    "df['popular_desc_11'] = df['popular_desc_11'].fillna(False).astype(int)"
   ]
  },
  {
   "cell_type": "code",
   "execution_count": null,
   "metadata": {},
   "outputs": [],
   "source": [
    "popular_words = ['hotelera', 'hotel']\n",
    "pattern = '|'.join(popular_words)\n",
    "\n",
    "\n",
    "df['popular_desc_12'] = df['descripcion'].str.contains(pattern)\n",
    "df['popular_desc_12'] = df['popular_desc_12'].fillna(False).astype(int)"
   ]
  },
  {
   "cell_type": "code",
   "execution_count": null,
   "metadata": {},
   "outputs": [],
   "source": [
    "popular_words = ['oportunidad', 'solidaridad']\n",
    "pattern = '|'.join(popular_words)\n",
    "\n",
    "\n",
    "df['popular_desc_13'] = df['descripcion'].str.contains(pattern)\n",
    "df['popular_desc_13'] = df['popular_desc_13'].fillna(False).astype(int)"
   ]
  },
  {
   "cell_type": "code",
   "execution_count": null,
   "metadata": {},
   "outputs": [],
   "source": []
  },
  {
   "cell_type": "code",
   "execution_count": null,
   "metadata": {},
   "outputs": [],
   "source": []
  },
  {
   "cell_type": "code",
   "execution_count": null,
   "metadata": {},
   "outputs": [],
   "source": []
  },
  {
   "cell_type": "code",
   "execution_count": null,
   "metadata": {},
   "outputs": [],
   "source": []
  },
  {
   "cell_type": "code",
   "execution_count": null,
   "metadata": {},
   "outputs": [],
   "source": []
  },
  {
   "cell_type": "code",
   "execution_count": null,
   "metadata": {},
   "outputs": [],
   "source": []
  },
  {
   "cell_type": "code",
   "execution_count": null,
   "metadata": {},
   "outputs": [],
   "source": []
  },
  {
   "cell_type": "code",
   "execution_count": 84,
   "metadata": {},
   "outputs": [
    {
     "data": {
      "text/html": [
       "<div>\n",
       "<style scoped>\n",
       "    .dataframe tbody tr th:only-of-type {\n",
       "        vertical-align: middle;\n",
       "    }\n",
       "\n",
       "    .dataframe tbody tr th {\n",
       "        vertical-align: top;\n",
       "    }\n",
       "\n",
       "    .dataframe thead th {\n",
       "        text-align: right;\n",
       "    }\n",
       "</style>\n",
       "<table border=\"1\" class=\"dataframe\">\n",
       "  <thead>\n",
       "    <tr style=\"text-align: right;\">\n",
       "      <th></th>\n",
       "      <th>id</th>\n",
       "      <th>popular_desc_1</th>\n",
       "      <th>popular_desc_2</th>\n",
       "      <th>popular_desc_3</th>\n",
       "      <th>popular_desc_4</th>\n",
       "    </tr>\n",
       "  </thead>\n",
       "  <tbody>\n",
       "    <tr>\n",
       "      <td>0</td>\n",
       "      <td>254099</td>\n",
       "      <td>0</td>\n",
       "      <td>0</td>\n",
       "      <td>0</td>\n",
       "      <td>0</td>\n",
       "    </tr>\n",
       "    <tr>\n",
       "      <td>1</td>\n",
       "      <td>53461</td>\n",
       "      <td>1</td>\n",
       "      <td>1</td>\n",
       "      <td>0</td>\n",
       "      <td>0</td>\n",
       "    </tr>\n",
       "    <tr>\n",
       "      <td>2</td>\n",
       "      <td>247984</td>\n",
       "      <td>0</td>\n",
       "      <td>1</td>\n",
       "      <td>0</td>\n",
       "      <td>0</td>\n",
       "    </tr>\n",
       "    <tr>\n",
       "      <td>3</td>\n",
       "      <td>209067</td>\n",
       "      <td>0</td>\n",
       "      <td>0</td>\n",
       "      <td>0</td>\n",
       "      <td>0</td>\n",
       "    </tr>\n",
       "    <tr>\n",
       "      <td>4</td>\n",
       "      <td>185997</td>\n",
       "      <td>1</td>\n",
       "      <td>0</td>\n",
       "      <td>0</td>\n",
       "      <td>0</td>\n",
       "    </tr>\n",
       "    <tr>\n",
       "      <td>...</td>\n",
       "      <td>...</td>\n",
       "      <td>...</td>\n",
       "      <td>...</td>\n",
       "      <td>...</td>\n",
       "      <td>...</td>\n",
       "    </tr>\n",
       "    <tr>\n",
       "      <td>59995</td>\n",
       "      <td>75094</td>\n",
       "      <td>0</td>\n",
       "      <td>0</td>\n",
       "      <td>0</td>\n",
       "      <td>0</td>\n",
       "    </tr>\n",
       "    <tr>\n",
       "      <td>59996</td>\n",
       "      <td>171847</td>\n",
       "      <td>0</td>\n",
       "      <td>1</td>\n",
       "      <td>0</td>\n",
       "      <td>0</td>\n",
       "    </tr>\n",
       "    <tr>\n",
       "      <td>59997</td>\n",
       "      <td>138313</td>\n",
       "      <td>1</td>\n",
       "      <td>1</td>\n",
       "      <td>1</td>\n",
       "      <td>0</td>\n",
       "    </tr>\n",
       "    <tr>\n",
       "      <td>59998</td>\n",
       "      <td>271268</td>\n",
       "      <td>1</td>\n",
       "      <td>0</td>\n",
       "      <td>0</td>\n",
       "      <td>0</td>\n",
       "    </tr>\n",
       "    <tr>\n",
       "      <td>59999</td>\n",
       "      <td>72612</td>\n",
       "      <td>1</td>\n",
       "      <td>0</td>\n",
       "      <td>0</td>\n",
       "      <td>0</td>\n",
       "    </tr>\n",
       "  </tbody>\n",
       "</table>\n",
       "<p>300000 rows × 5 columns</p>\n",
       "</div>"
      ],
      "text/plain": [
       "           id  popular_desc_1  popular_desc_2  popular_desc_3  popular_desc_4\n",
       "0      254099               0               0               0               0\n",
       "1       53461               1               1               0               0\n",
       "2      247984               0               1               0               0\n",
       "3      209067               0               0               0               0\n",
       "4      185997               1               0               0               0\n",
       "...       ...             ...             ...             ...             ...\n",
       "59995   75094               0               0               0               0\n",
       "59996  171847               0               1               0               0\n",
       "59997  138313               1               1               1               0\n",
       "59998  271268               1               0               0               0\n",
       "59999   72612               1               0               0               0\n",
       "\n",
       "[300000 rows x 5 columns]"
      ]
     },
     "execution_count": 84,
     "metadata": {},
     "output_type": "execute_result"
    }
   ],
   "source": [
    "df = df.drop('descripcion', axis=1)\n",
    "df"
   ]
  },
  {
   "cell_type": "code",
   "execution_count": 85,
   "metadata": {},
   "outputs": [],
   "source": [
    "df=df.fillna(0)\n",
    "df.to_csv('features_descripcion.csv',index=False)"
   ]
  },
  {
   "cell_type": "code",
   "execution_count": null,
   "metadata": {},
   "outputs": [],
   "source": []
  },
  {
   "cell_type": "code",
   "execution_count": null,
   "metadata": {},
   "outputs": [],
   "source": []
  }
 ],
 "metadata": {
  "kernelspec": {
   "display_name": "Python 3",
   "language": "python",
   "name": "python3"
  },
  "language_info": {
   "codemirror_mode": {
    "name": "ipython",
    "version": 3
   },
   "file_extension": ".py",
   "mimetype": "text/x-python",
   "name": "python",
   "nbconvert_exporter": "python",
   "pygments_lexer": "ipython3",
   "version": "3.6.8"
  }
 },
 "nbformat": 4,
 "nbformat_minor": 2
}
