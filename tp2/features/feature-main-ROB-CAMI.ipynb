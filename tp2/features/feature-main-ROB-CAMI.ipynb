{
 "cells": [
  {
   "cell_type": "code",
   "execution_count": 1,
   "metadata": {},
   "outputs": [],
   "source": [
    "import pandas as pd\n",
    "import numpy as np\n",
    "import datetime\n",
    "import utils\n",
    "import os\n",
    "import warnings\n",
    "warnings.simplefilter(action='ignore', category=FutureWarning)\n",
    "warnings.simplefilter(action='ignore', category=RuntimeWarning)"
   ]
  },
  {
   "cell_type": "code",
   "execution_count": 6,
   "metadata": {},
   "outputs": [],
   "source": [
    "def add_features(events, features, on='id', how = 'left'):\n",
    "    \"\"\"Hace un merge de features a events\"\"\"\n",
    "    return pd.merge(events, features, on=on, how = how, suffixes=('', '_d'))\n",
    "\n",
    "def merge_features(list):\n",
    "    feature_final = list[0]\n",
    "    list.pop(0)\n",
    "    for features in list:\n",
    "        feature_final = add_features(feature_final,features)\n",
    "        \n",
    "    to_drop = [x for x in feature_final if x.endswith('_d')]\n",
    "    feature_final.drop(to_drop, axis=1, inplace=True)    \n",
    "    return feature_final"
   ]
  },
  {
   "cell_type": "code",
   "execution_count": null,
   "metadata": {},
   "outputs": [],
   "source": []
  },
  {
   "cell_type": "code",
   "execution_count": 3,
   "metadata": {},
   "outputs": [
    {
     "name": "stdout",
     "output_type": "stream",
     "text": [
      "Run F_ambientes\n",
      "Run F_amenities\n",
      "<class 'pandas.core.frame.DataFrame'>\n",
      "Int64Index: 300000 entries, 0 to 59999\n",
      "Data columns (total 8 columns):\n",
      "id                  300000 non-null int64\n",
      "tipodepropiedad     299947 non-null object\n",
      "gimnasio            300000 non-null float64\n",
      "usosmultiples       300000 non-null float64\n",
      "piscina             300000 non-null float64\n",
      "garages             252912 non-null float64\n",
      "escuelascercanas    300000 non-null float64\n",
      "usosmultiples       300000 non-null float64\n",
      "dtypes: float64(6), int64(1), object(1)\n",
      "memory usage: 20.6+ MB\n",
      "Run F_metros\n",
      "Run F_descripcion\n",
      "Run F_direccion\n",
      "Run F_idzona\n",
      "Run F_publicacion\n",
      "<class 'pandas.core.frame.DataFrame'>\n",
      "Int64Index: 300000 entries, 0 to 59999\n",
      "Data columns (total 23 columns):\n",
      "antiguedad                    245731 non-null float64\n",
      "banos                         267225 non-null float64\n",
      "centroscomercialescercanos    300000 non-null float64\n",
      "ciudad                        299545 non-null object\n",
      "descripcion                   297980 non-null object\n",
      "direccion                     233737 non-null object\n",
      "escuelascercanas              300000 non-null float64\n",
      "fecha                         300000 non-null datetime64[ns]\n",
      "garages                       252912 non-null float64\n",
      "gimnasio                      300000 non-null float64\n",
      "habitaciones                  271901 non-null float64\n",
      "id                            300000 non-null int64\n",
      "idzona                        264200 non-null float64\n",
      "lat                           145817 non-null float64\n",
      "lng                           145817 non-null float64\n",
      "metroscubiertos               278301 non-null float64\n",
      "metrostotales                 235878 non-null float64\n",
      "piscina                       300000 non-null float64\n",
      "precio                        240000 non-null float64\n",
      "provincia                     299803 non-null object\n",
      "tipodepropiedad               299947 non-null object\n",
      "titulo                        293235 non-null object\n",
      "usosmultiples                 300000 non-null float64\n",
      "dtypes: datetime64[ns](1), float64(15), int64(1), object(6)\n",
      "memory usage: 54.9+ MB\n",
      "Run F_not_outlier\n",
      "Run F_basicos\n",
      "Run F_ambientes\n",
      "Run F_amenities\n",
      "Run F_metros\n",
      "Run F_descripcion\n",
      "Run F_direccion\n",

      "Run F_dolar\n",
      "Run F_relaciones\n"

      "Run F_precio_x_direccion\n"

     ]
    }
   ],
   "source": [
    "print('Run F_ambientes')\n",
    "%run ./features_ambientes-ROB.ipynb\n",
    "print('Run F_amenities')\n",
    "%run ./features_amenities-ROB.ipynb\n",
    "print('Run F_metros')\n",
    "%run ./features_metros-ROB.ipynb\n",
    "print('Run F_descripcion')\n",
    "%run ./features_descripcion_ROB.ipynb\n",
    "print('Run F_direccion')\n",
    "%run ./features_direccion-ROB.ipynb\n",
    "print('Run F_idzona')\n",
    "%run ./features_idzona-ROB.ipynb\n",
    "print('Run F_publicacion')\n",
    "%run ./features_publicacion-ROB.ipynb\n",
    "print('Run F_not_outlier')\n",
    "%run ./features-filtrar-outliers.ipynb\n",
    "print('Run F_basicos')\n",
    "%run ./features_basicos.ipynb\n",
    "print('Run F_ambientes')\n",
    "%run ./features_ambientes.ipynb\n",
    "print('Run F_amenities')\n",
    "%run ./features_amenities.ipynb\n",
    "print('Run F_metros')\n",
    "%run ./features_metros.ipynb\n",
    "print('Run F_descripcion')\n",
    "%run ./features_descripcion.ipynb\n",
    "print('Run F_direccion')\n",
    "%run ./features_direccion.ipynb\n",

    "print('Run F_dolar')\n",
    "%run ./features_dolar.ipynb\n",
    "print('Run F_relaciones')\n",
    "%run ./features_relaciones.ipynb\n"

    "print('Run F_precio_x_direccion')\n",
    "%run ./features_precio_x_direccion.ipynb"

   ]
  },
  {
   "cell_type": "code",
   "execution_count": 4,
   "metadata": {},
   "outputs": [],
   "source": [
    "features_list = []\n",
    "features_list.append(pd.read_csv('features_ambientes_ROB.csv', low_memory=False))\n",
    "features_list.append(pd.read_csv('features_amenities_ROB.csv', low_memory=False))\n",
    "features_list.append(pd.read_csv('features_descripcion_ROB.csv', low_memory=False))\n",
    "features_list.append(pd.read_csv('features_direccion_ROB.csv', low_memory=False))\n",
    "features_list.append(pd.read_csv('features_idzona_ROB.csv', low_memory=False))\n",
    "features_list.append(pd.read_csv('features_metros_ROB.csv', low_memory=False))\n",
    "features_list.append(pd.read_csv('features_fecha_antiguedad_ROB.csv', low_memory=False))\n",
    "features_list.append(pd.read_csv('features_not_outlier_ROB.csv', low_memory=False))\n",
    "features_list.append(pd.read_csv('features_basicos.csv', low_memory=False))\n",
    "features_list.append(pd.read_csv('features_ambientes.csv', low_memory=False))\n",
    "features_list.append(pd.read_csv('features_amenities.csv', low_memory=False))\n",
    "features_list.append(pd.read_csv('features_metros.csv', low_memory=False))\n",
    "features_list.append(pd.read_csv('features_descripcion.csv', low_memory=False))\n",
    "features_list.append(pd.read_csv('features_direccion.csv', low_memory=False))\n",

    "features_list.append(pd.read_csv('features_dolar.csv', low_memory=False))\n",
    "features_list.append(pd.read_csv('features_relaciones.csv', low_memory=False))\n"

    "features_list.append(pd.read_csv('features_precio_x_direccion.csv', low_memory=False))\n"

   ]
  },
  {
   "cell_type": "code",
   "execution_count": null,
   "metadata": {},
   "outputs": [],
   "source": []
  },
  {
   "cell_type": "code",

   "execution_count": 7,

   "metadata": {},
   "outputs": [],
   "source": [
    "features = merge_features(features_list)\n",
    "features.fillna(value=0, inplace=True)\n",
    "features.head()"
   ]
  },
  {
   "cell_type": "code",
   "execution_count": 9,
   "metadata": {},
   "outputs": [
   ],
   "source": [
    "for c in features.columns:\n",
    "    print(c)"
   ]
  },
  {
   "cell_type": "code",

   "execution_count": 10,


   "metadata": {},
   "outputs": [],
   "source": [
    "## esto genera un csv final con todos los features para usar en el modelo\n",
    "features = features.drop('fecha',axis=1)\n",
    "features.to_csv('../modelos/data_set.csv', index=False)"
   ]
  },
  {
   "cell_type": "code",

   "execution_count": 11,


   "metadata": {},
   "outputs": [
   ],
   "source": [
    "features.shape"
   ]
  },
  {
   "cell_type": "code",

   "execution_count": 12,
   "execution_count": 8,

   "metadata": {},
   "outputs": [
   ],
   "source": [
    "features.columns"
   ]
  },
  {
   "cell_type": "code",
   "execution_count": null,
   "metadata": {},
   "outputs": [],
   "source": []
  },
  {
   "cell_type": "code",
   "execution_count": null,
   "metadata": {},
   "outputs": [],
   "source": []
  },
  {
   "cell_type": "code",
   "execution_count": null,
   "metadata": {},
   "outputs": [],
   "source": []
  },
  {
   "cell_type": "code",
   "execution_count": null,
   "metadata": {},
   "outputs": [],
   "source": []
  },
  {
   "cell_type": "code",
   "execution_count": null,
   "metadata": {},
   "outputs": [],
   "source": []
  }
 ],
 "metadata": {
  "kernelspec": {
   "display_name": "Python 3",
   "language": "python",
   "name": "python3"
  },
  "language_info": {
   "codemirror_mode": {
    "name": "ipython",
    "version": 3
   },
   "file_extension": ".py",
   "mimetype": "text/x-python",
   "name": "python",
   "nbconvert_exporter": "python",
   "pygments_lexer": "ipython3",
   "version": "3.6.8"
  }
 },
 "nbformat": 4,
 "nbformat_minor": 2
}
