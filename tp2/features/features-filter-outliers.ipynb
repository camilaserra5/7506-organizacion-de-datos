{
 "cells": [
  {
   "cell_type": "code",
   "execution_count": null,
   "metadata": {},
   "outputs": [],
   "source": [
    "import pandas as pd\n",
    "#import numpy as np\n",
    "\n",
    "import utils\n",
    "import warnings\n",
    "warnings.simplefilter(action='ignore', category=FutureWarning)\n",
    "warnings.simplefilter(action='ignore', category=RuntimeWarning)"
   ]
  },
  {
   "cell_type": "code",
   "execution_count": null,
   "metadata": {},
   "outputs": [],
   "source": [
    "# Cargamos el dataframe\n",
    "df = pd.read_csv('train.csv')\n",
    "#df = pd.concat([df, pd.read_csv('test.csv')]) #no queremos filtrar los que van a predecirse\n",
    "df = df[['id','tipodepropiedad','precio']]"
   ]
  },
  {
   "cell_type": "code",
   "execution_count": null,
   "metadata": {},
   "outputs": [],
   "source": [
    "low = .05\n",
    "high = .95\n",
    "dfgrouped = df.groupby('tipodepropiedad')\n",
    "df_q = dfgrouped['precio'].apply(lambda x: x.quantile([low,high]))\n",
    "df_q['Apartamento'].loc[0.05]\n",
    "df_q"
   ]
  },
  {
   "cell_type": "code",
   "execution_count": null,
   "metadata": {},
   "outputs": [],
   "source": [
    "def not_outlier(precio, tipo):\n",
    "    if pd.isnull(tipo):\n",
    "        return False\n",
    "    return (precio > df_q[tipo].loc[low]) and (precio < df_q[tipo].loc[high])\n",
    "\n",
    "df['not_outlier'] = df.apply(lambda x: not_outlier(x.precio, x.tipodepropiedad), axis=1)"
   ]
  },
  {
   "cell_type": "code",
   "execution_count": null,
   "metadata": {},
   "outputs": [],
   "source": [
    "df['not_outlier'].value_counts()"
   ]
  },
  {
   "cell_type": "code",
   "execution_count": null,
   "metadata": {},
   "outputs": [],
   "source": [
    "df = df.drop(['id','tipodepropiedad','precio'],axis=1)\n",
    "df.to_csv('features_not_outlier_ROB.csv',index=False)"
   ]
  }
 ],
 "metadata": {
  "kernelspec": {
   "display_name": "Python 3",
   "language": "python",
   "name": "python3"
  },
  "language_info": {
   "codemirror_mode": {
    "name": "ipython",
    "version": 3
   },
   "file_extension": ".py",
   "mimetype": "text/x-python",
   "name": "python",
   "nbconvert_exporter": "python",
   "pygments_lexer": "ipython3",
   "version": "3.7.4"
  }
 },
 "nbformat": 4,
 "nbformat_minor": 2
}
