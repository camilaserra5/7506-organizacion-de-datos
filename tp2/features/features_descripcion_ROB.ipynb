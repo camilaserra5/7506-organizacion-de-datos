{
 "cells": [
  {
   "cell_type": "code",
   "execution_count": 1,
   "metadata": {},
   "outputs": [],
   "source": [
    "import pandas as pd\n",
    "import numpy as np\n",
    "import datetime\n",
    "from datetime import datetime, timedelta\n",
    "import utils\n",
    "import warnings\n",
    "\n",
    "# plots\n",
    "import matplotlib.pyplot as plt\n",
    "import seaborn as sns\n",
    "sns.set(style=\"whitegrid\")\n",
    "%matplotlib inline\n",
    "from wordcloud import WordCloud, STOPWORDS\n",
    "\n",
    "warnings.simplefilter(action='ignore', category=FutureWarning)\n",
    "warnings.simplefilter(action='ignore', category=RuntimeWarning)"
   ]
  },
  {
   "cell_type": "code",
   "execution_count": 2,
   "metadata": {},
   "outputs": [],
   "source": [
    "# Cargamos el dataframe\n",
    "df = pd.read_csv('train.csv', parse_dates=['fecha'])\n",
    "df = pd.concat([df, pd.read_csv('test.csv', parse_dates=['fecha'])])"
   ]
  },
  {
   "cell_type": "code",
   "execution_count": 3,
   "metadata": {},
   "outputs": [
    {
     "data": {
      "text/html": [
       "<div>\n",
       "<style scoped>\n",
       "    .dataframe tbody tr th:only-of-type {\n",
       "        vertical-align: middle;\n",
       "    }\n",
       "\n",
       "    .dataframe tbody tr th {\n",
       "        vertical-align: top;\n",
       "    }\n",
       "\n",
       "    .dataframe thead th {\n",
       "        text-align: right;\n",
       "    }\n",
       "</style>\n",
       "<table border=\"1\" class=\"dataframe\">\n",
       "  <thead>\n",
       "    <tr style=\"text-align: right;\">\n",
       "      <th></th>\n",
       "      <th>id</th>\n",
       "      <th>descripcion</th>\n",
       "      <th>titulo</th>\n",
       "    </tr>\n",
       "  </thead>\n",
       "  <tbody>\n",
       "    <tr>\n",
       "      <td>0</td>\n",
       "      <td>254099</td>\n",
       "      <td>depto. interior de 80.15m2, consta de sala com...</td>\n",
       "      <td>depto. tipo a-402</td>\n",
       "    </tr>\n",
       "  </tbody>\n",
       "</table>\n",
       "</div>"
      ],
      "text/plain": [
       "       id                                        descripcion  \\\n",
       "0  254099  depto. interior de 80.15m2, consta de sala com...   \n",
       "\n",
       "              titulo  \n",
       "0  depto. tipo a-402  "
      ]
     },
     "execution_count": 3,
     "metadata": {},
     "output_type": "execute_result"
    }
   ],
   "source": [
    "df = df[['id', 'descripcion','titulo']]\n",
    "df.head(1)"
   ]
  },
  {
   "cell_type": "markdown",
   "metadata": {},
   "source": [
    "Tipo de Publicacion"
   ]
  },
  {
   "cell_type": "code",
   "execution_count": 4,
   "metadata": {},
   "outputs": [],
   "source": [
    "popular_words = ['alquil', 'renta']\n",
    "pattern = '|'.join(popular_words)\n",
    "\n",
    "df['desc_alquila'] = df['descripcion'].str.contains(pattern)\n",
    "df['desc_alquila'] = df['desc_alquila'].fillna(False).astype(int)\n",
    "\n",
    "df['titulo_alquila'] = df['titulo'].str.contains(pattern)\n",
    "df['titulo_alquila'] = df['titulo_alquila'].fillna(False).astype(int)\n",
    "\n",
    "\n",
    "popular_words = ['vend', 'venta']\n",
    "pattern = '|'.join(popular_words)\n",
    "\n",
    "df['desc_vende'] = df['descripcion'].str.contains(pattern)\n",
    "df['desc_vende'] = df['desc_vende'].fillna(False).astype(int)\n",
    "\n",
    "df['titulo_vende'] = df['titulo'].str.contains(pattern)\n",
    "df['titulo_vende'] = df['titulo_vende'].fillna(False).astype(int)\n"
   ]
  },
  {
   "cell_type": "code",
   "execution_count": 5,
   "metadata": {},
   "outputs": [],
   "source": [
    "popular_words = ['excelente', 'bonit', 'hermos', 'buen', 'mejor', 'exclusiv', 'modern', 'tranquil', 'estilo', 'ampli','ilum', 'lumin']\n",
    "pattern = '|'.join(popular_words)\n",
    "\n",
    "\n",
    "df['desc_positiva'] = df['descripcion'].str.contains(pattern)\n",
    "df['desc_positiva'] = df['desc_positiva'].fillna(False).astype(int)\n",
    "\n",
    "df['titulo_positiva'] = df['titulo'].str.contains(pattern)\n",
    "df['titulo_positiva'] = df['titulo_positiva'].fillna(False).astype(int)\n"
   ]
  },
  {
   "cell_type": "code",
   "execution_count": 6,
   "metadata": {},
   "outputs": [],
   "source": [
    "popular_words = ['recamar', 'habitaci', 'sala', 'cuarto']\n",
    "pattern = '|'.join(popular_words)\n",
    "\n",
    "\n",
    "df['desc_ambientes'] = df['descripcion'].str.contains(pattern)\n",
    "df['desc_ambientes'] = df['desc_ambientes'].fillna(False).astype(int)\n",
    "\n",
    "df['titulo_ambientes'] = df['titulo'].str.contains(pattern)\n",
    "df['titulo_ambientes'] = df['titulo_ambientes'].fillna(False).astype(int)\n"
   ]
  },
  {
   "cell_type": "code",
   "execution_count": 7,
   "metadata": {},
   "outputs": [],
   "source": [
    "popular_words = ['vigilan', 'privad', 'porter', 'encargad', 'segur']\n",
    "pattern = '|'.join(popular_words)\n",
    "\n",
    "df['desc_seguridad'] = df['descripcion'].str.contains(pattern)\n",
    "df['desc_seguridad'] = df['desc_seguridad'].fillna(False).astype(int)\n",
    "\n",
    "df['titulo_seguridad'] = df['titulo'].str.contains(pattern)\n",
    "df['titulo_seguridad'] = df['titulo_seguridad'].fillna(False).astype(int)"
   ]
  },
  {
   "cell_type": "code",
   "execution_count": null,
   "metadata": {},
   "outputs": [],
   "source": [
    "popular_words = ['zona', 'vista', 'área', 'area', 'tranquil', 'cerc', 'centro']\n",
    "pattern = '|'.join(popular_words)\n",
    "\n",
    "\n",
    "df['desc_zona'] = df['descripcion'].str.contains(pattern)\n",
    "df['desc_zona'] = df['desc_zona'].fillna(False).astype(int)\n",
    "\n",
    "df['titulo_zona'] = df['titulo'].str.contains(pattern)\n",
    "df['titulo_zona'] = df['titulo_zona'].fillna(False).astype(int)"
   ]
  },
  {
   "cell_type": "code",
   "execution_count": null,
   "metadata": {},
   "outputs": [],
   "source": [
    "popular_words = ['avenida', 'av.']\n",
    "pattern = '|'.join(popular_words)\n",
    "\n",
    "\n",
    "df['desc_avenida'] = df['descripcion'].str.contains(pattern)\n",
    "df['desc_avenida'] = df['desc_avenida'].fillna(False).astype(int)\n",
    "\n",
    "df['titulo_avenida'] = df['titulo'].str.contains(pattern)\n",
    "df['titulo_avenida'] = df['titulo_avenida'].fillna(False).astype(int)"
   ]
  },
  {
   "cell_type": "code",
   "execution_count": null,
   "metadata": {},
   "outputs": [],
   "source": [
    "popular_words = ['jard', 'terraza', 'patio', 'garden', ]\n",
    "pattern = '|'.join(popular_words)\n",
    "\n",
    "\n",
    "df['popular_desc_2'] = df['descripcion'].str.contains(pattern)\n",
    "df['popular_desc_2'] = df['popular_desc_2'].fillna(False).astype(int)\n",
    "\n",
    "df['popular_titulo_2'] = df['titulo'].str.contains(pattern)\n",
    "df['popular_titulo_2'] = df['popular_titulo_2'].fillna(False).astype(int)"
   ]
  },
  {
   "cell_type": "code",
   "execution_count": null,
   "metadata": {},
   "outputs": [],
   "source": [
    "popular_words = ['antig', 'viej']\n",
    "pattern = '|'.join(popular_words)\n",
    "\n",
    "\n",
    "df['desc_antiguedad'] = df['descripcion'].str.contains(pattern)\n",
    "df['desc_antiguedad'] = df['desc_antiguedad'].fillna(False).astype(int)\n",
    "\n",
    "df['titulo_antiguedad'] = df['titulo'].str.contains(pattern)\n",
    "df['titulo_antiguedad'] = df['titulo_antiguedad'].fillna(False).astype(int)"
   ]
  },
  {
   "cell_type": "code",
   "execution_count": null,
   "metadata": {},
   "outputs": [],
   "source": [
    "popular_words = ['comedor', 'cocina', 'parrilla']\n",
    "pattern = '|'.join(popular_words)\n",
    "\n",
    "\n",
    "df['desc_comedor'] = df['descripcion'].str.contains(pattern)\n",
    "df['desc_comedor'] = df['desc_comedor'].fillna(False).astype(int)\n",
    "df['titulo_comedor'] = df['titulo'].str.contains(pattern)\n",
    "df['titulo_comedor'] = df['titulo_comedor'].fillna(False).astype(int)"
   ]
  },
  {
   "cell_type": "code",
   "execution_count": null,
   "metadata": {},
   "outputs": [],
   "source": [
    "popular_words = ['estudio']\n",
    "pattern = '|'.join(popular_words)\n",
    "\n",
    "df['desc_estudio'] = df['descripcion'].str.contains(pattern)\n",
    "df['desc_estudio'] = df['desc_estudio'].fillna(False).astype(int)\n",
    "\n",
    "df['titulo_estudio'] = df['titulo'].str.contains(pattern)\n",
    "df['titulo_estudio'] = df['titulo_estudio'].fillna(False).astype(int)"
   ]
  },
  {
   "cell_type": "code",
   "execution_count": null,
   "metadata": {},
   "outputs": [],
   "source": [
    "popular_words = ['garag', 'coche', 'estac']\n",
    "pattern = '|'.join(popular_words)\n",
    "\n",
    "df['desc_auto'] = df['descripcion'].str.contains(pattern)\n",
    "df['desc_auto'] = df['desc_auto'].fillna(False).astype(int)\n",
    "\n",
    "df['titulo_auto'] = df['titulo'].str.contains(pattern)\n",
    "df['titulo_auto'] = df['titulo_auto'].fillna(False).astype(int)"
   ]
  },
  {
   "cell_type": "code",
   "execution_count": null,
   "metadata": {},
   "outputs": [],
   "source": [
    "popular_words = ['spa']\n",
    "pattern = '|'.join(popular_words)\n",
    "\n",
    "df['desc_amenities_lujo'] = df['descripcion'].str.contains(pattern)\n",
    "df['desc_amenities_lujo'] = df['desc_amenities_lujo'].fillna(False).astype(int)\n",
    "\n",
    "df['titulo_amenities_lujo'] = df['titulo'].str.contains(pattern)\n",
    "df['titulo_amenities_lujo'] = df['titulo_amenities_lujo'].fillna(False).astype(int)"
   ]
  },
  {
   "cell_type": "code",
   "execution_count": null,
   "metadata": {},
   "outputs": [],
   "source": [
    "popular_words = ['gim', 'gym']\n",
    "pattern = '|'.join(popular_words)\n",
    "\n",
    "df['desc_gym'] = df['descripcion'].str.contains(pattern)\n",
    "df['desc_gym'] = df['desc_gym'].fillna(False).astype(int)\n",
    "\n",
    "df['titulo_gym'] = df['titulo'].str.contains(pattern)\n",
    "df['titulo_gym'] = df['titulo_gym'].fillna(False).astype(int)"
   ]
  },
  {
   "cell_type": "code",
   "execution_count": null,
   "metadata": {},
   "outputs": [],
   "source": [
    "popular_words = ['construc', 'preve']\n",
    "pattern = '|'.join(popular_words)\n",
    "\n",
    "df['desc_construcc'] = df['descripcion'].str.contains(pattern)\n",
    "df['desc_construcc'] = df['desc_construcc'].fillna(False).astype(int)\n",
    "\n",
    "df['titulo_construcc'] = df['titulo'].str.contains(pattern)\n",
    "df['titulo_construcc'] = df['titulo_construcc'].fillna(False).astype(int)"
   ]
  },
  {
   "cell_type": "code",
   "execution_count": null,
   "metadata": {},
   "outputs": [],
   "source": [
    "popular_words = ['terminad', 'acabad', 'finaliza']\n",
    "pattern = '|'.join(popular_words)\n",
    "\n",
    "df['desc_terminado'] = df['descripcion'].str.contains(pattern)\n",
    "df['desc_terminado'] = df['desc_terminado'].fillna(False).astype(int)\n",
    "\n",
    "df['titulo_terminado'] = df['titulo'].str.contains(pattern)\n",
    "df['titulo_terminado'] = df['titulo_terminado'].fillna(False).astype(int)\n"
   ]
  },
  {
   "cell_type": "code",
   "execution_count": null,
   "metadata": {},
   "outputs": [],
   "source": [
    "popular_words = ['sueñ', 'soñ', 'anh', 'busca', 'espera']\n",
    "pattern = '|'.join(popular_words)\n",
    "\n",
    "df['desc_anhelo'] = df['descripcion'].str.contains(pattern)\n",
    "df['desc_anhelo'] = df['desc_anhelo'].fillna(False).astype(int)\n",
    "\n",
    "df['titulo_anhelo'] = df['titulo'].str.contains(pattern)\n",
    "df['titulo_anhelo'] = df['titulo_anhelo'].fillna(False).astype(int)"
   ]
  },
  {
   "cell_type": "code",
   "execution_count": null,
   "metadata": {},
   "outputs": [],
   "source": [
    "popular_words = ['efectiv', 'garant']\n",
    "pattern = '|'.join(popular_words)\n",
    "\n",
    "df['desc_pago'] = df['descripcion'].str.contains(pattern)\n",
    "df['desc_pago'] = df['desc_pago'].fillna(False).astype(int)\n",
    "\n",
    "df['titulo_pago'] = df['titulo'].str.contains(pattern)\n",
    "df['titulo_pago'] = df['titulo_pago'].fillna(False).astype(int)"
   ]
  },
  {
   "cell_type": "code",
   "execution_count": null,
   "metadata": {},
   "outputs": [],
   "source": [
    "popular_words = ['frente']\n",
    "pattern = '|'.join(popular_words)\n",
    "\n",
    "df['desc_frente'] = df['descripcion'].str.contains(pattern)\n",
    "df['desc_frente'] = df['desc_frente'].fillna(False).astype(int)\n",
    "\n",
    "df['titulo_frente'] = df['titulo'].str.contains(pattern)\n",
    "df['titulo_frente'] = df['titulo_frente'].fillna(False).astype(int)"
   ]
  },
  {
   "cell_type": "code",
   "execution_count": null,
   "metadata": {},
   "outputs": [],
   "source": [
    "popular_words = ['escuela', 'escola', 'colegi', 'univer']\n",
    "pattern = '|'.join(popular_words)\n",
    "\n",
    "df['desc_escuela'] = df['descripcion'].str.contains(pattern)\n",
    "df['desc_escuela'] = df['desc_escuela'].fillna(False).astype(int)\n",
    "\n",
    "df['titulo_escuela'] = df['titulo'].str.contains(pattern)\n",
    "df['titulo_escuela'] = df['titulo_escuela'].fillna(False).astype(int)"
   ]
  },
  {
   "cell_type": "code",
   "execution_count": null,
   "metadata": {},
   "outputs": [],
   "source": [
    "popular_words = ['amobla', 'muebl', 'equipa', 'complet']\n",
    "pattern = '|'.join(popular_words)\n",
    "\n",
    "df['desc_amoblado'] = df['descripcion'].str.contains(pattern)\n",
    "df['desc_amoblado'] = df['desc_amoblado'].fillna(False).astype(int)\n",
    "\n",
    "df['titulo_amoblado'] = df['titulo'].str.contains(pattern)\n",
    "df['titulo_amoblado'] = df['titulo_amoblado'].fillna(False).astype(int)"
   ]
  },
  {
   "cell_type": "code",
   "execution_count": null,
   "metadata": {},
   "outputs": [],
   "source": [
    "popular_words = ['casa']\n",
    "pattern = '|'.join(popular_words)\n",
    "\n",
    "df['desc_tipo_casa'] = df['descripcion'].str.contains(pattern)\n",
    "df['desc_tipo_casa'] = df['desc_tipo_casa'].fillna(False).astype(int)\n",
    "\n",
    "df['titulo_tipo_casa'] = df['titulo'].str.contains(pattern)\n",
    "df['titulo_tipo_casa'] = df['titulo_tipo_casa'].fillna(False).astype(int)\n",
    "\n",
    "popular_words = ['departamen', 'apartam', 'dpto', 'dpt']\n",
    "pattern = '|'.join(popular_words)\n",
    "\n",
    "df['desc_tipo_dpto'] = df['descripcion'].str.contains(pattern)\n",
    "df['desc_tipo_dpto'] = df['desc_tipo_dpto'].fillna(False).astype(int)\n",
    "\n",
    "df['titulo_tipo_dpto'] = df['titulo'].str.contains(pattern)\n",
    "df['titulo_tipo_dpto'] = df['titulo_tipo_dpto'].fillna(False).astype(int)\n",
    "\n",
    "popular_words = ['oficina']\n",
    "pattern = '|'.join(popular_words)\n",
    "\n",
    "df['desc_oficina'] = df['descripcion'].str.contains(pattern)\n",
    "df['desc_oficina'] = df['desc_oficina'].fillna(False).astype(int)\n",
    "\n",
    "df['titulo_oficina'] = df['titulo'].str.contains(pattern)\n",
    "df['titulo_oficina'] = df['titulo_oficina'].fillna(False).astype(int)"
   ]
  },
  {
   "cell_type": "code",
   "execution_count": null,
   "metadata": {},
   "outputs": [],
   "source": [
    "popular_words = ['subte', 'colec', 'microbus', 'autobus', 'transpor']\n",
    "pattern = '|'.join(popular_words)\n",
    "\n",
    "df['desc_transport'] = df['descripcion'].str.contains(pattern)\n",
    "df['desc_transport'] = df['desc_transport'].fillna(False).astype(int)\n",
    "\n",
    "df['titulo_transport'] = df['titulo'].str.contains(pattern)\n",
    "df['titulo_transport'] = df['titulo_transport'].fillna(False).astype(int)"
   ]
  },
  {
   "cell_type": "code",
   "execution_count": null,
   "metadata": {},
   "outputs": [],
   "source": [
    "popular_words = ['piscina', 'pileta']\n",
    "pattern = '|'.join(popular_words)\n",
    "\n",
    "df['desc_pileta'] = df['descripcion'].str.contains(pattern)\n",
    "df['desc_pileta'] = df['desc_pileta'].fillna(False).astype(int)\n",
    "\n",
    "df['titulo_pileta'] = df['titulo'].str.contains(pattern)\n",
    "df['titulo_pileta'] = df['titulo_pileta'].fillna(False).astype(int)"
   ]
  },
  {
   "cell_type": "code",
   "execution_count": null,
   "metadata": {},
   "outputs": [],
   "source": [
    "df = df.drop('descripcion', axis=1)\n",
    "df"
   ]
  },
  {
   "cell_type": "code",
   "execution_count": null,
   "metadata": {},
   "outputs": [],
   "source": [
    "df=df.fillna(0)\n",
    "df.to_csv('features_descripcion_ROB.csv',index=False)"
   ]
  },
  {
   "cell_type": "code",
   "execution_count": null,
   "metadata": {},
   "outputs": [],
   "source": []
  },
  {
   "cell_type": "code",
   "execution_count": null,
   "metadata": {},
   "outputs": [],
   "source": []
  }
 ],
 "metadata": {
  "kernelspec": {
   "display_name": "Python 3",
   "language": "python",
   "name": "python3"
  },
  "language_info": {
   "codemirror_mode": {
    "name": "ipython",
    "version": 3
   },
   "file_extension": ".py",
   "mimetype": "text/x-python",
   "name": "python",
   "nbconvert_exporter": "python",
   "pygments_lexer": "ipython3",
   "version": "3.7.4"
  }
 },
 "nbformat": 4,
 "nbformat_minor": 2
}
