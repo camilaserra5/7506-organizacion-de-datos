{
 "cells": [
  {
   "cell_type": "code",
   "execution_count": 1,
   "metadata": {},
   "outputs": [],
   "source": [
    "import pandas as pd\n",
    "import numpy as np\n",
    "import datetime\n",
    "from datetime import datetime, timedelta\n",
    "import utils\n",
    "import warnings\n",
    "warnings.simplefilter(action='ignore', category=FutureWarning)\n",
    "warnings.simplefilter(action='ignore', category=RuntimeWarning)"
   ]
  },
  {
   "cell_type": "code",
   "execution_count": 2,
   "metadata": {},
   "outputs": [],
   "source": [
    "# Cargamos el dataframe\n",
    "df = pd.read_csv('train.csv', parse_dates=['fecha'])\n",
    "df = pd.concat([df, pd.read_csv('test.csv', parse_dates=['fecha'])])\n",
    "\n",
    "# Para no floodear cuando se corren todas las notes de features\n",
    "muestro_prints = False"
   ]
  },
  {
   "cell_type": "code",
   "execution_count": 3,
   "metadata": {},
   "outputs": [],
   "source": [
    "df = df[['id', 'tipodepropiedad', 'metroscubiertos', 'metrostotales']]"
   ]
  },
  {
   "cell_type": "code",
   "execution_count": 4,
   "metadata": {},
   "outputs": [],
   "source": [
    "df['metroscubiertos_fillmean'] = df['metroscubiertos'].fillna(df.groupby('tipodepropiedad')['metroscubiertos'].transform(np.mean))\n",
    "df['metrostotales_fillmean'] = df['metrostotales'].fillna(df.groupby('tipodepropiedad')['metrostotales'].transform(np.mean))"
   ]
  },
  {
   "cell_type": "code",
   "execution_count": 5,
   "metadata": {},
   "outputs": [],
   "source": [
    "if muestro_prints:\n",
    "    print(f'metroscubiertos_fillmean tiene null: {df.metroscubiertos_fillmean.isnull().any()}')\n",
    "    print(f'metrostotales_fillmean tiene null: {df.metrostotales_fillmean.isnull().any()}')"
   ]
  },
  {
   "cell_type": "code",
   "execution_count": 6,
   "metadata": {},
   "outputs": [],
   "source": [
    "df['metrostotales_fillmean'] = df['metrostotales_fillmean'].fillna(df['metroscubiertos'])\n",
    "df['metroscubiertos_fillmean'] = df['metroscubiertos_fillmean'].fillna(df['metrostotales'])"
   ]
  },
  {
   "cell_type": "code",
   "execution_count": 7,
   "metadata": {},
   "outputs": [],
   "source": [
    "df = df.drop('tipodepropiedad', axis= 1)"
   ]
  },
  {
   "cell_type": "code",
   "execution_count": 8,
   "metadata": {},
   "outputs": [],
   "source": [
    "if muestro_prints:\n",
    "    print(f'metroscubiertos tiene null: {df.metroscubiertos.isnull().any()}')\n",
    "    print(f'metrostotales tiene null: {df.metrostotales.isnull().any()}')\n",
    "    print(f'metroscubiertos_fillmean tiene null: {df.metroscubiertos_fillmean.isnull().any()}')\n",
    "    print(f'metrostotales_fillmean tiene null: {df.metrostotales_fillmean.isnull().any()}')"
   ]
  },
  {
   "cell_type": "code",
   "execution_count": 11,
   "metadata": {},
   "outputs": [],
   "source": [
    "df['metrostotales'+'_cuadrado'] = df['metrostotales'] * df['metrostotales']\n",
    "df['metroscubiertos'+'_cuadrado'] = df['metroscubiertos'] * df['metroscubiertos']\n",
    "df['metrostotales_fillmean'+'_cuadrado'] = df['metrostotales_fillmean'] * df['metrostotales_fillmean']\n",
    "df['metroscubiertos_fillmean'+'_cuadrado'] = df['metroscubiertos_fillmean'] * df['metroscubiertos_fillmean']\n"
   ]
  },
  {
   "cell_type": "code",
   "execution_count": null,
   "metadata": {},
   "outputs": [],
   "source": []
  },
  {
   "cell_type": "code",
   "execution_count": 14,
   "metadata": {},
   "outputs": [],
   "source": [
    "df = df.fillna(0)\n",
    "df.to_csv('features_metros_ROB.csv',index=False)"
   ]
  },
  {
   "cell_type": "code",
   "execution_count": null,
   "metadata": {},
   "outputs": [],
   "source": []
  }
 ],
 "metadata": {
  "kernelspec": {
   "display_name": "Python 3",
   "language": "python",
   "name": "python3"
  },
  "language_info": {
   "codemirror_mode": {
    "name": "ipython",
    "version": 3
   },
   "file_extension": ".py",
   "mimetype": "text/x-python",
   "name": "python",
   "nbconvert_exporter": "python",
   "pygments_lexer": "ipython3",
   "version": "3.7.4"
  }
 },
 "nbformat": 4,
 "nbformat_minor": 2
}
