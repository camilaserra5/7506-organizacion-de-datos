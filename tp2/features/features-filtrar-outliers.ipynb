{
 "cells": [
  {
   "cell_type": "code",
   "execution_count": 1,
   "metadata": {},
   "outputs": [],
   "source": [
    "import pandas as pd\n",
    "#import numpy as np\n",
    "\n",
    "import utils\n",
    "import warnings\n",
    "warnings.simplefilter(action='ignore', category=FutureWarning)\n",
    "warnings.simplefilter(action='ignore', category=RuntimeWarning)"
   ]
  },
  {
   "cell_type": "code",
   "execution_count": 2,
   "metadata": {},
   "outputs": [],
   "source": [
    "# Cargamos el dataframe\n",
    "df = pd.read_csv('train.csv')\n",
    "#df = pd.concat([df, pd.read_csv('test.csv')]) #no queremos filtrar los que van a predecirse\n",
    "df = df[['id','tipodepropiedad','precio']]"
   ]
  },
  {
   "cell_type": "code",
   "execution_count": 3,
   "metadata": {},
   "outputs": [
    {
     "data": {
      "text/plain": [
       "tipodepropiedad                    \n",
       "Apartamento                    0.05      460000.00\n",
       "                               0.95     7800000.00\n",
       "Bodega comercial               0.05      650000.00\n",
       "                               0.95     6950000.00\n",
       "Casa                           0.05      437580.00\n",
       "                               0.95     6500000.00\n",
       "Casa en condominio             0.05      480000.00\n",
       "                               0.95     7800000.00\n",
       "Casa uso de suelo              0.05      750000.00\n",
       "                               0.95     8998250.00\n",
       "Departamento Compartido        0.05      380000.00\n",
       "                               0.95     7500000.00\n",
       "Duplex                         0.05      350000.00\n",
       "                               0.95     3890000.00\n",
       "Edificio                       0.05     1388750.00\n",
       "                               0.95    11000000.00\n",
       "Garage                         0.05      500000.00\n",
       "                               0.95      500000.00\n",
       "Hospedaje                      0.05     3000000.00\n",
       "                               0.95     3000000.00\n",
       "Huerta                         0.05      447350.00\n",
       "                               0.95    11540000.00\n",
       "Inmuebles productivos urbanos  0.05      993000.00\n",
       "                               0.95     8550000.00\n",
       "Local Comercial                0.05      480000.00\n",
       "                               0.95     6990000.00\n",
       "Local en centro comercial      0.05      495000.00\n",
       "                               0.95     6187000.00\n",
       "Lote                           0.05      502000.00\n",
       "                               0.95     2116340.80\n",
       "Nave industrial                0.05     1064500.00\n",
       "                               0.95     9050000.00\n",
       "Oficina comercial              0.05      660000.00\n",
       "                               0.95     8000000.00\n",
       "Otros                          0.05      423231.25\n",
       "                               0.95     8633632.70\n",
       "Quinta Vacacional              0.05      750000.00\n",
       "                               0.95     7830000.00\n",
       "Rancho                         0.05      698000.00\n",
       "                               0.95    10910000.00\n",
       "Terreno                        0.05      368000.00\n",
       "                               0.95     6142000.00\n",
       "Terreno comercial              0.05      400000.00\n",
       "                               0.95     8000000.00\n",
       "Terreno industrial             0.05      650000.00\n",
       "                               0.95     8551500.00\n",
       "Villa                          0.05      600000.00\n",
       "                               0.95     6981000.00\n",
       "Name: precio, dtype: float64"
      ]
     },
     "execution_count": 3,
     "metadata": {},
     "output_type": "execute_result"
    }
   ],
   "source": [
    "low = .05\n",
    "high = .95\n",
    "dfgrouped = df.groupby('tipodepropiedad')\n",
    "df_q = dfgrouped['precio'].apply(lambda x: x.quantile([low,high]))\n",
    "df_q['Apartamento'].loc[0.05]\n",
    "df_q"
   ]
  },
  {
   "cell_type": "code",
   "execution_count": 4,
   "metadata": {},
   "outputs": [],
   "source": [
    "def not_outlier(precio, tipo):\n",
    "    if pd.isnull(tipo):\n",
    "        return False\n",
    "    return (precio > df_q[tipo].loc[low]) and (precio < df_q[tipo].loc[high])\n",
    "\n",
    "df['not_outlier'] = df.apply(lambda x: not_outlier(x.precio, x.tipodepropiedad), axis=1)"
   ]
  },
  {
   "cell_type": "code",
   "execution_count": 8,
   "metadata": {},
   "outputs": [
    {
     "data": {
      "text/plain": [
       "Index(['id', 'not_outlier'], dtype='object')"
      ]
     },
     "execution_count": 8,
     "metadata": {},
     "output_type": "execute_result"
    }
   ],
   "source": [
    "df['not_outlier'] = df['not_outlier'].fillna(False).astype(int)\n",
    "df['not_outlier'].value_counts()"
   ]
  },
  {
   "cell_type": "code",
   "execution_count": 9,
   "metadata": {},
   "outputs": [],
   "source": [
    "df = df.drop(['tipodepropiedad','precio'],axis=1)\n",
    "df.to_csv('features_not_outlier_ROB.csv',index=False)"
   ]
  },
  {
   "cell_type": "code",
   "execution_count": null,
   "metadata": {},
   "outputs": [],
   "source": []
  }
 ],
 "metadata": {
  "kernelspec": {
   "display_name": "Python 3",
   "language": "python",
   "name": "python3"
  },
  "language_info": {
   "codemirror_mode": {
    "name": "ipython",
    "version": 3
   },
   "file_extension": ".py",
   "mimetype": "text/x-python",
   "name": "python",
   "nbconvert_exporter": "python",
   "pygments_lexer": "ipython3",
   "version": "3.7.4"
  }
 },
 "nbformat": 4,
 "nbformat_minor": 2
}
