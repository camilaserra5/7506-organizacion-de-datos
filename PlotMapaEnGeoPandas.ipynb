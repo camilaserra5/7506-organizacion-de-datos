{
 "cells": [
  {
   "cell_type": "code",
   "execution_count": 1,
   "metadata": {},
   "outputs": [],
   "source": [
    "import geopandas as gpd"
   ]
  },
  {
   "cell_type": "code",
   "execution_count": 2,
   "metadata": {},
   "outputs": [
    {
     "data": {
      "text/html": [
       "<div>\n",
       "<style scoped>\n",
       "    .dataframe tbody tr th:only-of-type {\n",
       "        vertical-align: middle;\n",
       "    }\n",
       "\n",
       "    .dataframe tbody tr th {\n",
       "        vertical-align: top;\n",
       "    }\n",
       "\n",
       "    .dataframe thead th {\n",
       "        text-align: right;\n",
       "    }\n",
       "</style>\n",
       "<table border=\"1\" class=\"dataframe\">\n",
       "  <thead>\n",
       "    <tr style=\"text-align: right;\">\n",
       "      <th></th>\n",
       "      <th>ID_0</th>\n",
       "      <th>ISO</th>\n",
       "      <th>NAME_0</th>\n",
       "      <th>ID_1</th>\n",
       "      <th>NAME_1</th>\n",
       "      <th>TYPE_1</th>\n",
       "      <th>ENGTYPE_1</th>\n",
       "      <th>NL_NAME_1</th>\n",
       "      <th>VARNAME_1</th>\n",
       "      <th>geometry</th>\n",
       "    </tr>\n",
       "  </thead>\n",
       "  <tbody>\n",
       "    <tr>\n",
       "      <td>0</td>\n",
       "      <td>145</td>\n",
       "      <td>MEX</td>\n",
       "      <td>Mexico</td>\n",
       "      <td>1</td>\n",
       "      <td>Aguascalientes</td>\n",
       "      <td>Estado</td>\n",
       "      <td>State</td>\n",
       "      <td>None</td>\n",
       "      <td>None</td>\n",
       "      <td>POLYGON ((-102.12611 21.73960, -102.13392 21.7...</td>\n",
       "    </tr>\n",
       "    <tr>\n",
       "      <td>1</td>\n",
       "      <td>145</td>\n",
       "      <td>MEX</td>\n",
       "      <td>Mexico</td>\n",
       "      <td>2</td>\n",
       "      <td>Baja California Sur</td>\n",
       "      <td>Estado</td>\n",
       "      <td>State</td>\n",
       "      <td>None</td>\n",
       "      <td>None</td>\n",
       "      <td>MULTIPOLYGON (((-114.75681 18.37097, -114.7568...</td>\n",
       "    </tr>\n",
       "    <tr>\n",
       "      <td>2</td>\n",
       "      <td>145</td>\n",
       "      <td>MEX</td>\n",
       "      <td>Mexico</td>\n",
       "      <td>3</td>\n",
       "      <td>Baja California</td>\n",
       "      <td>Estado</td>\n",
       "      <td>State</td>\n",
       "      <td>None</td>\n",
       "      <td>None</td>\n",
       "      <td>MULTIPOLYGON (((-114.23174 27.88559, -114.2308...</td>\n",
       "    </tr>\n",
       "    <tr>\n",
       "      <td>3</td>\n",
       "      <td>145</td>\n",
       "      <td>MEX</td>\n",
       "      <td>Mexico</td>\n",
       "      <td>4</td>\n",
       "      <td>Campeche</td>\n",
       "      <td>Estado</td>\n",
       "      <td>State</td>\n",
       "      <td>None</td>\n",
       "      <td>None</td>\n",
       "      <td>MULTIPOLYGON (((-91.79708 18.51764, -91.79708 ...</td>\n",
       "    </tr>\n",
       "    <tr>\n",
       "      <td>4</td>\n",
       "      <td>145</td>\n",
       "      <td>MEX</td>\n",
       "      <td>Mexico</td>\n",
       "      <td>5</td>\n",
       "      <td>Chiapas</td>\n",
       "      <td>Estado</td>\n",
       "      <td>State</td>\n",
       "      <td>None</td>\n",
       "      <td>None</td>\n",
       "      <td>MULTIPOLYGON (((-92.86236 15.16819, -92.86236 ...</td>\n",
       "    </tr>\n",
       "  </tbody>\n",
       "</table>\n",
       "</div>"
      ],
      "text/plain": [
       "   ID_0  ISO  NAME_0  ID_1               NAME_1  TYPE_1 ENGTYPE_1 NL_NAME_1  \\\n",
       "0   145  MEX  Mexico     1       Aguascalientes  Estado     State      None   \n",
       "1   145  MEX  Mexico     2  Baja California Sur  Estado     State      None   \n",
       "2   145  MEX  Mexico     3      Baja California  Estado     State      None   \n",
       "3   145  MEX  Mexico     4             Campeche  Estado     State      None   \n",
       "4   145  MEX  Mexico     5              Chiapas  Estado     State      None   \n",
       "\n",
       "  VARNAME_1                                           geometry  \n",
       "0      None  POLYGON ((-102.12611 21.73960, -102.13392 21.7...  \n",
       "1      None  MULTIPOLYGON (((-114.75681 18.37097, -114.7568...  \n",
       "2      None  MULTIPOLYGON (((-114.23174 27.88559, -114.2308...  \n",
       "3      None  MULTIPOLYGON (((-91.79708 18.51764, -91.79708 ...  \n",
       "4      None  MULTIPOLYGON (((-92.86236 15.16819, -92.86236 ...  "
      ]
     },
     "execution_count": 2,
     "metadata": {},
     "output_type": "execute_result"
    }
   ],
   "source": [
    "# set the filepath and load in a shapefile\n",
    "#fp = “datasets/geo-data/gis-boundaries-london/ESRI/London_Borough_Excluding_MHW.shp”\n",
    "fp = 'MEX_adm/MEX_adm1.shp'\n",
    "\n",
    "map_df = gpd.read_file(fp)\n",
    "# check data type so we can see that this is not a normal dataframe, but a GEOdataframe\n",
    "map_df.head()"
   ]
  },
  {
   "cell_type": "code",
   "execution_count": 4,
   "metadata": {},
   "outputs": [
    {
     "data": {
      "text/plain": [
       "<matplotlib.axes._subplots.AxesSubplot at 0x1169847d0>"
      ]
     },
     "execution_count": 4,
     "metadata": {},
     "output_type": "execute_result"
    },
    {
     "data": {
      "image/png": "[encoded data removed]",
      "text/plain": [
       "<Figure size 432x288 with 1 Axes>"
      ]
     },
     "metadata": {
      "needs_background": "light"
     },
     "output_type": "display_data"
    }
   ],
   "source": [
    "map_df.plot()"
   ]
  },
  {
   "cell_type": "code",
   "execution_count": 5,
   "metadata": {},
   "outputs": [],
   "source": [
    "import numpy as np\n",
    "import pandas as pd\n",
    "\n",
    "import matplotlib.pyplot as plt\n",
    "import seaborn as sns\n",
    "sns.set(style=\"whitegrid\")\n",
    "%matplotlib inline\n",
    "from pywaffle import Waffle\n",
    "\n",
    "df = pd.read_csv('train.csv', index_col='id', parse_dates=['fecha'])"
   ]
  },
  {
   "cell_type": "code",
   "execution_count": 6,
   "metadata": {},
   "outputs": [
    {
     "name": "stdout",
     "output_type": "stream",
     "text": [
      "<class 'pandas.core.frame.DataFrame'>\n",
      "Int64Index: 240000 entries, 254099 to 121958\n",
      "Data columns (total 22 columns):\n",
      "titulo                        234613 non-null object\n",
      "descripcion                   238381 non-null object\n",
      "tipodepropiedad               239954 non-null object\n",
      "direccion                     186928 non-null object\n",
      "ciudad                        239628 non-null object\n",
      "provincia                     239845 non-null object\n",
      "antiguedad                    196445 non-null float64\n",
      "habitaciones                  217529 non-null float64\n",
      "garages                       202235 non-null float64\n",
      "banos                         213779 non-null float64\n",
      "metroscubiertos               222600 non-null float64\n",
      "metrostotales                 188533 non-null float64\n",
      "idzona                        211379 non-null float64\n",
      "lat                           116512 non-null float64\n",
      "lng                           116512 non-null float64\n",
      "fecha                         240000 non-null datetime64[ns]\n",
      "gimnasio                      240000 non-null float64\n",
      "usosmultiples                 240000 non-null float64\n",
      "piscina                       240000 non-null float64\n",
      "escuelascercanas              240000 non-null float64\n",
      "centroscomercialescercanos    240000 non-null float64\n",
      "precio                        240000 non-null float64\n",
      "dtypes: datetime64[ns](1), float64(15), object(6)\n",
      "memory usage: 42.1+ MB\n"
     ]
    }
   ],
   "source": [
    "df.info()"
   ]
  },
  {
   "cell_type": "code",
   "execution_count": 23,
   "metadata": {},
   "outputs": [
    {
     "data": {
      "text/plain": [
       "array(['Distrito Federal', 'Jalisco', 'Edo. de México', 'Oaxaca',\n",
       "       'Quintana Roo', 'Colima', 'San luis Potosí', 'Nuevo León',\n",
       "       'Querétaro', 'Tamaulipas', 'Puebla', 'Yucatán', 'Morelos',\n",
       "       'Guerrero', 'Tabasco', 'Guanajuato', 'Hidalgo', 'Veracruz',\n",
       "       'Chihuahua', 'Aguascalientes', 'Sonora', 'Michoacán',\n",
       "       'Baja California Norte', 'Baja California Sur', 'Coahuila',\n",
       "       'Durango', 'Sinaloa', 'Chiapas', 'Nayarit', 'Tlaxcala', 'Campeche',\n",
       "       'Zacatecas', nan], dtype=object)"
      ]
     },
     "execution_count": 23,
     "metadata": {},
     "output_type": "execute_result"
    }
   ],
   "source": [
    "provincias_df = df.provincia.unique()\n",
    "provincias_df"
   ]
  },
  {
   "cell_type": "code",
   "execution_count": 25,
   "metadata": {},
   "outputs": [
    {
     "data": {
      "text/plain": [
       "array(['Aguascalientes', 'Baja California Sur', 'Baja California',\n",
       "       'Campeche', 'Chiapas', 'Chihuahua', 'Coahuila', 'Colima',\n",
       "       'Distrito Federal', 'Durango', 'Guanajuato', 'Guerrero', 'Hidalgo',\n",
       "       'Jalisco', 'México', 'Michoacán', 'Morelos', 'Nayarit',\n",
       "       'Nuevo León', 'Oaxaca', 'Puebla', 'Querétaro', 'Quintana Roo',\n",
       "       'San Luis Potosí', 'Sinaloa', 'Sonora', 'Tabasco', 'Tamaulipas',\n",
       "       'Tlaxcala', 'Veracruz', 'Yucatán', 'Zacatecas'], dtype=object)"
      ]
     },
     "execution_count": 25,
     "metadata": {},
     "output_type": "execute_result"
    }
   ],
   "source": [
    "provincias_map_df = map_df.NAME_1.unique()\n",
    "provincias_map_df"
   ]
  },
  {
   "cell_type": "code",
   "execution_count": 29,
   "metadata": {},
   "outputs": [
    {
     "name": "stdout",
     "output_type": "stream",
     "text": [
      "Provincias en data frame zona prop: 33\n",
      "Provincias en data frame mapa: 32\n"
     ]
    }
   ],
   "source": [
    "print('Provincias en data frame zona prop: '+str(len(provincias_df)))\n",
    "print('Provincias en data frame mapa: '+str(len(provincias_map_df)))"
   ]
  },
  {
   "cell_type": "code",
   "execution_count": 44,
   "metadata": {},
   "outputs": [
    {
     "name": "stdout",
     "output_type": "stream",
     "text": [
      "Aguascalientes True\n",
      "Baja California Sur True\n",
      "Baja California False\n",
      "Campeche True\n",
      "Chiapas True\n",
      "Chihuahua True\n",
      "Coahuila True\n",
      "Colima True\n",
      "Distrito Federal True\n",
      "Durango True\n",
      "Guanajuato True\n",
      "Guerrero True\n",
      "Hidalgo True\n",
      "Jalisco True\n",
      "México False\n",
      "Michoacán True\n",
      "Morelos True\n",
      "Nayarit True\n",
      "Nuevo León True\n",
      "Oaxaca True\n",
      "Puebla True\n",
      "Querétaro True\n",
      "Quintana Roo True\n",
      "San Luis Potosí False\n",
      "Sinaloa True\n",
      "Sonora True\n",
      "Tabasco True\n",
      "Tamaulipas True\n",
      "Tlaxcala True\n",
      "Veracruz True\n",
      "Yucatán True\n",
      "Zacatecas True\n"
     ]
    }
   ],
   "source": [
    "problemas = []\n",
    "for item in provincias_map_df:\n",
    "    isin = item in provincias_df\n",
    "    print(item, isin)\n",
    "    if not isin:\n",
    "        problemas.append(item)"
   ]
  },
  {
   "cell_type": "code",
   "execution_count": 45,
   "metadata": {},
   "outputs": [
    {
     "data": {
      "text/plain": [
       "['Baja California', 'México', 'San Luis Potosí']"
      ]
     },
     "execution_count": 45,
     "metadata": {},
     "output_type": "execute_result"
    }
   ],
   "source": [
    "problemas"
   ]
  },
  {
   "cell_type": "code",
   "execution_count": 46,
   "metadata": {},
   "outputs": [
    {
     "name": "stdout",
     "output_type": "stream",
     "text": [
      "Distrito Federal True\n",
      "Jalisco True\n",
      "Edo. de México False\n",
      "Oaxaca True\n",
      "Quintana Roo True\n",
      "Colima True\n",
      "San luis Potosí False\n",
      "Nuevo León True\n",
      "Querétaro True\n",
      "Tamaulipas True\n",
      "Puebla True\n",
      "Yucatán True\n",
      "Morelos True\n",
      "Guerrero True\n",
      "Tabasco True\n",
      "Guanajuato True\n",
      "Hidalgo True\n",
      "Veracruz True\n",
      "Chihuahua True\n",
      "Aguascalientes True\n",
      "Sonora True\n",
      "Michoacán True\n",
      "Baja California Norte False\n",
      "Baja California Sur True\n",
      "Coahuila True\n",
      "Durango True\n",
      "Sinaloa True\n",
      "Chiapas True\n",
      "Nayarit True\n",
      "Tlaxcala True\n",
      "Campeche True\n",
      "Zacatecas True\n",
      "nan False\n"
     ]
    }
   ],
   "source": [
    "for item in provincias_df:\n",
    "    isin = item in provincias_map_df\n",
    "    print(item, isin)\n",
    "    if not isin:\n",
    "        problemas.append(item)"
   ]
  },
  {
   "cell_type": "code",
   "execution_count": 47,
   "metadata": {},
   "outputs": [
    {
     "data": {
      "text/plain": [
       "['Baja California',\n",
       " 'México',\n",
       " 'San Luis Potosí',\n",
       " 'Edo. de México',\n",
       " 'San luis Potosí',\n",
       " 'Baja California Norte',\n",
       " nan]"
      ]
     },
     "execution_count": 47,
     "metadata": {},
     "output_type": "execute_result"
    }
   ],
   "source": [
    "problemas"
   ]
  },
  {
   "cell_type": "code",
   "execution_count": 56,
   "metadata": {},
   "outputs": [
    {
     "data": {
      "text/plain": [
       "0     False\n",
       "1     False\n",
       "2      True\n",
       "3     False\n",
       "4     False\n",
       "5     False\n",
       "6     False\n",
       "7     False\n",
       "8     False\n",
       "9     False\n",
       "10    False\n",
       "11    False\n",
       "12    False\n",
       "13    False\n",
       "14     True\n",
       "15    False\n",
       "16    False\n",
       "17    False\n",
       "18    False\n",
       "19    False\n",
       "20    False\n",
       "21    False\n",
       "22    False\n",
       "23     True\n",
       "24    False\n",
       "25    False\n",
       "26    False\n",
       "27    False\n",
       "28    False\n",
       "29    False\n",
       "30    False\n",
       "31    False\n",
       "Name: NAME_1, dtype: bool"
      ]
     },
     "execution_count": 56,
     "metadata": {},
     "output_type": "execute_result"
    }
   ],
   "source": [
    "nombres_replace = {'Baja California': 'Baja California Norte', 'México': 'Edo. de México', 'San Luis Potosí':'San luis Potosí'}\n",
    "map_df['NAME_1'].isin(nombres_replace)"
   ]
  },
  {
   "cell_type": "code",
   "execution_count": 70,
   "metadata": {},
   "outputs": [
    {
     "data": {
      "text/plain": [
       "'Baja California'"
      ]
     },
     "execution_count": 70,
     "metadata": {},
     "output_type": "execute_result"
    }
   ],
   "source": []
  },
  {
   "cell_type": "code",
   "execution_count": 72,
   "metadata": {},
   "outputs": [
    {
     "data": {
      "text/plain": [
       "0            Aguascalientes\n",
       "1       Baja California Sur\n",
       "2     Baja California Norte\n",
       "3                  Campeche\n",
       "4                   Chiapas\n",
       "5                 Chihuahua\n",
       "6                  Coahuila\n",
       "7                    Colima\n",
       "8          Distrito Federal\n",
       "9                   Durango\n",
       "10               Guanajuato\n",
       "11                 Guerrero\n",
       "12                  Hidalgo\n",
       "13                  Jalisco\n",
       "14           Edo. de México\n",
       "15                Michoacán\n",
       "16                  Morelos\n",
       "17                  Nayarit\n",
       "18               Nuevo León\n",
       "19                   Oaxaca\n",
       "20                   Puebla\n",
       "21                Querétaro\n",
       "22             Quintana Roo\n",
       "23          San luis Potosí\n",
       "24                  Sinaloa\n",
       "25                   Sonora\n",
       "26                  Tabasco\n",
       "27               Tamaulipas\n",
       "28                 Tlaxcala\n",
       "29                 Veracruz\n",
       "30                  Yucatán\n",
       "31                Zacatecas\n",
       "Name: NAME_1, dtype: object"
      ]
     },
     "execution_count": 72,
     "metadata": {},
     "output_type": "execute_result"
    }
   ],
   "source": [
    "map_df.NAME_1.replace({'Baja California': 'Baja California Norte', 'México': 'Edo. de México', 'San Luis Potosí':'San luis Potosí'})"
   ]
  },
  {
   "cell_type": "code",
   "execution_count": null,
   "metadata": {},
   "outputs": [],
   "source": []
  }
 ],
 "metadata": {
  "kernelspec": {
   "display_name": "Python 3",
   "language": "python",
   "name": "python3"
  },
  "language_info": {
   "codemirror_mode": {
    "name": "ipython",
    "version": 3
   },
   "file_extension": ".py",
   "mimetype": "text/x-python",
   "name": "python",
   "nbconvert_exporter": "python",
   "pygments_lexer": "ipython3",
   "version": "3.7.4"
  }
 },
 "nbformat": 4,
 "nbformat_minor": 2
}
